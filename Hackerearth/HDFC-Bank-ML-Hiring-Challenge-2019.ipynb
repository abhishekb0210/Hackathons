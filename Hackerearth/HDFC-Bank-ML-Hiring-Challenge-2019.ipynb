{
 "cells": [
  {
   "cell_type": "markdown",
   "metadata": {},
   "source": [
    "## HDFC Bank ML Hiring Challenge'19"
   ]
  },
  {
   "cell_type": "markdown",
   "metadata": {},
   "source": [
    "<html>\n",
    "    <p><img src=\"Problem-1.JPG\" alt=\"ML Hiring Challenge'19-1\"/>\n",
    "    <img src=\"Problem-2.JPG\" alt=\"ML Hiring Challenge'19-2\"/>\n",
    "    <img src=\"Problem-3.JPG\" alt=\"ML Hiring Challenge'19-3\"/></p>\n",
    "    </html>"
   ]
  },
  {
   "cell_type": "markdown",
   "metadata": {},
   "source": [
    "### Importing necessary libraries"
   ]
  },
  {
   "cell_type": "code",
   "execution_count": 5,
   "metadata": {},
   "outputs": [],
   "source": [
    "import pandas as pd\n",
    "import numpy as np\n",
    "from sklearn.model_selection import train_test_split\n",
    "from sklearn.preprocessing import StandardScaler\n",
    "from sklearn.metrics import confusion_matrix\n",
    "from sklearn.metrics import accuracy_score\n",
    "from xgboost import XGBClassifier\n",
    "scaler = StandardScaler()"
   ]
  },
  {
   "cell_type": "markdown",
   "metadata": {},
   "source": [
    "### Importing train and test data"
   ]
  },
  {
   "cell_type": "code",
   "execution_count": 6,
   "metadata": {},
   "outputs": [
    {
     "name": "stderr",
     "output_type": "stream",
     "text": [
      "C:\\Program Files (x86)\\Microsoft Visual Studio\\Shared\\Anaconda3_64\\lib\\site-packages\\IPython\\core\\interactiveshell.py:3058: DtypeWarning: Columns (746,835) have mixed types. Specify dtype option on import or set low_memory=False.\n",
      "  interactivity=interactivity, compiler=compiler, result=result)\n",
      "C:\\Program Files (x86)\\Microsoft Visual Studio\\Shared\\Anaconda3_64\\lib\\site-packages\\IPython\\core\\interactiveshell.py:3058: DtypeWarning: Columns (700,731,740,752,761,789,811,820,829,841,850) have mixed types. Specify dtype option on import or set low_memory=False.\n",
      "  interactivity=interactivity, compiler=compiler, result=result)\n"
     ]
    }
   ],
   "source": [
    "train_orig = pd.read_csv('Train.csv')\n",
    "test_orig = pd.read_csv('Test.csv')"
   ]
  },
  {
   "cell_type": "code",
   "execution_count": 7,
   "metadata": {},
   "outputs": [
    {
     "name": "stdout",
     "output_type": "stream",
     "text": [
      "<class 'pandas.core.frame.DataFrame'>\n",
      "RangeIndex: 17521 entries, 0 to 17520\n",
      "Columns: 2395 entries, Col1 to Col2397\n",
      "dtypes: float64(844), int64(1548), object(3)\n",
      "memory usage: 320.2+ MB\n"
     ]
    }
   ],
   "source": [
    "train_orig.info()"
   ]
  },
  {
   "cell_type": "code",
   "execution_count": 8,
   "metadata": {},
   "outputs": [
    {
     "name": "stdout",
     "output_type": "stream",
     "text": [
      "<class 'pandas.core.frame.DataFrame'>\n",
      "RangeIndex: 20442 entries, 0 to 20441\n",
      "Columns: 2394 entries, Col1 to Col2397\n",
      "dtypes: float64(837), int64(1545), object(12)\n",
      "memory usage: 373.4+ MB\n"
     ]
    }
   ],
   "source": [
    "test_orig.info()"
   ]
  },
  {
   "cell_type": "code",
   "execution_count": 9,
   "metadata": {},
   "outputs": [
    {
     "data": {
      "text/html": [
       "<div>\n",
       "<style scoped>\n",
       "    .dataframe tbody tr th:only-of-type {\n",
       "        vertical-align: middle;\n",
       "    }\n",
       "\n",
       "    .dataframe tbody tr th {\n",
       "        vertical-align: top;\n",
       "    }\n",
       "\n",
       "    .dataframe thead th {\n",
       "        text-align: right;\n",
       "    }\n",
       "</style>\n",
       "<table border=\"1\" class=\"dataframe\">\n",
       "  <thead>\n",
       "    <tr style=\"text-align: right;\">\n",
       "      <th></th>\n",
       "      <th>Col1</th>\n",
       "      <th>Col2</th>\n",
       "      <th>Col3</th>\n",
       "      <th>Col4</th>\n",
       "      <th>Col5</th>\n",
       "      <th>Col6</th>\n",
       "      <th>Col7</th>\n",
       "      <th>Col8</th>\n",
       "      <th>Col9</th>\n",
       "      <th>Col10</th>\n",
       "      <th>...</th>\n",
       "      <th>Col2388</th>\n",
       "      <th>Col2389</th>\n",
       "      <th>Col2390</th>\n",
       "      <th>Col2391</th>\n",
       "      <th>Col2392</th>\n",
       "      <th>Col2393</th>\n",
       "      <th>Col2394</th>\n",
       "      <th>Col2395</th>\n",
       "      <th>Col2396</th>\n",
       "      <th>Col2397</th>\n",
       "    </tr>\n",
       "  </thead>\n",
       "  <tbody>\n",
       "    <tr>\n",
       "      <td>0</td>\n",
       "      <td>RIGHGSN</td>\n",
       "      <td>1</td>\n",
       "      <td>1.086711e+04</td>\n",
       "      <td>8.648345e+03</td>\n",
       "      <td>1.576618e+04</td>\n",
       "      <td>2.890466e+04</td>\n",
       "      <td>5.273655e+03</td>\n",
       "      <td>2.346153e+04</td>\n",
       "      <td>1.285597e+04</td>\n",
       "      <td>2.871509e+04</td>\n",
       "      <td>...</td>\n",
       "      <td>0</td>\n",
       "      <td>1</td>\n",
       "      <td>0</td>\n",
       "      <td>1</td>\n",
       "      <td>214.0</td>\n",
       "      <td>214.0</td>\n",
       "      <td>68.0</td>\n",
       "      <td>22.0</td>\n",
       "      <td>22.0</td>\n",
       "      <td>7.0</td>\n",
       "    </tr>\n",
       "    <tr>\n",
       "      <td>1</td>\n",
       "      <td>RIMHI5ZGP</td>\n",
       "      <td>0</td>\n",
       "      <td>2.584312e+05</td>\n",
       "      <td>2.179633e+05</td>\n",
       "      <td>1.866287e+05</td>\n",
       "      <td>1.866287e+05</td>\n",
       "      <td>2.154519e+05</td>\n",
       "      <td>1.923615e+05</td>\n",
       "      <td>1.726538e+05</td>\n",
       "      <td>1.666974e+05</td>\n",
       "      <td>...</td>\n",
       "      <td>0</td>\n",
       "      <td>0</td>\n",
       "      <td>0</td>\n",
       "      <td>0</td>\n",
       "      <td>41.0</td>\n",
       "      <td>41.0</td>\n",
       "      <td>38.0</td>\n",
       "      <td>12.0</td>\n",
       "      <td>12.0</td>\n",
       "      <td>11.0</td>\n",
       "    </tr>\n",
       "    <tr>\n",
       "      <td>2</td>\n",
       "      <td>RIHOG1SZU</td>\n",
       "      <td>0</td>\n",
       "      <td>1.459355e+07</td>\n",
       "      <td>1.260060e+07</td>\n",
       "      <td>1.100315e+07</td>\n",
       "      <td>1.010315e+07</td>\n",
       "      <td>1.879882e+07</td>\n",
       "      <td>1.514035e+07</td>\n",
       "      <td>5.320778e+06</td>\n",
       "      <td>6.906324e+06</td>\n",
       "      <td>...</td>\n",
       "      <td>0</td>\n",
       "      <td>1</td>\n",
       "      <td>1</td>\n",
       "      <td>0</td>\n",
       "      <td>378.0</td>\n",
       "      <td>378.0</td>\n",
       "      <td>310.0</td>\n",
       "      <td>21.0</td>\n",
       "      <td>21.0</td>\n",
       "      <td>16.0</td>\n",
       "    </tr>\n",
       "    <tr>\n",
       "      <td>3</td>\n",
       "      <td>RIHOLMQWU</td>\n",
       "      <td>0</td>\n",
       "      <td>6.727043e+05</td>\n",
       "      <td>8.181116e+05</td>\n",
       "      <td>6.794893e+05</td>\n",
       "      <td>6.794893e+05</td>\n",
       "      <td>8.257254e+05</td>\n",
       "      <td>7.605803e+05</td>\n",
       "      <td>3.577134e+05</td>\n",
       "      <td>4.236612e+05</td>\n",
       "      <td>...</td>\n",
       "      <td>0</td>\n",
       "      <td>0</td>\n",
       "      <td>0</td>\n",
       "      <td>0</td>\n",
       "      <td>702.0</td>\n",
       "      <td>702.0</td>\n",
       "      <td>644.0</td>\n",
       "      <td>951.0</td>\n",
       "      <td>951.0</td>\n",
       "      <td>743.0</td>\n",
       "    </tr>\n",
       "    <tr>\n",
       "      <td>4</td>\n",
       "      <td>RIHO584ET</td>\n",
       "      <td>0</td>\n",
       "      <td>-1.218742e+06</td>\n",
       "      <td>-3.005361e+06</td>\n",
       "      <td>-1.666241e+05</td>\n",
       "      <td>-2.403574e+06</td>\n",
       "      <td>2.583183e+06</td>\n",
       "      <td>2.086546e+06</td>\n",
       "      <td>5.938358e+06</td>\n",
       "      <td>5.446532e+06</td>\n",
       "      <td>...</td>\n",
       "      <td>0</td>\n",
       "      <td>0</td>\n",
       "      <td>0</td>\n",
       "      <td>0</td>\n",
       "      <td>1305.0</td>\n",
       "      <td>1305.0</td>\n",
       "      <td>1211.0</td>\n",
       "      <td>2205.0</td>\n",
       "      <td>2205.0</td>\n",
       "      <td>1831.0</td>\n",
       "    </tr>\n",
       "  </tbody>\n",
       "</table>\n",
       "<p>5 rows × 2395 columns</p>\n",
       "</div>"
      ],
      "text/plain": [
       "        Col1  Col2          Col3          Col4          Col5          Col6  \\\n",
       "0    RIGHGSN     1  1.086711e+04  8.648345e+03  1.576618e+04  2.890466e+04   \n",
       "1  RIMHI5ZGP     0  2.584312e+05  2.179633e+05  1.866287e+05  1.866287e+05   \n",
       "2  RIHOG1SZU     0  1.459355e+07  1.260060e+07  1.100315e+07  1.010315e+07   \n",
       "3  RIHOLMQWU     0  6.727043e+05  8.181116e+05  6.794893e+05  6.794893e+05   \n",
       "4  RIHO584ET     0 -1.218742e+06 -3.005361e+06 -1.666241e+05 -2.403574e+06   \n",
       "\n",
       "           Col7          Col8          Col9         Col10  ...  Col2388  \\\n",
       "0  5.273655e+03  2.346153e+04  1.285597e+04  2.871509e+04  ...        0   \n",
       "1  2.154519e+05  1.923615e+05  1.726538e+05  1.666974e+05  ...        0   \n",
       "2  1.879882e+07  1.514035e+07  5.320778e+06  6.906324e+06  ...        0   \n",
       "3  8.257254e+05  7.605803e+05  3.577134e+05  4.236612e+05  ...        0   \n",
       "4  2.583183e+06  2.086546e+06  5.938358e+06  5.446532e+06  ...        0   \n",
       "\n",
       "   Col2389  Col2390  Col2391  Col2392  Col2393  Col2394  Col2395  Col2396  \\\n",
       "0        1        0        1    214.0    214.0     68.0     22.0     22.0   \n",
       "1        0        0        0     41.0     41.0     38.0     12.0     12.0   \n",
       "2        1        1        0    378.0    378.0    310.0     21.0     21.0   \n",
       "3        0        0        0    702.0    702.0    644.0    951.0    951.0   \n",
       "4        0        0        0   1305.0   1305.0   1211.0   2205.0   2205.0   \n",
       "\n",
       "   Col2397  \n",
       "0      7.0  \n",
       "1     11.0  \n",
       "2     16.0  \n",
       "3    743.0  \n",
       "4   1831.0  \n",
       "\n",
       "[5 rows x 2395 columns]"
      ]
     },
     "execution_count": 9,
     "metadata": {},
     "output_type": "execute_result"
    }
   ],
   "source": [
    "train_orig.head()"
   ]
  },
  {
   "cell_type": "code",
   "execution_count": 10,
   "metadata": {},
   "outputs": [
    {
     "data": {
      "text/html": [
       "<div>\n",
       "<style scoped>\n",
       "    .dataframe tbody tr th:only-of-type {\n",
       "        vertical-align: middle;\n",
       "    }\n",
       "\n",
       "    .dataframe tbody tr th {\n",
       "        vertical-align: top;\n",
       "    }\n",
       "\n",
       "    .dataframe thead th {\n",
       "        text-align: right;\n",
       "    }\n",
       "</style>\n",
       "<table border=\"1\" class=\"dataframe\">\n",
       "  <thead>\n",
       "    <tr style=\"text-align: right;\">\n",
       "      <th></th>\n",
       "      <th>Col1</th>\n",
       "      <th>Col3</th>\n",
       "      <th>Col4</th>\n",
       "      <th>Col5</th>\n",
       "      <th>Col6</th>\n",
       "      <th>Col7</th>\n",
       "      <th>Col8</th>\n",
       "      <th>Col9</th>\n",
       "      <th>Col10</th>\n",
       "      <th>Col11</th>\n",
       "      <th>...</th>\n",
       "      <th>Col2388</th>\n",
       "      <th>Col2389</th>\n",
       "      <th>Col2390</th>\n",
       "      <th>Col2391</th>\n",
       "      <th>Col2392</th>\n",
       "      <th>Col2393</th>\n",
       "      <th>Col2394</th>\n",
       "      <th>Col2395</th>\n",
       "      <th>Col2396</th>\n",
       "      <th>Col2397</th>\n",
       "    </tr>\n",
       "  </thead>\n",
       "  <tbody>\n",
       "    <tr>\n",
       "      <td>0</td>\n",
       "      <td>RIGD58ZWD</td>\n",
       "      <td>8.167140e+04</td>\n",
       "      <td>8.614542e+04</td>\n",
       "      <td>7.532296e+04</td>\n",
       "      <td>7.532296e+04</td>\n",
       "      <td>1.125174e+05</td>\n",
       "      <td>1.002778e+05</td>\n",
       "      <td>2.038915e+04</td>\n",
       "      <td>3.053853e+04</td>\n",
       "      <td>8.395911e+04</td>\n",
       "      <td>...</td>\n",
       "      <td>0</td>\n",
       "      <td>0</td>\n",
       "      <td>0</td>\n",
       "      <td>0</td>\n",
       "      <td>44.0</td>\n",
       "      <td>44.0</td>\n",
       "      <td>23.0</td>\n",
       "      <td>41.0</td>\n",
       "      <td>41.0</td>\n",
       "      <td>36.0</td>\n",
       "    </tr>\n",
       "    <tr>\n",
       "      <td>1</td>\n",
       "      <td>RIH660YDS</td>\n",
       "      <td>-1.362824e+07</td>\n",
       "      <td>-4.493043e+06</td>\n",
       "      <td>-3.777257e+06</td>\n",
       "      <td>-4.493043e+06</td>\n",
       "      <td>-4.749764e+06</td>\n",
       "      <td>-4.749764e+06</td>\n",
       "      <td>1.147556e+07</td>\n",
       "      <td>1.147556e+07</td>\n",
       "      <td>1.272055e+07</td>\n",
       "      <td>...</td>\n",
       "      <td>1</td>\n",
       "      <td>1</td>\n",
       "      <td>2</td>\n",
       "      <td>2</td>\n",
       "      <td>1234.0</td>\n",
       "      <td>1234.0</td>\n",
       "      <td>680.0</td>\n",
       "      <td>154.0</td>\n",
       "      <td>153.0</td>\n",
       "      <td>86.0</td>\n",
       "    </tr>\n",
       "    <tr>\n",
       "      <td>2</td>\n",
       "      <td>RIH660Q96</td>\n",
       "      <td>1.302700e+06</td>\n",
       "      <td>1.341449e+06</td>\n",
       "      <td>1.240085e+06</td>\n",
       "      <td>1.341449e+06</td>\n",
       "      <td>1.477503e+06</td>\n",
       "      <td>1.477503e+06</td>\n",
       "      <td>3.904086e+05</td>\n",
       "      <td>3.904086e+05</td>\n",
       "      <td>4.979106e+05</td>\n",
       "      <td>...</td>\n",
       "      <td>0</td>\n",
       "      <td>0</td>\n",
       "      <td>0</td>\n",
       "      <td>0</td>\n",
       "      <td>33.0</td>\n",
       "      <td>24.0</td>\n",
       "      <td>19.0</td>\n",
       "      <td>3.0</td>\n",
       "      <td>1.0</td>\n",
       "      <td>1.0</td>\n",
       "    </tr>\n",
       "    <tr>\n",
       "      <td>3</td>\n",
       "      <td>RIYDO15W1</td>\n",
       "      <td>1.932258e+05</td>\n",
       "      <td>1.454433e+05</td>\n",
       "      <td>1.929148e+05</td>\n",
       "      <td>1.454433e+05</td>\n",
       "      <td>1.318250e+04</td>\n",
       "      <td>1.318250e+04</td>\n",
       "      <td>8.650108e+04</td>\n",
       "      <td>8.650108e+04</td>\n",
       "      <td>5.896693e+03</td>\n",
       "      <td>...</td>\n",
       "      <td>0</td>\n",
       "      <td>0</td>\n",
       "      <td>0</td>\n",
       "      <td>0</td>\n",
       "      <td>8.0</td>\n",
       "      <td>8.0</td>\n",
       "      <td>3.0</td>\n",
       "      <td>7.0</td>\n",
       "      <td>7.0</td>\n",
       "      <td>3.0</td>\n",
       "    </tr>\n",
       "    <tr>\n",
       "      <td>4</td>\n",
       "      <td>RIYBGC1ZD</td>\n",
       "      <td>3.913385e+05</td>\n",
       "      <td>1.987337e+05</td>\n",
       "      <td>1.703432e+05</td>\n",
       "      <td>1.987337e+05</td>\n",
       "      <td>3.046536e+05</td>\n",
       "      <td>3.046536e+05</td>\n",
       "      <td>2.528307e+05</td>\n",
       "      <td>2.528307e+05</td>\n",
       "      <td>3.034449e+05</td>\n",
       "      <td>...</td>\n",
       "      <td>0</td>\n",
       "      <td>0</td>\n",
       "      <td>0</td>\n",
       "      <td>0</td>\n",
       "      <td>7.0</td>\n",
       "      <td>7.0</td>\n",
       "      <td>7.0</td>\n",
       "      <td>6.0</td>\n",
       "      <td>6.0</td>\n",
       "      <td>5.0</td>\n",
       "    </tr>\n",
       "  </tbody>\n",
       "</table>\n",
       "<p>5 rows × 2394 columns</p>\n",
       "</div>"
      ],
      "text/plain": [
       "        Col1          Col3          Col4          Col5          Col6  \\\n",
       "0  RIGD58ZWD  8.167140e+04  8.614542e+04  7.532296e+04  7.532296e+04   \n",
       "1  RIH660YDS -1.362824e+07 -4.493043e+06 -3.777257e+06 -4.493043e+06   \n",
       "2  RIH660Q96  1.302700e+06  1.341449e+06  1.240085e+06  1.341449e+06   \n",
       "3  RIYDO15W1  1.932258e+05  1.454433e+05  1.929148e+05  1.454433e+05   \n",
       "4  RIYBGC1ZD  3.913385e+05  1.987337e+05  1.703432e+05  1.987337e+05   \n",
       "\n",
       "           Col7          Col8          Col9         Col10         Col11  ...  \\\n",
       "0  1.125174e+05  1.002778e+05  2.038915e+04  3.053853e+04  8.395911e+04  ...   \n",
       "1 -4.749764e+06 -4.749764e+06  1.147556e+07  1.147556e+07  1.272055e+07  ...   \n",
       "2  1.477503e+06  1.477503e+06  3.904086e+05  3.904086e+05  4.979106e+05  ...   \n",
       "3  1.318250e+04  1.318250e+04  8.650108e+04  8.650108e+04  5.896693e+03  ...   \n",
       "4  3.046536e+05  3.046536e+05  2.528307e+05  2.528307e+05  3.034449e+05  ...   \n",
       "\n",
       "   Col2388  Col2389  Col2390  Col2391  Col2392  Col2393  Col2394  Col2395  \\\n",
       "0        0        0        0        0     44.0     44.0     23.0     41.0   \n",
       "1        1        1        2        2   1234.0   1234.0    680.0    154.0   \n",
       "2        0        0        0        0     33.0     24.0     19.0      3.0   \n",
       "3        0        0        0        0      8.0      8.0      3.0      7.0   \n",
       "4        0        0        0        0      7.0      7.0      7.0      6.0   \n",
       "\n",
       "   Col2396  Col2397  \n",
       "0     41.0     36.0  \n",
       "1    153.0     86.0  \n",
       "2      1.0      1.0  \n",
       "3      7.0      3.0  \n",
       "4      6.0      5.0  \n",
       "\n",
       "[5 rows x 2394 columns]"
      ]
     },
     "execution_count": 10,
     "metadata": {},
     "output_type": "execute_result"
    }
   ],
   "source": [
    "test_orig.head()"
   ]
  },
  {
   "cell_type": "code",
   "execution_count": 11,
   "metadata": {},
   "outputs": [],
   "source": [
    "# 3 Categorial features in train data and 12 categorial features in test data\n",
    "#Total number of columns in train data is 2395\n",
    "#Total number of columns in test data is 2394\n",
    "# Labelled column in train data is \"Col2\" and ID column is \"Col1\"\n",
    "# ID column in test data is \"Col1\""
   ]
  },
  {
   "cell_type": "markdown",
   "metadata": {},
   "source": [
    "### Target variable distribution in training data"
   ]
  },
  {
   "cell_type": "code",
   "execution_count": 12,
   "metadata": {},
   "outputs": [
    {
     "data": {
      "text/plain": [
       "0    15760\n",
       "1     1761\n",
       "Name: Col2, dtype: int64"
      ]
     },
     "execution_count": 12,
     "metadata": {},
     "output_type": "execute_result"
    }
   ],
   "source": [
    "train_orig.Col2.value_counts()"
   ]
  },
  {
   "cell_type": "code",
   "execution_count": 13,
   "metadata": {},
   "outputs": [],
   "source": [
    "# Clearly we've biased data as the output with \"1\" is only 10% of total data"
   ]
  },
  {
   "cell_type": "markdown",
   "metadata": {},
   "source": [
    "### Handling NaNs"
   ]
  },
  {
   "cell_type": "markdown",
   "metadata": {},
   "source": [
    "#### Train  NaNs"
   ]
  },
  {
   "cell_type": "code",
   "execution_count": 14,
   "metadata": {},
   "outputs": [],
   "source": [
    "#temporary dataframe to handle NaNs\n",
    "withNan_df = train_orig.loc[:, train_orig.isna().any()]"
   ]
  },
  {
   "cell_type": "code",
   "execution_count": 15,
   "metadata": {},
   "outputs": [
    {
     "data": {
      "text/html": [
       "<div>\n",
       "<style scoped>\n",
       "    .dataframe tbody tr th:only-of-type {\n",
       "        vertical-align: middle;\n",
       "    }\n",
       "\n",
       "    .dataframe tbody tr th {\n",
       "        vertical-align: top;\n",
       "    }\n",
       "\n",
       "    .dataframe thead th {\n",
       "        text-align: right;\n",
       "    }\n",
       "</style>\n",
       "<table border=\"1\" class=\"dataframe\">\n",
       "  <thead>\n",
       "    <tr style=\"text-align: right;\">\n",
       "      <th></th>\n",
       "      <th>Col13</th>\n",
       "      <th>Col14</th>\n",
       "      <th>Col15</th>\n",
       "      <th>Col16</th>\n",
       "      <th>Col17</th>\n",
       "      <th>Col18</th>\n",
       "      <th>Col19</th>\n",
       "      <th>Col20</th>\n",
       "      <th>Col21</th>\n",
       "      <th>Col22</th>\n",
       "      <th>...</th>\n",
       "      <th>Col930</th>\n",
       "      <th>Col931</th>\n",
       "      <th>Col932</th>\n",
       "      <th>Col933</th>\n",
       "      <th>Col2392</th>\n",
       "      <th>Col2393</th>\n",
       "      <th>Col2394</th>\n",
       "      <th>Col2395</th>\n",
       "      <th>Col2396</th>\n",
       "      <th>Col2397</th>\n",
       "    </tr>\n",
       "  </thead>\n",
       "  <tbody>\n",
       "    <tr>\n",
       "      <td>0</td>\n",
       "      <td>9.293496</td>\n",
       "      <td>8.570479</td>\n",
       "      <td>10.063117</td>\n",
       "      <td>10.271758</td>\n",
       "      <td>0.548538</td>\n",
       "      <td>0.403366</td>\n",
       "      <td>NaN</td>\n",
       "      <td>NaN</td>\n",
       "      <td>1.486524</td>\n",
       "      <td>1.728324</td>\n",
       "      <td>...</td>\n",
       "      <td>NaN</td>\n",
       "      <td>0.000000</td>\n",
       "      <td>0.000000</td>\n",
       "      <td>0.000000</td>\n",
       "      <td>214.0</td>\n",
       "      <td>214.0</td>\n",
       "      <td>68.0</td>\n",
       "      <td>22.0</td>\n",
       "      <td>22.0</td>\n",
       "      <td>7.0</td>\n",
       "    </tr>\n",
       "    <tr>\n",
       "      <td>1</td>\n",
       "      <td>12.462385</td>\n",
       "      <td>12.280493</td>\n",
       "      <td>12.167132</td>\n",
       "      <td>12.136876</td>\n",
       "      <td>1.167898</td>\n",
       "      <td>2.676398</td>\n",
       "      <td>NaN</td>\n",
       "      <td>NaN</td>\n",
       "      <td>0.792123</td>\n",
       "      <td>0.934556</td>\n",
       "      <td>...</td>\n",
       "      <td>1.0</td>\n",
       "      <td>0.306122</td>\n",
       "      <td>0.306122</td>\n",
       "      <td>0.326087</td>\n",
       "      <td>41.0</td>\n",
       "      <td>41.0</td>\n",
       "      <td>38.0</td>\n",
       "      <td>12.0</td>\n",
       "      <td>12.0</td>\n",
       "      <td>11.0</td>\n",
       "    </tr>\n",
       "    <tr>\n",
       "      <td>2</td>\n",
       "      <td>16.496090</td>\n",
       "      <td>16.749305</td>\n",
       "      <td>16.532874</td>\n",
       "      <td>16.128357</td>\n",
       "      <td>1.145182</td>\n",
       "      <td>2.203874</td>\n",
       "      <td>NaN</td>\n",
       "      <td>NaN</td>\n",
       "      <td>0.422264</td>\n",
       "      <td>0.498347</td>\n",
       "      <td>...</td>\n",
       "      <td>NaN</td>\n",
       "      <td>0.740458</td>\n",
       "      <td>0.740458</td>\n",
       "      <td>0.794749</td>\n",
       "      <td>378.0</td>\n",
       "      <td>378.0</td>\n",
       "      <td>310.0</td>\n",
       "      <td>21.0</td>\n",
       "      <td>21.0</td>\n",
       "      <td>16.0</td>\n",
       "    </tr>\n",
       "    <tr>\n",
       "      <td>3</td>\n",
       "      <td>13.419061</td>\n",
       "      <td>13.624018</td>\n",
       "      <td>13.541837</td>\n",
       "      <td>13.429097</td>\n",
       "      <td>1.204010</td>\n",
       "      <td>0.536304</td>\n",
       "      <td>NaN</td>\n",
       "      <td>NaN</td>\n",
       "      <td>0.437243</td>\n",
       "      <td>0.521341</td>\n",
       "      <td>...</td>\n",
       "      <td>NaN</td>\n",
       "      <td>0.502662</td>\n",
       "      <td>0.502662</td>\n",
       "      <td>0.465228</td>\n",
       "      <td>702.0</td>\n",
       "      <td>702.0</td>\n",
       "      <td>644.0</td>\n",
       "      <td>951.0</td>\n",
       "      <td>951.0</td>\n",
       "      <td>743.0</td>\n",
       "    </tr>\n",
       "    <tr>\n",
       "      <td>4</td>\n",
       "      <td>NaN</td>\n",
       "      <td>14.764533</td>\n",
       "      <td>14.551021</td>\n",
       "      <td>NaN</td>\n",
       "      <td>NaN</td>\n",
       "      <td>NaN</td>\n",
       "      <td>NaN</td>\n",
       "      <td>NaN</td>\n",
       "      <td>NaN</td>\n",
       "      <td>1.344637</td>\n",
       "      <td>...</td>\n",
       "      <td>4.0</td>\n",
       "      <td>0.532091</td>\n",
       "      <td>0.532091</td>\n",
       "      <td>0.442589</td>\n",
       "      <td>1305.0</td>\n",
       "      <td>1305.0</td>\n",
       "      <td>1211.0</td>\n",
       "      <td>2205.0</td>\n",
       "      <td>2205.0</td>\n",
       "      <td>1831.0</td>\n",
       "    </tr>\n",
       "  </tbody>\n",
       "</table>\n",
       "<p>5 rows × 759 columns</p>\n",
       "</div>"
      ],
      "text/plain": [
       "       Col13      Col14      Col15      Col16     Col17     Col18  Col19  \\\n",
       "0   9.293496   8.570479  10.063117  10.271758  0.548538  0.403366    NaN   \n",
       "1  12.462385  12.280493  12.167132  12.136876  1.167898  2.676398    NaN   \n",
       "2  16.496090  16.749305  16.532874  16.128357  1.145182  2.203874    NaN   \n",
       "3  13.419061  13.624018  13.541837  13.429097  1.204010  0.536304    NaN   \n",
       "4        NaN  14.764533  14.551021        NaN       NaN       NaN    NaN   \n",
       "\n",
       "   Col20     Col21     Col22  ...  Col930    Col931    Col932    Col933  \\\n",
       "0    NaN  1.486524  1.728324  ...     NaN  0.000000  0.000000  0.000000   \n",
       "1    NaN  0.792123  0.934556  ...     1.0  0.306122  0.306122  0.326087   \n",
       "2    NaN  0.422264  0.498347  ...     NaN  0.740458  0.740458  0.794749   \n",
       "3    NaN  0.437243  0.521341  ...     NaN  0.502662  0.502662  0.465228   \n",
       "4    NaN       NaN  1.344637  ...     4.0  0.532091  0.532091  0.442589   \n",
       "\n",
       "   Col2392  Col2393  Col2394  Col2395  Col2396  Col2397  \n",
       "0    214.0    214.0     68.0     22.0     22.0      7.0  \n",
       "1     41.0     41.0     38.0     12.0     12.0     11.0  \n",
       "2    378.0    378.0    310.0     21.0     21.0     16.0  \n",
       "3    702.0    702.0    644.0    951.0    951.0    743.0  \n",
       "4   1305.0   1305.0   1211.0   2205.0   2205.0   1831.0  \n",
       "\n",
       "[5 rows x 759 columns]"
      ]
     },
     "execution_count": 15,
     "metadata": {},
     "output_type": "execute_result"
    }
   ],
   "source": [
    "withNan_df.head()"
   ]
  },
  {
   "cell_type": "code",
   "execution_count": 16,
   "metadata": {},
   "outputs": [
    {
     "name": "stdout",
     "output_type": "stream",
     "text": [
      "Total deleted columns:  261\n"
     ]
    }
   ],
   "source": [
    "def get_percentage_missing(series):\n",
    "    \"\"\" Calculates percentage of NaN values in DataFrame\n",
    "    :param series: Pandas DataFrame object\n",
    "    :return: float\n",
    "    \"\"\"\n",
    "    num = series.isnull().sum()\n",
    "    den = len(series)\n",
    "    return round(num/den, 2)\n",
    "\n",
    "# Iterate over columns in DataFrame and delete those where >30% of the values are null/NaN\n",
    "count = 0\n",
    "nanCols = []\n",
    "for name, values in withNan_df.iteritems():\n",
    "    #print(\"%r: %r\" % (name, values) )\n",
    "    if get_percentage_missing(withNan_df[name]) > 0.3:\n",
    "        count+=1\n",
    "        nanCols.append(name)\n",
    "        #print(\"Deleting Column %r: \" % (name) )\n",
    "        \n",
    "        #withNan_df.drop(name, axis=1, inplace=True)\n",
    "train_orig.drop(nanCols, inplace=True, axis=1)\n",
    "print(\"Total deleted columns: \",count)"
   ]
  },
  {
   "cell_type": "code",
   "execution_count": 17,
   "metadata": {},
   "outputs": [],
   "source": [
    "#Replacing rest of the columns containing NaNs with corresponding Mean\n",
    "train_temp = train_orig.fillna(train_orig.mean())"
   ]
  },
  {
   "cell_type": "markdown",
   "metadata": {},
   "source": [
    "#### Test Data NaNs"
   ]
  },
  {
   "cell_type": "code",
   "execution_count": 18,
   "metadata": {},
   "outputs": [],
   "source": [
    "# Dropping columns  where >30% of the values are null/NaN from test data as well\n",
    "test_orig.drop(nanCols, inplace=True, axis=1)"
   ]
  },
  {
   "cell_type": "code",
   "execution_count": 19,
   "metadata": {},
   "outputs": [],
   "source": [
    "#Replacing columns containing NaNs with corresponding Mean\n",
    "test_temp = test_orig.fillna(test_orig.mean())"
   ]
  },
  {
   "cell_type": "code",
   "execution_count": null,
   "metadata": {},
   "outputs": [],
   "source": []
  },
  {
   "cell_type": "markdown",
   "metadata": {},
   "source": [
    "### Handling Categorical Variables - Train and Test Data"
   ]
  },
  {
   "cell_type": "code",
   "execution_count": 20,
   "metadata": {},
   "outputs": [
    {
     "name": "stdout",
     "output_type": "stream",
     "text": [
      "feature:  Col1\n"
     ]
    }
   ],
   "source": [
    "#Train data\n",
    "train_obj_features = [];\n",
    "for feature in train_temp.columns:\n",
    "    if(train_temp[feature].dtype == 'object'):\n",
    "        print('feature: ', feature)\n",
    "        train_obj_features.append(feature)      "
   ]
  },
  {
   "cell_type": "code",
   "execution_count": 21,
   "metadata": {},
   "outputs": [
    {
     "data": {
      "text/html": [
       "<div>\n",
       "<style scoped>\n",
       "    .dataframe tbody tr th:only-of-type {\n",
       "        vertical-align: middle;\n",
       "    }\n",
       "\n",
       "    .dataframe tbody tr th {\n",
       "        vertical-align: top;\n",
       "    }\n",
       "\n",
       "    .dataframe thead th {\n",
       "        text-align: right;\n",
       "    }\n",
       "</style>\n",
       "<table border=\"1\" class=\"dataframe\">\n",
       "  <thead>\n",
       "    <tr style=\"text-align: right;\">\n",
       "      <th></th>\n",
       "      <th>Col1</th>\n",
       "    </tr>\n",
       "  </thead>\n",
       "  <tbody>\n",
       "    <tr>\n",
       "      <td>0</td>\n",
       "      <td>RIGHGSN</td>\n",
       "    </tr>\n",
       "    <tr>\n",
       "      <td>1</td>\n",
       "      <td>RIMHI5ZGP</td>\n",
       "    </tr>\n",
       "    <tr>\n",
       "      <td>2</td>\n",
       "      <td>RIHOG1SZU</td>\n",
       "    </tr>\n",
       "    <tr>\n",
       "      <td>3</td>\n",
       "      <td>RIHOLMQWU</td>\n",
       "    </tr>\n",
       "    <tr>\n",
       "      <td>4</td>\n",
       "      <td>RIHO584ET</td>\n",
       "    </tr>\n",
       "    <tr>\n",
       "      <td>...</td>\n",
       "      <td>...</td>\n",
       "    </tr>\n",
       "    <tr>\n",
       "      <td>17516</td>\n",
       "      <td>M9ERLMQ</td>\n",
       "    </tr>\n",
       "    <tr>\n",
       "      <td>17517</td>\n",
       "      <td>M1W6L8S</td>\n",
       "    </tr>\n",
       "    <tr>\n",
       "      <td>17518</td>\n",
       "      <td>MD5BL5K</td>\n",
       "    </tr>\n",
       "    <tr>\n",
       "      <td>17519</td>\n",
       "      <td>MYLOQ8Y</td>\n",
       "    </tr>\n",
       "    <tr>\n",
       "      <td>17520</td>\n",
       "      <td>M2YK6ON</td>\n",
       "    </tr>\n",
       "  </tbody>\n",
       "</table>\n",
       "<p>17521 rows × 1 columns</p>\n",
       "</div>"
      ],
      "text/plain": [
       "            Col1\n",
       "0        RIGHGSN\n",
       "1      RIMHI5ZGP\n",
       "2      RIHOG1SZU\n",
       "3      RIHOLMQWU\n",
       "4      RIHO584ET\n",
       "...          ...\n",
       "17516    M9ERLMQ\n",
       "17517    M1W6L8S\n",
       "17518    MD5BL5K\n",
       "17519    MYLOQ8Y\n",
       "17520    M2YK6ON\n",
       "\n",
       "[17521 rows x 1 columns]"
      ]
     },
     "execution_count": 21,
     "metadata": {},
     "output_type": "execute_result"
    }
   ],
   "source": [
    "train_temp.loc[:,train_obj_features]"
   ]
  },
  {
   "cell_type": "code",
   "execution_count": 22,
   "metadata": {},
   "outputs": [
    {
     "data": {
      "text/plain": [
       "Col1    0\n",
       "dtype: int64"
      ]
     },
     "execution_count": 22,
     "metadata": {},
     "output_type": "execute_result"
    }
   ],
   "source": [
    "train_temp.loc[:,train_obj_features].isna().sum()"
   ]
  },
  {
   "cell_type": "code",
   "execution_count": 23,
   "metadata": {},
   "outputs": [],
   "source": [
    "#Clearly there are no categorical featured with NaNs in train data & Col1 is ID column"
   ]
  },
  {
   "cell_type": "code",
   "execution_count": 24,
   "metadata": {},
   "outputs": [
    {
     "name": "stdout",
     "output_type": "stream",
     "text": [
      "feature:  Col1\n"
     ]
    }
   ],
   "source": [
    "#Test data\n",
    "test_obj_features = []\n",
    "for feature in test_temp.columns:\n",
    "    if(test_temp[feature].dtype == 'object'):\n",
    "        print('feature: ', feature)\n",
    "        test_obj_features.append(feature)"
   ]
  },
  {
   "cell_type": "code",
   "execution_count": 25,
   "metadata": {},
   "outputs": [
    {
     "data": {
      "text/plain": [
       "Col1    0\n",
       "dtype: int64"
      ]
     },
     "execution_count": 25,
     "metadata": {},
     "output_type": "execute_result"
    }
   ],
   "source": [
    "test_temp.loc[:,test_obj_features].isna().sum()"
   ]
  },
  {
   "cell_type": "code",
   "execution_count": 26,
   "metadata": {},
   "outputs": [],
   "source": [
    "# As we can notice from the above, there are no categorical variables with missing info in train and test data"
   ]
  },
  {
   "cell_type": "code",
   "execution_count": 27,
   "metadata": {},
   "outputs": [
    {
     "data": {
      "text/plain": [
       "17521"
      ]
     },
     "execution_count": 27,
     "metadata": {},
     "output_type": "execute_result"
    }
   ],
   "source": [
    "len(train_temp.Col1.unique()) # All IDs are unique, no action required"
   ]
  },
  {
   "cell_type": "code",
   "execution_count": 28,
   "metadata": {},
   "outputs": [
    {
     "data": {
      "text/plain": [
       "20442"
      ]
     },
     "execution_count": 28,
     "metadata": {},
     "output_type": "execute_result"
    }
   ],
   "source": [
    "len(test_temp.Col1.unique()) # All IDs are unique, no action required"
   ]
  },
  {
   "cell_type": "code",
   "execution_count": 29,
   "metadata": {},
   "outputs": [
    {
     "data": {
      "text/plain": [
       "2134"
      ]
     },
     "execution_count": 29,
     "metadata": {},
     "output_type": "execute_result"
    }
   ],
   "source": [
    "len(train_temp.columns)"
   ]
  },
  {
   "cell_type": "code",
   "execution_count": 30,
   "metadata": {},
   "outputs": [
    {
     "data": {
      "text/plain": [
       "2134"
      ]
     },
     "execution_count": 30,
     "metadata": {},
     "output_type": "execute_result"
    }
   ],
   "source": [
    "len(train_orig.columns)"
   ]
  },
  {
   "cell_type": "code",
   "execution_count": null,
   "metadata": {},
   "outputs": [],
   "source": []
  },
  {
   "cell_type": "markdown",
   "metadata": {},
   "source": [
    "### Correlation within features and with target variable"
   ]
  },
  {
   "cell_type": "code",
   "execution_count": 31,
   "metadata": {},
   "outputs": [],
   "source": [
    "y = train_temp['Col2']\n",
    "#Removing categorical ID column\n",
    "X = train_temp.drop(['Col1'], axis=1) \n"
   ]
  },
  {
   "cell_type": "code",
   "execution_count": 32,
   "metadata": {},
   "outputs": [
    {
     "data": {
      "text/plain": [
       "Index(['Col2', 'Col3', 'Col9', 'Col13', 'Col14', 'Col17', 'Col18', 'Col21',\n",
       "       'Col22', 'Col23',\n",
       "       ...\n",
       "       'Col1383', 'Col1386', 'Col1387', 'Col1388', 'Col1389', 'Col1527',\n",
       "       'Col1575', 'Col1589', 'Col1617', 'Col1631'],\n",
       "      dtype='object', length=427)"
      ]
     },
     "execution_count": 32,
     "metadata": {},
     "output_type": "execute_result"
    }
   ],
   "source": [
    "# compare the correlation between features and remove one of two features that have a correlation higher than 0.9\n",
    "import numpy as np\n",
    "corr = abs(X.corr())\n",
    "columns = np.full((corr.shape[0],), True, dtype=bool)\n",
    "columns\n",
    "for i in range(corr.shape[0]):\n",
    "    for j in range(i+1, corr.shape[0]):\n",
    "        if corr.iloc[i,j] >= 0.9:\n",
    "            if columns[j]:\n",
    "                columns[j] = False\n",
    "selected_columns = X.columns[columns]\n",
    "# #vehicle_cleaned_df_new = vehicle_cleaned_df[selected_columns]\n",
    "selected_columns"
   ]
  },
  {
   "cell_type": "code",
   "execution_count": 33,
   "metadata": {},
   "outputs": [
    {
     "data": {
      "text/plain": [
       "Index(['Col2', 'Col13', 'Col14', 'Col15', 'Col16', 'Col51', 'Col59', 'Col125',\n",
       "       'Col127', 'Col133', 'Col135', 'Col162', 'Col164', 'Col166', 'Col176',\n",
       "       'Col178', 'Col180', 'Col183', 'Col186', 'Col193', 'Col231', 'Col234',\n",
       "       'Col240', 'Col243', 'Col300', 'Col319', 'Col330', 'Col380', 'Col383',\n",
       "       'Col390', 'Col428', 'Col430', 'Col431', 'Col437', 'Col440', 'Col497',\n",
       "       'Col516', 'Col527', 'Col577', 'Col579', 'Col586', 'Col614', 'Col624',\n",
       "       'Col626', 'Col627', 'Col633', 'Col636', 'Col647', 'Col677', 'Col874',\n",
       "       'Col875', 'Col876', 'Col877', 'Col892', 'Col901', 'Col910', 'Col913',\n",
       "       'Col914', 'Col915', 'Col931', 'Col932', 'Col933', 'Col1322', 'Col1323',\n",
       "       'Col1364', 'Col1365', 'Col1386', 'Col1412', 'Col1413', 'Col1454',\n",
       "       'Col1455', 'Col1476', 'Col1502', 'Col1503', 'Col1544', 'Col1545',\n",
       "       'Col1566', 'Col1592', 'Col1593', 'Col1634', 'Col1656', 'Col2052',\n",
       "       'Col2053', 'Col2094', 'Col2095', 'Col2116', 'Col2142', 'Col2143',\n",
       "       'Col2184', 'Col2185', 'Col2232', 'Col2233', 'Col2274', 'Col2275',\n",
       "       'Col2322', 'Col2323', 'Col2364'],\n",
       "      dtype='object')"
      ]
     },
     "execution_count": 33,
     "metadata": {},
     "output_type": "execute_result"
    }
   ],
   "source": [
    "#Correlation with the output variable\n",
    "cor_target = abs(corr[\"Col2\"])\n",
    "#Selecting highly correlated features\n",
    "relevant_features = cor_target[cor_target>0.1]\n",
    "relevant_features.index\n",
    "#"
   ]
  },
  {
   "cell_type": "code",
   "execution_count": 34,
   "metadata": {},
   "outputs": [],
   "source": [
    "# Common important features\n",
    "final_features= pd.Series(list(set(selected_columns).intersection(set(relevant_features.index))))"
   ]
  },
  {
   "cell_type": "code",
   "execution_count": 35,
   "metadata": {},
   "outputs": [
    {
     "name": "stdout",
     "output_type": "stream",
     "text": [
      "Col2\n"
     ]
    }
   ],
   "source": [
    "#Removing the target column\n",
    "# iterate over all the elements \n",
    "for items in final_features.iteritems(): \n",
    "    if(items[1] == 'Col2'):\n",
    "        print(items[1]) \n",
    "        final_features = final_features.drop(items[0])"
   ]
  },
  {
   "cell_type": "code",
   "execution_count": 36,
   "metadata": {},
   "outputs": [],
   "source": [
    "X = train_temp[final_features]"
   ]
  },
  {
   "cell_type": "code",
   "execution_count": 37,
   "metadata": {},
   "outputs": [
    {
     "data": {
      "text/plain": [
       "(17521, 35)"
      ]
     },
     "execution_count": 37,
     "metadata": {},
     "output_type": "execute_result"
    }
   ],
   "source": [
    "X.shape"
   ]
  },
  {
   "cell_type": "code",
   "execution_count": 38,
   "metadata": {},
   "outputs": [],
   "source": [
    "#Applying the same columns to test data\n",
    "X_test = test_temp[final_features]\n",
    "#Appending ID Column\n",
    "Col1 = test_temp['Col1']"
   ]
  },
  {
   "cell_type": "markdown",
   "metadata": {},
   "source": [
    "### Train & Validation Split"
   ]
  },
  {
   "cell_type": "code",
   "execution_count": 39,
   "metadata": {},
   "outputs": [],
   "source": [
    "X_train,X_val,y_train,y_val = train_test_split(X, y, test_size=0.20, random_state=1)"
   ]
  },
  {
   "cell_type": "code",
   "execution_count": 40,
   "metadata": {},
   "outputs": [
    {
     "name": "stdout",
     "output_type": "stream",
     "text": [
      "(14016, 35)\n",
      "(3505, 35)\n",
      "(14016, 1)\n",
      "(3505, 1)\n"
     ]
    }
   ],
   "source": [
    "#converting Series to frame as sklearn standardscalar accepts only frames\n",
    "y_train = y_train.to_frame()\n",
    "y_val = y_val.to_frame()\n",
    "print(X_train.shape)\n",
    "print(X_val.shape)\n",
    "print(y_train.shape)\n",
    "print(y_val.shape)"
   ]
  },
  {
   "cell_type": "markdown",
   "metadata": {},
   "source": [
    "### Scale the data"
   ]
  },
  {
   "cell_type": "code",
   "execution_count": 41,
   "metadata": {},
   "outputs": [],
   "source": [
    "X_train = scaler.fit_transform(X_train)\n",
    "X_val = scaler.fit_transform(X_val)"
   ]
  },
  {
   "cell_type": "code",
   "execution_count": 42,
   "metadata": {},
   "outputs": [],
   "source": [
    "X_test = scaler.transform(X_test)"
   ]
  },
  {
   "cell_type": "markdown",
   "metadata": {},
   "source": [
    "### Using Gradient Boosting Classifier "
   ]
  },
  {
   "cell_type": "code",
   "execution_count": 518,
   "metadata": {},
   "outputs": [
    {
     "name": "stderr",
     "output_type": "stream",
     "text": [
      "C:\\Program Files (x86)\\Microsoft Visual Studio\\Shared\\Anaconda3_64\\lib\\site-packages\\sklearn\\ensemble\\gradient_boosting.py:1450: DataConversionWarning: A column-vector y was passed when a 1d array was expected. Please change the shape of y to (n_samples, ), for example using ravel().\n",
      "  y = column_or_1d(y, warn=True)\n"
     ]
    }
   ],
   "source": [
    "from sklearn.ensemble import GradientBoostingClassifier\n",
    "gbcl = GradientBoostingClassifier(n_estimators = 50, random_state=1)\n",
    "gbcl = gbcl.fit(X_train, y_train)"
   ]
  },
  {
   "cell_type": "code",
   "execution_count": 519,
   "metadata": {},
   "outputs": [
    {
     "data": {
      "text/plain": [
       "0.9004279600570614"
      ]
     },
     "execution_count": 519,
     "metadata": {},
     "output_type": "execute_result"
    }
   ],
   "source": [
    "gbcl.score(X_val,y_val)"
   ]
  },
  {
   "cell_type": "code",
   "execution_count": 520,
   "metadata": {},
   "outputs": [],
   "source": [
    "y_pred_gbcl = gbcl.predict(X_test)\n",
    "data = pd.DataFrame(columns=['Col1','Col2'])\n",
    "data['Col1'] = Col1\n",
    "data['Col2'] = y_pred_gbcl\n",
    "data.to_csv(\"GradientBoostingClassifier.csv\", index = False ) # Saving the output in to an excel\n",
    "#print(test_orig['loan_id'])"
   ]
  },
  {
   "cell_type": "code",
   "execution_count": null,
   "metadata": {},
   "outputs": [],
   "source": []
  },
  {
   "cell_type": "markdown",
   "metadata": {},
   "source": [
    "### Using XGBoost "
   ]
  },
  {
   "cell_type": "code",
   "execution_count": 43,
   "metadata": {},
   "outputs": [
    {
     "name": "stderr",
     "output_type": "stream",
     "text": [
      "C:\\Program Files (x86)\\Microsoft Visual Studio\\Shared\\Anaconda3_64\\lib\\site-packages\\sklearn\\preprocessing\\label.py:219: DataConversionWarning: A column-vector y was passed when a 1d array was expected. Please change the shape of y to (n_samples, ), for example using ravel().\n",
      "  y = column_or_1d(y, warn=True)\n",
      "C:\\Program Files (x86)\\Microsoft Visual Studio\\Shared\\Anaconda3_64\\lib\\site-packages\\sklearn\\preprocessing\\label.py:252: DataConversionWarning: A column-vector y was passed when a 1d array was expected. Please change the shape of y to (n_samples, ), for example using ravel().\n",
      "  y = column_or_1d(y, warn=True)\n"
     ]
    },
    {
     "data": {
      "text/plain": [
       "XGBClassifier(base_score=0.5, booster='gbtree', colsample_bylevel=1,\n",
       "              colsample_bynode=1, colsample_bytree=1, gamma=0,\n",
       "              learning_rate=0.1, max_delta_step=0, max_depth=3,\n",
       "              min_child_weight=1, missing=None, n_estimators=100, n_jobs=1,\n",
       "              nthread=None, objective='binary:logistic', random_state=0,\n",
       "              reg_alpha=0, reg_lambda=1, scale_pos_weight=1, seed=None,\n",
       "              silent=None, subsample=1, verbosity=1)"
      ]
     },
     "execution_count": 43,
     "metadata": {},
     "output_type": "execute_result"
    }
   ],
   "source": [
    "# fit model on training data\n",
    "xgb_model = XGBClassifier()\n",
    "xgb_model.fit(X_train, y_train)\n"
   ]
  },
  {
   "cell_type": "code",
   "execution_count": 44,
   "metadata": {},
   "outputs": [
    {
     "data": {
      "text/plain": [
       "0.9007132667617689"
      ]
     },
     "execution_count": 44,
     "metadata": {},
     "output_type": "execute_result"
    }
   ],
   "source": [
    "# make predictions for test data\n",
    "xgb_model.score(X_val,y_val)\n",
    "#predictions = [round(value) for value in y_pred]\n"
   ]
  },
  {
   "cell_type": "code",
   "execution_count": 46,
   "metadata": {},
   "outputs": [],
   "source": [
    "y_pred_xgb = xgb_model.predict(X_test)\n",
    "predictions_xgb = [round(value) for value in y_pred_xgb]\n",
    "data = pd.DataFrame(columns=['Col1','Col2'])\n",
    "data['Col1'] = Col1\n",
    "data['Col2'] = predictions_xgb\n",
    "data.to_csv(\"XGBoost.csv\", index = False ) # Saving the output in to an excel"
   ]
  },
  {
   "cell_type": "markdown",
   "metadata": {},
   "source": [
    "### Using LGB"
   ]
  },
  {
   "cell_type": "code",
   "execution_count": 253,
   "metadata": {},
   "outputs": [],
   "source": [
    "import lightgbm as lgb"
   ]
  },
  {
   "cell_type": "code",
   "execution_count": 254,
   "metadata": {},
   "outputs": [],
   "source": [
    "lgb_train = lgb.Dataset(X_train, y_train)\n",
    "lgb_eval = lgb.Dataset(X_val, y_val, reference=lgb_train)"
   ]
  },
  {
   "cell_type": "code",
   "execution_count": 500,
   "metadata": {},
   "outputs": [],
   "source": [
    "params = {\n",
    "        'task': 'train',\n",
    "        'objective': 'binary',\n",
    "        'metric': 'binary_logloss',\n",
    "        'boosting_type': 'dart',    \n",
    "        'learning_rate': 0.12,      \n",
    "        'max_depth': 10,            \n",
    "        'min_data_in_leaf': 5,      \n",
    "        'max_bin' : 2,            \n",
    "        'num_leaves' : 64,         \n",
    "        'num_iteration': 100,       \n",
    "        'verbose': 1\n",
    "}"
   ]
  },
  {
   "cell_type": "code",
   "execution_count": 501,
   "metadata": {},
   "outputs": [
    {
     "name": "stdout",
     "output_type": "stream",
     "text": [
      "[1]\ttrain's binary_logloss: 0.308901\teval's binary_logloss: 0.319192\n",
      "[2]\ttrain's binary_logloss: 0.297631\teval's binary_logloss: 0.315132\n",
      "[3]\ttrain's binary_logloss: 0.288017\teval's binary_logloss: 0.310958\n",
      "[4]\ttrain's binary_logloss: 0.280103\teval's binary_logloss: 0.307868\n",
      "[5]\ttrain's binary_logloss: 0.272578\teval's binary_logloss: 0.306247\n",
      "[6]\ttrain's binary_logloss: 0.26576\teval's binary_logloss: 0.304201\n",
      "[7]\ttrain's binary_logloss: 0.260184\teval's binary_logloss: 0.302992\n",
      "[8]\ttrain's binary_logloss: 0.262723\teval's binary_logloss: 0.303212\n",
      "[9]\ttrain's binary_logloss: 0.257537\teval's binary_logloss: 0.302014\n",
      "[10]\ttrain's binary_logloss: 0.25235\teval's binary_logloss: 0.301436\n",
      "[11]\ttrain's binary_logloss: 0.247584\teval's binary_logloss: 0.300183\n",
      "[12]\ttrain's binary_logloss: 0.249247\teval's binary_logloss: 0.300601\n",
      "[13]\ttrain's binary_logloss: 0.244296\teval's binary_logloss: 0.299613\n",
      "[14]\ttrain's binary_logloss: 0.239919\teval's binary_logloss: 0.299029\n",
      "[15]\ttrain's binary_logloss: 0.235854\teval's binary_logloss: 0.298458\n",
      "[16]\ttrain's binary_logloss: 0.232103\teval's binary_logloss: 0.297778\n",
      "[17]\ttrain's binary_logloss: 0.227865\teval's binary_logloss: 0.298138\n",
      "[18]\ttrain's binary_logloss: 0.223922\teval's binary_logloss: 0.29804\n",
      "[19]\ttrain's binary_logloss: 0.219929\teval's binary_logloss: 0.29829\n",
      "[20]\ttrain's binary_logloss: 0.216344\teval's binary_logloss: 0.299115\n",
      "[21]\ttrain's binary_logloss: 0.217416\teval's binary_logloss: 0.298625\n",
      "[22]\ttrain's binary_logloss: 0.213981\teval's binary_logloss: 0.298695\n",
      "[23]\ttrain's binary_logloss: 0.210464\teval's binary_logloss: 0.299151\n",
      "[24]\ttrain's binary_logloss: 0.207102\teval's binary_logloss: 0.299828\n",
      "[25]\ttrain's binary_logloss: 0.204224\teval's binary_logloss: 0.300239\n",
      "[26]\ttrain's binary_logloss: 0.201213\teval's binary_logloss: 0.300127\n",
      "[27]\ttrain's binary_logloss: 0.198558\teval's binary_logloss: 0.300147\n",
      "[28]\ttrain's binary_logloss: 0.199528\teval's binary_logloss: 0.300061\n",
      "[29]\ttrain's binary_logloss: 0.196859\teval's binary_logloss: 0.300782\n",
      "[30]\ttrain's binary_logloss: 0.194255\teval's binary_logloss: 0.301108\n",
      "[31]\ttrain's binary_logloss: 0.194268\teval's binary_logloss: 0.301397\n",
      "[32]\ttrain's binary_logloss: 0.191541\teval's binary_logloss: 0.301004\n",
      "[33]\ttrain's binary_logloss: 0.189252\teval's binary_logloss: 0.301065\n",
      "[34]\ttrain's binary_logloss: 0.187026\teval's binary_logloss: 0.300888\n",
      "[35]\ttrain's binary_logloss: 0.188348\teval's binary_logloss: 0.300338\n",
      "[36]\ttrain's binary_logloss: 0.190373\teval's binary_logloss: 0.30011\n",
      "[37]\ttrain's binary_logloss: 0.18774\teval's binary_logloss: 0.300208\n",
      "[38]\ttrain's binary_logloss: 0.184663\teval's binary_logloss: 0.300608\n",
      "[39]\ttrain's binary_logloss: 0.181989\teval's binary_logloss: 0.300592\n",
      "[40]\ttrain's binary_logloss: 0.181428\teval's binary_logloss: 0.300602\n",
      "[41]\ttrain's binary_logloss: 0.183018\teval's binary_logloss: 0.300414\n",
      "[42]\ttrain's binary_logloss: 0.18089\teval's binary_logloss: 0.300179\n",
      "[43]\ttrain's binary_logloss: 0.182205\teval's binary_logloss: 0.300063\n",
      "[44]\ttrain's binary_logloss: 0.18005\teval's binary_logloss: 0.299725\n",
      "[45]\ttrain's binary_logloss: 0.177745\teval's binary_logloss: 0.299886\n",
      "[46]\ttrain's binary_logloss: 0.182488\teval's binary_logloss: 0.30047\n",
      "[47]\ttrain's binary_logloss: 0.180047\teval's binary_logloss: 0.299754\n",
      "[48]\ttrain's binary_logloss: 0.179718\teval's binary_logloss: 0.299519\n",
      "[49]\ttrain's binary_logloss: 0.181218\teval's binary_logloss: 0.299024\n",
      "[50]\ttrain's binary_logloss: 0.182779\teval's binary_logloss: 0.298716\n",
      "[51]\ttrain's binary_logloss: 0.180379\teval's binary_logloss: 0.298875\n",
      "[52]\ttrain's binary_logloss: 0.178213\teval's binary_logloss: 0.29861\n",
      "[53]\ttrain's binary_logloss: 0.179336\teval's binary_logloss: 0.298628\n",
      "[54]\ttrain's binary_logloss: 0.177175\teval's binary_logloss: 0.298476\n",
      "[55]\ttrain's binary_logloss: 0.175099\teval's binary_logloss: 0.298719\n",
      "[56]\ttrain's binary_logloss: 0.176646\teval's binary_logloss: 0.298543\n",
      "[57]\ttrain's binary_logloss: 0.174592\teval's binary_logloss: 0.298488\n",
      "[58]\ttrain's binary_logloss: 0.181271\teval's binary_logloss: 0.301233\n",
      "[59]\ttrain's binary_logloss: 0.182724\teval's binary_logloss: 0.301188\n",
      "[60]\ttrain's binary_logloss: 0.17976\teval's binary_logloss: 0.300392\n",
      "[61]\ttrain's binary_logloss: 0.188696\teval's binary_logloss: 0.306816\n",
      "[62]\ttrain's binary_logloss: 0.184857\teval's binary_logloss: 0.304812\n",
      "[63]\ttrain's binary_logloss: 0.181506\teval's binary_logloss: 0.303042\n",
      "[64]\ttrain's binary_logloss: 0.182537\teval's binary_logloss: 0.30275\n",
      "[65]\ttrain's binary_logloss: 0.18387\teval's binary_logloss: 0.302663\n",
      "[66]\ttrain's binary_logloss: 0.180785\teval's binary_logloss: 0.301355\n",
      "[67]\ttrain's binary_logloss: 0.177882\teval's binary_logloss: 0.300143\n",
      "[68]\ttrain's binary_logloss: 0.17502\teval's binary_logloss: 0.299526\n",
      "[69]\ttrain's binary_logloss: 0.176192\teval's binary_logloss: 0.299443\n",
      "[70]\ttrain's binary_logloss: 0.176907\teval's binary_logloss: 0.299394\n",
      "[71]\ttrain's binary_logloss: 0.177764\teval's binary_logloss: 0.2991\n",
      "[72]\ttrain's binary_logloss: 0.175307\teval's binary_logloss: 0.298532\n",
      "[73]\ttrain's binary_logloss: 0.172898\teval's binary_logloss: 0.297906\n",
      "[74]\ttrain's binary_logloss: 0.17399\teval's binary_logloss: 0.297812\n",
      "[75]\ttrain's binary_logloss: 0.171757\teval's binary_logloss: 0.297664\n",
      "[76]\ttrain's binary_logloss: 0.171878\teval's binary_logloss: 0.297747\n",
      "[77]\ttrain's binary_logloss: 0.17282\teval's binary_logloss: 0.297708\n",
      "[78]\ttrain's binary_logloss: 0.173815\teval's binary_logloss: 0.297772\n",
      "[79]\ttrain's binary_logloss: 0.171756\teval's binary_logloss: 0.297277\n",
      "[80]\ttrain's binary_logloss: 0.169452\teval's binary_logloss: 0.297365\n",
      "[81]\ttrain's binary_logloss: 0.17051\teval's binary_logloss: 0.297289\n",
      "[82]\ttrain's binary_logloss: 0.168496\teval's binary_logloss: 0.297206\n",
      "[83]\ttrain's binary_logloss: 0.169749\teval's binary_logloss: 0.29702\n",
      "[84]\ttrain's binary_logloss: 0.170933\teval's binary_logloss: 0.296839\n",
      "[85]\ttrain's binary_logloss: 0.172106\teval's binary_logloss: 0.296794\n",
      "[86]\ttrain's binary_logloss: 0.169721\teval's binary_logloss: 0.296334\n",
      "[87]\ttrain's binary_logloss: 0.167602\teval's binary_logloss: 0.296251\n",
      "[88]\ttrain's binary_logloss: 0.169001\teval's binary_logloss: 0.296247\n",
      "[89]\ttrain's binary_logloss: 0.169956\teval's binary_logloss: 0.296246\n",
      "[90]\ttrain's binary_logloss: 0.17112\teval's binary_logloss: 0.296301\n",
      "[91]\ttrain's binary_logloss: 0.175777\teval's binary_logloss: 0.298442\n",
      "[92]\ttrain's binary_logloss: 0.173288\teval's binary_logloss: 0.297282\n",
      "[93]\ttrain's binary_logloss: 0.170833\teval's binary_logloss: 0.296743\n",
      "[94]\ttrain's binary_logloss: 0.172043\teval's binary_logloss: 0.296874\n",
      "[95]\ttrain's binary_logloss: 0.172987\teval's binary_logloss: 0.29686\n",
      "[96]\ttrain's binary_logloss: 0.173994\teval's binary_logloss: 0.296852\n",
      "[97]\ttrain's binary_logloss: 0.171682\teval's binary_logloss: 0.296166\n",
      "[98]\ttrain's binary_logloss: 0.172693\teval's binary_logloss: 0.296116\n",
      "[99]\ttrain's binary_logloss: 0.170442\teval's binary_logloss: 0.296317\n",
      "[100]\ttrain's binary_logloss: 0.168202\teval's binary_logloss: 0.296934\n"
     ]
    }
   ],
   "source": [
    "gbm = lgb.train(params,\n",
    "            lgb_train,\n",
    "            num_boost_round=50,       \n",
    "            early_stopping_rounds=15, \n",
    "            valid_sets=[lgb_train,lgb_eval],\n",
    "            valid_names=['train', 'eval'])"
   ]
  },
  {
   "cell_type": "code",
   "execution_count": 502,
   "metadata": {},
   "outputs": [
    {
     "name": "stdout",
     "output_type": "stream",
     "text": [
      "[[3133   18]\n",
      " [ 339   15]]\n",
      "0.8981455064194008\n"
     ]
    }
   ],
   "source": [
    "#Prediction\n",
    "y_pred_val_lgb=gbm.predict(X_val)\n",
    "y_pred_train_lgb=gbm.predict(X_train)\n",
    "#convert into binary values\n",
    "#Val Data\n",
    "for i in range(0,X_val.shape[0]):\n",
    "    if y_pred_val_lgb[i]>=.5:       # setting threshold to .5\n",
    "       y_pred_val_lgb[i]=1\n",
    "    else:  \n",
    "       y_pred_val_lgb[i]=0\n",
    "\n",
    "#Train Data    \n",
    "for i in range(0,X_train.shape[0]):\n",
    "    if y_pred_train_lgb[i]>=.5:       # setting threshold to .5\n",
    "       y_pred_train_lgb[i]=1\n",
    "    else:  \n",
    "       y_pred_train_lgb[i]=0\n",
    "\n",
    "#Confusion matrix\n",
    "print(confusion_matrix(y_val, y_pred_val_lgb))\n",
    "#Accuracy\n",
    "print(accuracy_score(y_pred_val_lgb,y_val))"
   ]
  },
  {
   "cell_type": "code",
   "execution_count": 503,
   "metadata": {},
   "outputs": [
    {
     "name": "stdout",
     "output_type": "stream",
     "text": [
      "0.9404965753424658\n",
      "[[12609     0]\n",
      " [  834   573]]\n"
     ]
    }
   ],
   "source": [
    "#Accuracy on training data\n",
    "print(accuracy_score(y_pred_train_lgb,y_train))\n",
    "print(confusion_matrix(y_train, y_pred_train_lgb))"
   ]
  },
  {
   "cell_type": "code",
   "execution_count": 504,
   "metadata": {},
   "outputs": [],
   "source": [
    "#Prediction on test data\n",
    "y_pred_lgb=gbm.predict(X_test)\n",
    "#convert into binary values\n",
    "for i in range(0,X_test.shape[0]):\n",
    "    if y_pred_lgb[i]>=.5:       # setting threshold to .5\n",
    "       y_pred_lgb[i]=1\n",
    "    else:  \n",
    "       y_pred_lgb[i]=0"
   ]
  },
  {
   "cell_type": "code",
   "execution_count": 505,
   "metadata": {},
   "outputs": [],
   "source": [
    "data = pd.DataFrame(columns=['Col1','Col2'])\n",
    "data['Col1'] = Col1\n",
    "data['Col2'] = y_pred_lgb\n",
    "data.to_csv(\"GradientBoostingClassifier_LGB.csv\", index = False ) # Saving the output in to an excel\n",
    "#print(test_orig['loan_id'])"
   ]
  },
  {
   "cell_type": "code",
   "execution_count": null,
   "metadata": {},
   "outputs": [],
   "source": []
  }
 ],
 "metadata": {
  "kernelspec": {
   "display_name": "Python 3",
   "language": "python",
   "name": "python3"
  },
  "language_info": {
   "codemirror_mode": {
    "name": "ipython",
    "version": 3
   },
   "file_extension": ".py",
   "mimetype": "text/x-python",
   "name": "python",
   "nbconvert_exporter": "python",
   "pygments_lexer": "ipython3",
   "version": "3.6.5"
  }
 },
 "nbformat": 4,
 "nbformat_minor": 2
}
