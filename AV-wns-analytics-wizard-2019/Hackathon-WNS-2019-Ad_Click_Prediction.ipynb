{
 "cells": [
  {
   "cell_type": "code",
   "execution_count": 156,
   "metadata": {},
   "outputs": [],
   "source": [
    "import pandas as pd\n",
    "import numpy as np\n",
    "from sklearn.model_selection import train_test_split\n",
    "import seaborn as sns\n",
    "from datetime import datetime\n",
    "from sklearn.preprocessing import StandardScaler\n",
    "scalar = StandardScaler()\n",
    "from imblearn.over_sampling import SMOTE\n",
    "from sklearn.metrics import confusion_matrix, precision_recall_curve, auc, roc_auc_score, roc_curve, recall_score, classification_report\n",
    "import matplotlib.pyplot as plt\n",
    "%matplotlib inline"
   ]
  },
  {
   "cell_type": "code",
   "execution_count": 157,
   "metadata": {},
   "outputs": [
    {
     "data": {
      "text/plain": [
       "(3118622, 5)"
      ]
     },
     "execution_count": 157,
     "metadata": {},
     "output_type": "execute_result"
    }
   ],
   "source": [
    "view_log_orig = pd.read_csv('view_log.csv')\n",
    "view_log_orig.shape"
   ]
  },
  {
   "cell_type": "code",
   "execution_count": 158,
   "metadata": {},
   "outputs": [
    {
     "data": {
      "text/html": [
       "<div>\n",
       "<style scoped>\n",
       "    .dataframe tbody tr th:only-of-type {\n",
       "        vertical-align: middle;\n",
       "    }\n",
       "\n",
       "    .dataframe tbody tr th {\n",
       "        vertical-align: top;\n",
       "    }\n",
       "\n",
       "    .dataframe thead th {\n",
       "        text-align: right;\n",
       "    }\n",
       "</style>\n",
       "<table border=\"1\" class=\"dataframe\">\n",
       "  <thead>\n",
       "    <tr style=\"text-align: right;\">\n",
       "      <th></th>\n",
       "      <th>server_time</th>\n",
       "      <th>device_type</th>\n",
       "      <th>session_id</th>\n",
       "      <th>user_id</th>\n",
       "      <th>item_id</th>\n",
       "    </tr>\n",
       "  </thead>\n",
       "  <tbody>\n",
       "    <tr>\n",
       "      <td>0</td>\n",
       "      <td>2018-10-15 08:58:00</td>\n",
       "      <td>android</td>\n",
       "      <td>112333</td>\n",
       "      <td>4557</td>\n",
       "      <td>32970</td>\n",
       "    </tr>\n",
       "    <tr>\n",
       "      <td>1</td>\n",
       "      <td>2018-10-15 08:58:00</td>\n",
       "      <td>android</td>\n",
       "      <td>503590</td>\n",
       "      <td>74788</td>\n",
       "      <td>7640</td>\n",
       "    </tr>\n",
       "    <tr>\n",
       "      <td>2</td>\n",
       "      <td>2018-10-15 08:58:00</td>\n",
       "      <td>android</td>\n",
       "      <td>573960</td>\n",
       "      <td>23628</td>\n",
       "      <td>128855</td>\n",
       "    </tr>\n",
       "    <tr>\n",
       "      <td>3</td>\n",
       "      <td>2018-10-15 08:58:00</td>\n",
       "      <td>android</td>\n",
       "      <td>121691</td>\n",
       "      <td>2430</td>\n",
       "      <td>12774</td>\n",
       "    </tr>\n",
       "    <tr>\n",
       "      <td>4</td>\n",
       "      <td>2018-10-15 08:58:00</td>\n",
       "      <td>android</td>\n",
       "      <td>218564</td>\n",
       "      <td>19227</td>\n",
       "      <td>28296</td>\n",
       "    </tr>\n",
       "  </tbody>\n",
       "</table>\n",
       "</div>"
      ],
      "text/plain": [
       "           server_time device_type  session_id  user_id  item_id\n",
       "0  2018-10-15 08:58:00     android      112333     4557    32970\n",
       "1  2018-10-15 08:58:00     android      503590    74788     7640\n",
       "2  2018-10-15 08:58:00     android      573960    23628   128855\n",
       "3  2018-10-15 08:58:00     android      121691     2430    12774\n",
       "4  2018-10-15 08:58:00     android      218564    19227    28296"
      ]
     },
     "execution_count": 158,
     "metadata": {},
     "output_type": "execute_result"
    }
   ],
   "source": [
    "view_log_orig.head()"
   ]
  },
  {
   "cell_type": "code",
   "execution_count": 159,
   "metadata": {},
   "outputs": [
    {
     "data": {
      "text/plain": [
       "android    3117737\n",
       "iphone         861\n",
       "web             24\n",
       "Name: device_type, dtype: int64"
      ]
     },
     "execution_count": 159,
     "metadata": {},
     "output_type": "execute_result"
    }
   ],
   "source": [
    "view_log_orig.device_type.value_counts()"
   ]
  },
  {
   "cell_type": "code",
   "execution_count": 160,
   "metadata": {},
   "outputs": [
    {
     "data": {
      "text/plain": [
       "2.8588588164901036"
      ]
     },
     "execution_count": 160,
     "metadata": {},
     "output_type": "execute_result"
    }
   ],
   "source": [
    "#Unique users perecentage\n",
    "100*(view_log_orig.user_id.value_counts().count())/(view_log_orig.user_id.value_counts().sum())"
   ]
  },
  {
   "cell_type": "code",
   "execution_count": 161,
   "metadata": {},
   "outputs": [],
   "source": [
    "train= pd.read_csv('train.csv') "
   ]
  },
  {
   "cell_type": "code",
   "execution_count": 162,
   "metadata": {},
   "outputs": [
    {
     "data": {
      "text/plain": [
       "74723"
      ]
     },
     "execution_count": 162,
     "metadata": {},
     "output_type": "execute_result"
    }
   ],
   "source": [
    "train.user_id.value_counts().count()"
   ]
  },
  {
   "cell_type": "code",
   "execution_count": 163,
   "metadata": {},
   "outputs": [
    {
     "data": {
      "text/plain": [
       "(132761, 6)"
      ]
     },
     "execution_count": 163,
     "metadata": {},
     "output_type": "execute_result"
    }
   ],
   "source": [
    "item_data_orig = pd.read_csv('item_data.csv')\n",
    "item_data_orig.shape"
   ]
  },
  {
   "cell_type": "code",
   "execution_count": 164,
   "metadata": {},
   "outputs": [
    {
     "data": {
      "text/html": [
       "<div>\n",
       "<style scoped>\n",
       "    .dataframe tbody tr th:only-of-type {\n",
       "        vertical-align: middle;\n",
       "    }\n",
       "\n",
       "    .dataframe tbody tr th {\n",
       "        vertical-align: top;\n",
       "    }\n",
       "\n",
       "    .dataframe thead th {\n",
       "        text-align: right;\n",
       "    }\n",
       "</style>\n",
       "<table border=\"1\" class=\"dataframe\">\n",
       "  <thead>\n",
       "    <tr style=\"text-align: right;\">\n",
       "      <th></th>\n",
       "      <th>item_id</th>\n",
       "      <th>item_price</th>\n",
       "      <th>category_1</th>\n",
       "      <th>category_2</th>\n",
       "      <th>category_3</th>\n",
       "      <th>product_type</th>\n",
       "    </tr>\n",
       "  </thead>\n",
       "  <tbody>\n",
       "    <tr>\n",
       "      <td>0</td>\n",
       "      <td>26880</td>\n",
       "      <td>4602</td>\n",
       "      <td>11</td>\n",
       "      <td>35</td>\n",
       "      <td>20</td>\n",
       "      <td>3040</td>\n",
       "    </tr>\n",
       "    <tr>\n",
       "      <td>1</td>\n",
       "      <td>54939</td>\n",
       "      <td>3513</td>\n",
       "      <td>12</td>\n",
       "      <td>57</td>\n",
       "      <td>85</td>\n",
       "      <td>6822</td>\n",
       "    </tr>\n",
       "    <tr>\n",
       "      <td>2</td>\n",
       "      <td>40383</td>\n",
       "      <td>825</td>\n",
       "      <td>17</td>\n",
       "      <td>8</td>\n",
       "      <td>279</td>\n",
       "      <td>1619</td>\n",
       "    </tr>\n",
       "    <tr>\n",
       "      <td>3</td>\n",
       "      <td>8777</td>\n",
       "      <td>2355</td>\n",
       "      <td>13</td>\n",
       "      <td>58</td>\n",
       "      <td>189</td>\n",
       "      <td>5264</td>\n",
       "    </tr>\n",
       "    <tr>\n",
       "      <td>4</td>\n",
       "      <td>113705</td>\n",
       "      <td>1267</td>\n",
       "      <td>17</td>\n",
       "      <td>39</td>\n",
       "      <td>151</td>\n",
       "      <td>10239</td>\n",
       "    </tr>\n",
       "  </tbody>\n",
       "</table>\n",
       "</div>"
      ],
      "text/plain": [
       "   item_id  item_price  category_1  category_2  category_3  product_type\n",
       "0    26880        4602          11          35          20          3040\n",
       "1    54939        3513          12          57          85          6822\n",
       "2    40383         825          17           8         279          1619\n",
       "3     8777        2355          13          58         189          5264\n",
       "4   113705        1267          17          39         151         10239"
      ]
     },
     "execution_count": 164,
     "metadata": {},
     "output_type": "execute_result"
    }
   ],
   "source": [
    "item_data_orig.head()"
   ]
  },
  {
   "cell_type": "code",
   "execution_count": 165,
   "metadata": {},
   "outputs": [
    {
     "data": {
      "text/plain": [
       "(237609, 7)"
      ]
     },
     "execution_count": 165,
     "metadata": {},
     "output_type": "execute_result"
    }
   ],
   "source": [
    "train_orig = pd.read_csv('train.csv')\n",
    "train_orig.shape"
   ]
  },
  {
   "cell_type": "code",
   "execution_count": 166,
   "metadata": {},
   "outputs": [
    {
     "data": {
      "text/html": [
       "<div>\n",
       "<style scoped>\n",
       "    .dataframe tbody tr th:only-of-type {\n",
       "        vertical-align: middle;\n",
       "    }\n",
       "\n",
       "    .dataframe tbody tr th {\n",
       "        vertical-align: top;\n",
       "    }\n",
       "\n",
       "    .dataframe thead th {\n",
       "        text-align: right;\n",
       "    }\n",
       "</style>\n",
       "<table border=\"1\" class=\"dataframe\">\n",
       "  <thead>\n",
       "    <tr style=\"text-align: right;\">\n",
       "      <th></th>\n",
       "      <th>impression_id</th>\n",
       "      <th>impression_time</th>\n",
       "      <th>user_id</th>\n",
       "      <th>app_code</th>\n",
       "      <th>os_version</th>\n",
       "      <th>is_4G</th>\n",
       "      <th>is_click</th>\n",
       "    </tr>\n",
       "  </thead>\n",
       "  <tbody>\n",
       "    <tr>\n",
       "      <td>0</td>\n",
       "      <td>c4ca4238a0b923820dcc509a6f75849b</td>\n",
       "      <td>2018-11-15 00:00:00</td>\n",
       "      <td>87862</td>\n",
       "      <td>422</td>\n",
       "      <td>old</td>\n",
       "      <td>0</td>\n",
       "      <td>0</td>\n",
       "    </tr>\n",
       "    <tr>\n",
       "      <td>1</td>\n",
       "      <td>45c48cce2e2d7fbdea1afc51c7c6ad26</td>\n",
       "      <td>2018-11-15 00:01:00</td>\n",
       "      <td>63410</td>\n",
       "      <td>467</td>\n",
       "      <td>latest</td>\n",
       "      <td>1</td>\n",
       "      <td>1</td>\n",
       "    </tr>\n",
       "    <tr>\n",
       "      <td>2</td>\n",
       "      <td>70efdf2ec9b086079795c442636b55fb</td>\n",
       "      <td>2018-11-15 00:02:00</td>\n",
       "      <td>71748</td>\n",
       "      <td>259</td>\n",
       "      <td>intermediate</td>\n",
       "      <td>1</td>\n",
       "      <td>0</td>\n",
       "    </tr>\n",
       "    <tr>\n",
       "      <td>3</td>\n",
       "      <td>8e296a067a37563370ded05f5a3bf3ec</td>\n",
       "      <td>2018-11-15 00:02:00</td>\n",
       "      <td>69209</td>\n",
       "      <td>244</td>\n",
       "      <td>latest</td>\n",
       "      <td>1</td>\n",
       "      <td>0</td>\n",
       "    </tr>\n",
       "    <tr>\n",
       "      <td>4</td>\n",
       "      <td>182be0c5cdcd5072bb1864cdee4d3d6e</td>\n",
       "      <td>2018-11-15 00:02:00</td>\n",
       "      <td>62873</td>\n",
       "      <td>473</td>\n",
       "      <td>latest</td>\n",
       "      <td>0</td>\n",
       "      <td>0</td>\n",
       "    </tr>\n",
       "  </tbody>\n",
       "</table>\n",
       "</div>"
      ],
      "text/plain": [
       "                      impression_id      impression_time  user_id  app_code  \\\n",
       "0  c4ca4238a0b923820dcc509a6f75849b  2018-11-15 00:00:00    87862       422   \n",
       "1  45c48cce2e2d7fbdea1afc51c7c6ad26  2018-11-15 00:01:00    63410       467   \n",
       "2  70efdf2ec9b086079795c442636b55fb  2018-11-15 00:02:00    71748       259   \n",
       "3  8e296a067a37563370ded05f5a3bf3ec  2018-11-15 00:02:00    69209       244   \n",
       "4  182be0c5cdcd5072bb1864cdee4d3d6e  2018-11-15 00:02:00    62873       473   \n",
       "\n",
       "     os_version  is_4G  is_click  \n",
       "0           old      0         0  \n",
       "1        latest      1         1  \n",
       "2  intermediate      1         0  \n",
       "3        latest      1         0  \n",
       "4        latest      0         0  "
      ]
     },
     "execution_count": 166,
     "metadata": {},
     "output_type": "execute_result"
    }
   ],
   "source": [
    "train_orig.head()"
   ]
  },
  {
   "cell_type": "code",
   "execution_count": 167,
   "metadata": {},
   "outputs": [],
   "source": [
    "test_orig = pd.read_csv('test.csv')"
   ]
  },
  {
   "cell_type": "code",
   "execution_count": 168,
   "metadata": {},
   "outputs": [
    {
     "data": {
      "text/html": [
       "<div>\n",
       "<style scoped>\n",
       "    .dataframe tbody tr th:only-of-type {\n",
       "        vertical-align: middle;\n",
       "    }\n",
       "\n",
       "    .dataframe tbody tr th {\n",
       "        vertical-align: top;\n",
       "    }\n",
       "\n",
       "    .dataframe thead th {\n",
       "        text-align: right;\n",
       "    }\n",
       "</style>\n",
       "<table border=\"1\" class=\"dataframe\">\n",
       "  <thead>\n",
       "    <tr style=\"text-align: right;\">\n",
       "      <th></th>\n",
       "      <th>impression_id</th>\n",
       "      <th>impression_time</th>\n",
       "      <th>user_id</th>\n",
       "      <th>app_code</th>\n",
       "      <th>os_version</th>\n",
       "      <th>is_4G</th>\n",
       "    </tr>\n",
       "  </thead>\n",
       "  <tbody>\n",
       "    <tr>\n",
       "      <td>0</td>\n",
       "      <td>a9e7126a585a69a32bc7414e9d0c0ada</td>\n",
       "      <td>2018-12-13 07:44:00</td>\n",
       "      <td>44754</td>\n",
       "      <td>127</td>\n",
       "      <td>latest</td>\n",
       "      <td>1</td>\n",
       "    </tr>\n",
       "    <tr>\n",
       "      <td>1</td>\n",
       "      <td>caac14a5bf2ba283db7708bb34855760</td>\n",
       "      <td>2018-12-13 07:45:00</td>\n",
       "      <td>29656</td>\n",
       "      <td>44</td>\n",
       "      <td>latest</td>\n",
       "      <td>0</td>\n",
       "    </tr>\n",
       "    <tr>\n",
       "      <td>2</td>\n",
       "      <td>13f10ba306a19ce7bec2f3cae507b698</td>\n",
       "      <td>2018-12-13 07:46:00</td>\n",
       "      <td>25234</td>\n",
       "      <td>296</td>\n",
       "      <td>latest</td>\n",
       "      <td>1</td>\n",
       "    </tr>\n",
       "    <tr>\n",
       "      <td>3</td>\n",
       "      <td>39c4b4dc0e9701b55a0a4f072008fb3f</td>\n",
       "      <td>2018-12-13 07:47:00</td>\n",
       "      <td>22988</td>\n",
       "      <td>207</td>\n",
       "      <td>latest</td>\n",
       "      <td>1</td>\n",
       "    </tr>\n",
       "    <tr>\n",
       "      <td>4</td>\n",
       "      <td>bf5a572cca75f5fc67f4b14e58b11d70</td>\n",
       "      <td>2018-12-13 07:48:00</td>\n",
       "      <td>35431</td>\n",
       "      <td>242</td>\n",
       "      <td>latest</td>\n",
       "      <td>1</td>\n",
       "    </tr>\n",
       "  </tbody>\n",
       "</table>\n",
       "</div>"
      ],
      "text/plain": [
       "                      impression_id      impression_time  user_id  app_code  \\\n",
       "0  a9e7126a585a69a32bc7414e9d0c0ada  2018-12-13 07:44:00    44754       127   \n",
       "1  caac14a5bf2ba283db7708bb34855760  2018-12-13 07:45:00    29656        44   \n",
       "2  13f10ba306a19ce7bec2f3cae507b698  2018-12-13 07:46:00    25234       296   \n",
       "3  39c4b4dc0e9701b55a0a4f072008fb3f  2018-12-13 07:47:00    22988       207   \n",
       "4  bf5a572cca75f5fc67f4b14e58b11d70  2018-12-13 07:48:00    35431       242   \n",
       "\n",
       "  os_version  is_4G  \n",
       "0     latest      1  \n",
       "1     latest      0  \n",
       "2     latest      1  \n",
       "3     latest      1  \n",
       "4     latest      1  "
      ]
     },
     "execution_count": 168,
     "metadata": {},
     "output_type": "execute_result"
    }
   ],
   "source": [
    "test_orig.head()"
   ]
  },
  {
   "cell_type": "code",
   "execution_count": 169,
   "metadata": {},
   "outputs": [
    {
     "data": {
      "text/plain": [
       "(90675, 6)"
      ]
     },
     "execution_count": 169,
     "metadata": {},
     "output_type": "execute_result"
    }
   ],
   "source": [
    "test_orig.shape"
   ]
  },
  {
   "cell_type": "markdown",
   "metadata": {},
   "source": [
    "### EDA"
   ]
  },
  {
   "cell_type": "code",
   "execution_count": null,
   "metadata": {},
   "outputs": [],
   "source": []
  },
  {
   "cell_type": "code",
   "execution_count": 170,
   "metadata": {},
   "outputs": [
    {
     "name": "stdout",
     "output_type": "stream",
     "text": [
      "<class 'pandas.core.frame.DataFrame'>\n",
      "RangeIndex: 3118622 entries, 0 to 3118621\n",
      "Data columns (total 5 columns):\n",
      "server_time    object\n",
      "device_type    object\n",
      "session_id     int64\n",
      "user_id        int64\n",
      "item_id        int64\n",
      "dtypes: int64(3), object(2)\n",
      "memory usage: 119.0+ MB\n"
     ]
    }
   ],
   "source": [
    "view_log_orig.info()"
   ]
  },
  {
   "cell_type": "code",
   "execution_count": 171,
   "metadata": {},
   "outputs": [
    {
     "data": {
      "text/plain": [
       "android    3117737\n",
       "iphone         861\n",
       "web             24\n",
       "Name: device_type, dtype: int64"
      ]
     },
     "execution_count": 171,
     "metadata": {},
     "output_type": "execute_result"
    }
   ],
   "source": [
    "view_log_orig.device_type.value_counts()"
   ]
  },
  {
   "cell_type": "code",
   "execution_count": 172,
   "metadata": {},
   "outputs": [
    {
     "data": {
      "text/plain": [
       "server_time    0\n",
       "device_type    0\n",
       "session_id     0\n",
       "user_id        0\n",
       "item_id        0\n",
       "dtype: int64"
      ]
     },
     "execution_count": 172,
     "metadata": {},
     "output_type": "execute_result"
    }
   ],
   "source": [
    "view_log_orig.isna().sum()"
   ]
  },
  {
   "cell_type": "code",
   "execution_count": 173,
   "metadata": {},
   "outputs": [
    {
     "name": "stdout",
     "output_type": "stream",
     "text": [
      "<class 'pandas.core.frame.DataFrame'>\n",
      "RangeIndex: 132761 entries, 0 to 132760\n",
      "Data columns (total 6 columns):\n",
      "item_id         132761 non-null int64\n",
      "item_price      132761 non-null int64\n",
      "category_1      132761 non-null int64\n",
      "category_2      132761 non-null int64\n",
      "category_3      132761 non-null int64\n",
      "product_type    132761 non-null int64\n",
      "dtypes: int64(6)\n",
      "memory usage: 6.1 MB\n"
     ]
    }
   ],
   "source": [
    "item_data_orig.info()"
   ]
  },
  {
   "cell_type": "code",
   "execution_count": 174,
   "metadata": {},
   "outputs": [
    {
     "data": {
      "text/plain": [
       "item_id         0\n",
       "item_price      0\n",
       "category_1      0\n",
       "category_2      0\n",
       "category_3      0\n",
       "product_type    0\n",
       "dtype: int64"
      ]
     },
     "execution_count": 174,
     "metadata": {},
     "output_type": "execute_result"
    }
   ],
   "source": [
    "item_data_orig.isna().sum()"
   ]
  },
  {
   "cell_type": "code",
   "execution_count": 175,
   "metadata": {},
   "outputs": [
    {
     "name": "stdout",
     "output_type": "stream",
     "text": [
      "<class 'pandas.core.frame.DataFrame'>\n",
      "RangeIndex: 237609 entries, 0 to 237608\n",
      "Data columns (total 7 columns):\n",
      "impression_id      237609 non-null object\n",
      "impression_time    237609 non-null object\n",
      "user_id            237609 non-null int64\n",
      "app_code           237609 non-null int64\n",
      "os_version         237609 non-null object\n",
      "is_4G              237609 non-null int64\n",
      "is_click           237609 non-null int64\n",
      "dtypes: int64(4), object(3)\n",
      "memory usage: 12.7+ MB\n"
     ]
    }
   ],
   "source": [
    "train_orig.info()"
   ]
  },
  {
   "cell_type": "code",
   "execution_count": 176,
   "metadata": {},
   "outputs": [
    {
     "name": "stdout",
     "output_type": "stream",
     "text": [
      "<class 'pandas.core.frame.DataFrame'>\n",
      "RangeIndex: 237609 entries, 0 to 237608\n",
      "Data columns (total 7 columns):\n",
      "impression_id      237609 non-null object\n",
      "impression_time    237609 non-null object\n",
      "user_id            237609 non-null int64\n",
      "app_code           237609 non-null int64\n",
      "os_version         237609 non-null object\n",
      "is_4G              237609 non-null int64\n",
      "is_click           237609 non-null int64\n",
      "dtypes: int64(4), object(3)\n",
      "memory usage: 12.7+ MB\n"
     ]
    }
   ],
   "source": [
    "train_orig.info()"
   ]
  },
  {
   "cell_type": "code",
   "execution_count": 177,
   "metadata": {},
   "outputs": [
    {
     "name": "stdout",
     "output_type": "stream",
     "text": [
      "latest          129216\n",
      "intermediate     55543\n",
      "old              52850\n",
      "Name: os_version, dtype: int64\n"
     ]
    },
    {
     "data": {
      "text/plain": [
       "<matplotlib.axes._subplots.AxesSubplot at 0x1d956f3bf60>"
      ]
     },
     "execution_count": 177,
     "metadata": {},
     "output_type": "execute_result"
    },
    {
     "data": {
      "image/png": "[encoded data removed]",
      "text/plain": [
       "<Figure size 432x288 with 1 Axes>"
      ]
     },
     "metadata": {
      "needs_background": "light"
     },
     "output_type": "display_data"
    }
   ],
   "source": [
    "print(train_orig.os_version.value_counts())\n",
    "sns.countplot(x=train_orig.os_version, hue=train_orig.is_click)"
   ]
  },
  {
   "cell_type": "code",
   "execution_count": 178,
   "metadata": {},
   "outputs": [],
   "source": [
    "os_version_dummies = pd.get_dummies(train_orig['os_version'], prefix='OS_Version')\n",
    "train_orig = pd.concat([train_orig, os_version_dummies], axis = 1)\n",
    "train_orig.drop('os_version',inplace=True, axis=1)"
   ]
  },
  {
   "cell_type": "code",
   "execution_count": 179,
   "metadata": {},
   "outputs": [
    {
     "name": "stdout",
     "output_type": "stream",
     "text": [
      "<class 'pandas.core.frame.DataFrame'>\n",
      "RangeIndex: 90675 entries, 0 to 90674\n",
      "Data columns (total 8 columns):\n",
      "impression_id              90675 non-null object\n",
      "impression_time            90675 non-null object\n",
      "user_id                    90675 non-null int64\n",
      "app_code                   90675 non-null int64\n",
      "is_4G                      90675 non-null int64\n",
      "OS_Version_intermediate    90675 non-null uint8\n",
      "OS_Version_latest          90675 non-null uint8\n",
      "OS_Version_old             90675 non-null uint8\n",
      "dtypes: int64(3), object(2), uint8(3)\n",
      "memory usage: 3.7+ MB\n"
     ]
    }
   ],
   "source": [
    "#Test Data - Generating dummies for ('os_version')\n",
    "os_version_dummies = pd.get_dummies(test_orig['os_version'], prefix='OS_Version')\n",
    "test_orig = pd.concat([test_orig, os_version_dummies], axis = 1)\n",
    "test_orig.drop('os_version',inplace=True, axis=1)\n",
    "test_orig.info()"
   ]
  },
  {
   "cell_type": "markdown",
   "metadata": {},
   "source": [
    "#### EDA for app_code column and generating dummies"
   ]
  },
  {
   "cell_type": "code",
   "execution_count": 180,
   "metadata": {},
   "outputs": [
    {
     "data": {
      "text/plain": [
       "(237609, 9)"
      ]
     },
     "execution_count": 180,
     "metadata": {},
     "output_type": "execute_result"
    }
   ],
   "source": [
    "#Original Train data shape\n",
    "train_orig.shape"
   ]
  },
  {
   "cell_type": "code",
   "execution_count": 181,
   "metadata": {},
   "outputs": [
    {
     "data": {
      "text/plain": [
       "(90675, 8)"
      ]
     },
     "execution_count": 181,
     "metadata": {},
     "output_type": "execute_result"
    }
   ],
   "source": [
    "test_orig.shape"
   ]
  },
  {
   "cell_type": "code",
   "execution_count": 182,
   "metadata": {},
   "outputs": [
    {
     "data": {
      "text/plain": [
       "490"
      ]
     },
     "execution_count": 182,
     "metadata": {},
     "output_type": "execute_result"
    }
   ],
   "source": [
    "train_orig.app_code.value_counts().count()"
   ]
  },
  {
   "cell_type": "code",
   "execution_count": 183,
   "metadata": {},
   "outputs": [
    {
     "data": {
      "text/plain": [
       "(236899, 9)"
      ]
     },
     "execution_count": 183,
     "metadata": {},
     "output_type": "execute_result"
    }
   ],
   "source": [
    "#Get Common app_code between Train and Test Data\n",
    "train_orig = train_orig[train_orig.app_code.isin(test_orig.app_code) == True]\n",
    "train_orig.shape"
   ]
  },
  {
   "cell_type": "code",
   "execution_count": 184,
   "metadata": {},
   "outputs": [],
   "source": [
    "test_orig.loc[test_orig.app_code.isin(train_orig.app_code) == False,'app_code'] = 8939661645"
   ]
  },
  {
   "cell_type": "code",
   "execution_count": 185,
   "metadata": {},
   "outputs": [
    {
     "data": {
      "text/plain": [
       "342"
      ]
     },
     "execution_count": 185,
     "metadata": {},
     "output_type": "execute_result"
    }
   ],
   "source": [
    "test_orig.app_code.value_counts().count()"
   ]
  },
  {
   "cell_type": "code",
   "execution_count": 186,
   "metadata": {},
   "outputs": [
    {
     "data": {
      "text/html": [
       "<div>\n",
       "<style scoped>\n",
       "    .dataframe tbody tr th:only-of-type {\n",
       "        vertical-align: middle;\n",
       "    }\n",
       "\n",
       "    .dataframe tbody tr th {\n",
       "        vertical-align: top;\n",
       "    }\n",
       "\n",
       "    .dataframe thead th {\n",
       "        text-align: right;\n",
       "    }\n",
       "</style>\n",
       "<table border=\"1\" class=\"dataframe\">\n",
       "  <thead>\n",
       "    <tr style=\"text-align: right;\">\n",
       "      <th></th>\n",
       "      <th>impression_id</th>\n",
       "      <th>impression_time</th>\n",
       "      <th>user_id</th>\n",
       "      <th>app_code</th>\n",
       "      <th>is_4G</th>\n",
       "      <th>OS_Version_intermediate</th>\n",
       "      <th>OS_Version_latest</th>\n",
       "      <th>OS_Version_old</th>\n",
       "    </tr>\n",
       "  </thead>\n",
       "  <tbody>\n",
       "    <tr>\n",
       "      <td>480</td>\n",
       "      <td>49cbd6103967e1845ea3876a2875afac</td>\n",
       "      <td>2018-12-12 22:32:00</td>\n",
       "      <td>41269</td>\n",
       "      <td>8939661645</td>\n",
       "      <td>0</td>\n",
       "      <td>0</td>\n",
       "      <td>0</td>\n",
       "      <td>1</td>\n",
       "    </tr>\n",
       "    <tr>\n",
       "      <td>2040</td>\n",
       "      <td>6a239d26b2040ff72d820b7b9c7c59b8</td>\n",
       "      <td>2018-12-13 00:11:00</td>\n",
       "      <td>41269</td>\n",
       "      <td>8939661645</td>\n",
       "      <td>0</td>\n",
       "      <td>0</td>\n",
       "      <td>0</td>\n",
       "      <td>1</td>\n",
       "    </tr>\n",
       "    <tr>\n",
       "      <td>3894</td>\n",
       "      <td>5190d12ad48dc406f38cf0986837e7df</td>\n",
       "      <td>2018-12-13 19:58:00</td>\n",
       "      <td>36439</td>\n",
       "      <td>8939661645</td>\n",
       "      <td>1</td>\n",
       "      <td>1</td>\n",
       "      <td>0</td>\n",
       "      <td>0</td>\n",
       "    </tr>\n",
       "    <tr>\n",
       "      <td>11120</td>\n",
       "      <td>d80140818c83d530a59796c5e798f787</td>\n",
       "      <td>2018-12-14 10:47:00</td>\n",
       "      <td>1832</td>\n",
       "      <td>8939661645</td>\n",
       "      <td>0</td>\n",
       "      <td>0</td>\n",
       "      <td>1</td>\n",
       "      <td>0</td>\n",
       "    </tr>\n",
       "    <tr>\n",
       "      <td>12021</td>\n",
       "      <td>5daafff48099e44bf561afbf5a2d6f95</td>\n",
       "      <td>2018-12-12 04:32:00</td>\n",
       "      <td>10423</td>\n",
       "      <td>8939661645</td>\n",
       "      <td>0</td>\n",
       "      <td>0</td>\n",
       "      <td>1</td>\n",
       "      <td>0</td>\n",
       "    </tr>\n",
       "    <tr>\n",
       "      <td>12935</td>\n",
       "      <td>85d41899003777333ef3f3e149e7df0e</td>\n",
       "      <td>2018-12-14 18:11:00</td>\n",
       "      <td>33094</td>\n",
       "      <td>8939661645</td>\n",
       "      <td>1</td>\n",
       "      <td>0</td>\n",
       "      <td>1</td>\n",
       "      <td>0</td>\n",
       "    </tr>\n",
       "    <tr>\n",
       "      <td>19106</td>\n",
       "      <td>4f957d518d6e8f4af637baf206b4cc42</td>\n",
       "      <td>2018-12-14 16:41:00</td>\n",
       "      <td>41269</td>\n",
       "      <td>8939661645</td>\n",
       "      <td>0</td>\n",
       "      <td>0</td>\n",
       "      <td>0</td>\n",
       "      <td>1</td>\n",
       "    </tr>\n",
       "    <tr>\n",
       "      <td>20485</td>\n",
       "      <td>9aafd5557986ba63f49b2e29cfacc404</td>\n",
       "      <td>2018-12-15 00:41:00</td>\n",
       "      <td>71199</td>\n",
       "      <td>8939661645</td>\n",
       "      <td>1</td>\n",
       "      <td>0</td>\n",
       "      <td>1</td>\n",
       "      <td>0</td>\n",
       "    </tr>\n",
       "    <tr>\n",
       "      <td>21261</td>\n",
       "      <td>4840396238031bc3de71438b5d81c925</td>\n",
       "      <td>2018-12-15 06:26:00</td>\n",
       "      <td>77742</td>\n",
       "      <td>8939661645</td>\n",
       "      <td>1</td>\n",
       "      <td>0</td>\n",
       "      <td>1</td>\n",
       "      <td>0</td>\n",
       "    </tr>\n",
       "    <tr>\n",
       "      <td>23518</td>\n",
       "      <td>089b2daf94346851fc9d72f7e40757b2</td>\n",
       "      <td>2018-12-15 00:29:00</td>\n",
       "      <td>71199</td>\n",
       "      <td>8939661645</td>\n",
       "      <td>1</td>\n",
       "      <td>0</td>\n",
       "      <td>1</td>\n",
       "      <td>0</td>\n",
       "    </tr>\n",
       "    <tr>\n",
       "      <td>24007</td>\n",
       "      <td>5533bb685acae3f7585640c2527aa9c2</td>\n",
       "      <td>2018-12-15 06:32:00</td>\n",
       "      <td>41269</td>\n",
       "      <td>8939661645</td>\n",
       "      <td>0</td>\n",
       "      <td>0</td>\n",
       "      <td>0</td>\n",
       "      <td>1</td>\n",
       "    </tr>\n",
       "    <tr>\n",
       "      <td>25197</td>\n",
       "      <td>74fe34a6965597039b1cfbd1b5ebfa4b</td>\n",
       "      <td>2018-12-15 18:58:00</td>\n",
       "      <td>43923</td>\n",
       "      <td>8939661645</td>\n",
       "      <td>1</td>\n",
       "      <td>0</td>\n",
       "      <td>0</td>\n",
       "      <td>1</td>\n",
       "    </tr>\n",
       "    <tr>\n",
       "      <td>25964</td>\n",
       "      <td>c59ab66119d614e6494c1d784cd86bba</td>\n",
       "      <td>2018-12-15 07:00:00</td>\n",
       "      <td>73518</td>\n",
       "      <td>8939661645</td>\n",
       "      <td>1</td>\n",
       "      <td>1</td>\n",
       "      <td>0</td>\n",
       "      <td>0</td>\n",
       "    </tr>\n",
       "    <tr>\n",
       "      <td>28174</td>\n",
       "      <td>24394768ceb40940a113743fbb6e022d</td>\n",
       "      <td>2018-12-15 00:44:00</td>\n",
       "      <td>55073</td>\n",
       "      <td>8939661645</td>\n",
       "      <td>0</td>\n",
       "      <td>0</td>\n",
       "      <td>0</td>\n",
       "      <td>1</td>\n",
       "    </tr>\n",
       "    <tr>\n",
       "      <td>29020</td>\n",
       "      <td>8a22d13d78da9a8c6f691c8c69bc1fab</td>\n",
       "      <td>2018-12-15 15:45:00</td>\n",
       "      <td>46671</td>\n",
       "      <td>8939661645</td>\n",
       "      <td>0</td>\n",
       "      <td>0</td>\n",
       "      <td>1</td>\n",
       "      <td>0</td>\n",
       "    </tr>\n",
       "    <tr>\n",
       "      <td>30267</td>\n",
       "      <td>fa40e53fa2d670afbbe5d45c84cda7e1</td>\n",
       "      <td>2018-12-13 23:16:00</td>\n",
       "      <td>89816</td>\n",
       "      <td>8939661645</td>\n",
       "      <td>0</td>\n",
       "      <td>0</td>\n",
       "      <td>1</td>\n",
       "      <td>0</td>\n",
       "    </tr>\n",
       "    <tr>\n",
       "      <td>30851</td>\n",
       "      <td>989e256542a3ad065ff94943397c5531</td>\n",
       "      <td>2018-12-14 00:30:00</td>\n",
       "      <td>10423</td>\n",
       "      <td>8939661645</td>\n",
       "      <td>0</td>\n",
       "      <td>0</td>\n",
       "      <td>1</td>\n",
       "      <td>0</td>\n",
       "    </tr>\n",
       "    <tr>\n",
       "      <td>31968</td>\n",
       "      <td>2ec813a897bd8b93e29fc24d34b9cd13</td>\n",
       "      <td>2018-12-14 05:36:00</td>\n",
       "      <td>41269</td>\n",
       "      <td>8939661645</td>\n",
       "      <td>0</td>\n",
       "      <td>0</td>\n",
       "      <td>0</td>\n",
       "      <td>1</td>\n",
       "    </tr>\n",
       "    <tr>\n",
       "      <td>35119</td>\n",
       "      <td>99f222e7271ab2259cfd5a078fab3210</td>\n",
       "      <td>2018-12-15 15:47:00</td>\n",
       "      <td>46671</td>\n",
       "      <td>8939661645</td>\n",
       "      <td>0</td>\n",
       "      <td>0</td>\n",
       "      <td>1</td>\n",
       "      <td>0</td>\n",
       "    </tr>\n",
       "    <tr>\n",
       "      <td>36035</td>\n",
       "      <td>0d34c56f17569645173227e9ae4e3dc5</td>\n",
       "      <td>2018-12-15 21:22:00</td>\n",
       "      <td>681</td>\n",
       "      <td>8939661645</td>\n",
       "      <td>0</td>\n",
       "      <td>0</td>\n",
       "      <td>1</td>\n",
       "      <td>0</td>\n",
       "    </tr>\n",
       "    <tr>\n",
       "      <td>36260</td>\n",
       "      <td>7ae3b6e27befaba342db36d838720f6b</td>\n",
       "      <td>2018-12-15 22:47:00</td>\n",
       "      <td>72621</td>\n",
       "      <td>8939661645</td>\n",
       "      <td>0</td>\n",
       "      <td>0</td>\n",
       "      <td>0</td>\n",
       "      <td>1</td>\n",
       "    </tr>\n",
       "    <tr>\n",
       "      <td>37171</td>\n",
       "      <td>da6542d3569ebb69d52ef3f2fdf19def</td>\n",
       "      <td>2018-12-13 23:08:00</td>\n",
       "      <td>41269</td>\n",
       "      <td>8939661645</td>\n",
       "      <td>0</td>\n",
       "      <td>0</td>\n",
       "      <td>0</td>\n",
       "      <td>1</td>\n",
       "    </tr>\n",
       "    <tr>\n",
       "      <td>38070</td>\n",
       "      <td>66948b2f13245b4a99e7ce735fbc5ad3</td>\n",
       "      <td>2018-12-14 18:21:00</td>\n",
       "      <td>33094</td>\n",
       "      <td>8939661645</td>\n",
       "      <td>1</td>\n",
       "      <td>0</td>\n",
       "      <td>1</td>\n",
       "      <td>0</td>\n",
       "    </tr>\n",
       "    <tr>\n",
       "      <td>38336</td>\n",
       "      <td>326725167eaf6c722cb1e2e90ab39fea</td>\n",
       "      <td>2018-12-14 12:37:00</td>\n",
       "      <td>71199</td>\n",
       "      <td>8939661645</td>\n",
       "      <td>1</td>\n",
       "      <td>0</td>\n",
       "      <td>1</td>\n",
       "      <td>0</td>\n",
       "    </tr>\n",
       "    <tr>\n",
       "      <td>40661</td>\n",
       "      <td>672980473a551ea7a21cef6e933c5a41</td>\n",
       "      <td>2018-12-15 13:53:00</td>\n",
       "      <td>87270</td>\n",
       "      <td>8939661645</td>\n",
       "      <td>1</td>\n",
       "      <td>0</td>\n",
       "      <td>0</td>\n",
       "      <td>1</td>\n",
       "    </tr>\n",
       "    <tr>\n",
       "      <td>40999</td>\n",
       "      <td>1434d2a935da4399363620e358bea255</td>\n",
       "      <td>2018-12-15 15:42:00</td>\n",
       "      <td>46671</td>\n",
       "      <td>8939661645</td>\n",
       "      <td>0</td>\n",
       "      <td>0</td>\n",
       "      <td>1</td>\n",
       "      <td>0</td>\n",
       "    </tr>\n",
       "    <tr>\n",
       "      <td>41362</td>\n",
       "      <td>a6f301048b299905aafc593db7f3a0eb</td>\n",
       "      <td>2018-12-15 17:34:00</td>\n",
       "      <td>81533</td>\n",
       "      <td>8939661645</td>\n",
       "      <td>0</td>\n",
       "      <td>1</td>\n",
       "      <td>0</td>\n",
       "      <td>0</td>\n",
       "    </tr>\n",
       "    <tr>\n",
       "      <td>44127</td>\n",
       "      <td>f1c3e5fb243e759d51413516a9460e2b</td>\n",
       "      <td>2018-12-15 00:34:00</td>\n",
       "      <td>41269</td>\n",
       "      <td>8939661645</td>\n",
       "      <td>0</td>\n",
       "      <td>0</td>\n",
       "      <td>0</td>\n",
       "      <td>1</td>\n",
       "    </tr>\n",
       "    <tr>\n",
       "      <td>45351</td>\n",
       "      <td>deb08e6de8a11310c057b80cd4c395f3</td>\n",
       "      <td>2018-12-15 12:20:00</td>\n",
       "      <td>76668</td>\n",
       "      <td>8939661645</td>\n",
       "      <td>1</td>\n",
       "      <td>0</td>\n",
       "      <td>0</td>\n",
       "      <td>1</td>\n",
       "    </tr>\n",
       "    <tr>\n",
       "      <td>45815</td>\n",
       "      <td>7f3c173d6a90d775cc5cbda3138ba41f</td>\n",
       "      <td>2018-12-15 15:45:00</td>\n",
       "      <td>46671</td>\n",
       "      <td>8939661645</td>\n",
       "      <td>0</td>\n",
       "      <td>0</td>\n",
       "      <td>1</td>\n",
       "      <td>0</td>\n",
       "    </tr>\n",
       "    <tr>\n",
       "      <td>50327</td>\n",
       "      <td>17dcb0b69495c099c71158d3b1883197</td>\n",
       "      <td>2018-12-16 00:35:00</td>\n",
       "      <td>61469</td>\n",
       "      <td>8939661645</td>\n",
       "      <td>0</td>\n",
       "      <td>0</td>\n",
       "      <td>1</td>\n",
       "      <td>0</td>\n",
       "    </tr>\n",
       "    <tr>\n",
       "      <td>51802</td>\n",
       "      <td>adaafddd2165542e188dd9566b9fb3b0</td>\n",
       "      <td>2018-12-16 10:13:00</td>\n",
       "      <td>67633</td>\n",
       "      <td>8939661645</td>\n",
       "      <td>0</td>\n",
       "      <td>0</td>\n",
       "      <td>1</td>\n",
       "      <td>0</td>\n",
       "    </tr>\n",
       "    <tr>\n",
       "      <td>54514</td>\n",
       "      <td>21c453d0a0aa1f69542d18c6d2a7495c</td>\n",
       "      <td>2018-12-16 12:22:00</td>\n",
       "      <td>21574</td>\n",
       "      <td>8939661645</td>\n",
       "      <td>0</td>\n",
       "      <td>0</td>\n",
       "      <td>1</td>\n",
       "      <td>0</td>\n",
       "    </tr>\n",
       "    <tr>\n",
       "      <td>56603</td>\n",
       "      <td>88b29f8183da376763bb9214e7d3dec1</td>\n",
       "      <td>2018-12-16 01:01:00</td>\n",
       "      <td>41269</td>\n",
       "      <td>8939661645</td>\n",
       "      <td>0</td>\n",
       "      <td>0</td>\n",
       "      <td>0</td>\n",
       "      <td>1</td>\n",
       "    </tr>\n",
       "    <tr>\n",
       "      <td>56956</td>\n",
       "      <td>1d7a78dfe3d3fdd7133f549bb1d88eaa</td>\n",
       "      <td>2018-12-16 10:15:00</td>\n",
       "      <td>67633</td>\n",
       "      <td>8939661645</td>\n",
       "      <td>0</td>\n",
       "      <td>0</td>\n",
       "      <td>1</td>\n",
       "      <td>0</td>\n",
       "    </tr>\n",
       "    <tr>\n",
       "      <td>61754</td>\n",
       "      <td>e6f4c2ae3c8aa65dbe1d9b337657415a</td>\n",
       "      <td>2018-12-17 05:29:00</td>\n",
       "      <td>41269</td>\n",
       "      <td>8939661645</td>\n",
       "      <td>0</td>\n",
       "      <td>0</td>\n",
       "      <td>0</td>\n",
       "      <td>1</td>\n",
       "    </tr>\n",
       "    <tr>\n",
       "      <td>63576</td>\n",
       "      <td>85eb4025619c145eb1a3b99f10afd676</td>\n",
       "      <td>2018-12-17 00:30:00</td>\n",
       "      <td>681</td>\n",
       "      <td>8939661645</td>\n",
       "      <td>0</td>\n",
       "      <td>0</td>\n",
       "      <td>1</td>\n",
       "      <td>0</td>\n",
       "    </tr>\n",
       "    <tr>\n",
       "      <td>64189</td>\n",
       "      <td>983b6929d5259b28395cb74339837db5</td>\n",
       "      <td>2018-12-17 01:32:00</td>\n",
       "      <td>681</td>\n",
       "      <td>8939661645</td>\n",
       "      <td>0</td>\n",
       "      <td>0</td>\n",
       "      <td>1</td>\n",
       "      <td>0</td>\n",
       "    </tr>\n",
       "    <tr>\n",
       "      <td>65312</td>\n",
       "      <td>1052b650b0b24780760c6f1bc62b4c3a</td>\n",
       "      <td>2018-12-17 19:01:00</td>\n",
       "      <td>25966</td>\n",
       "      <td>8939661645</td>\n",
       "      <td>0</td>\n",
       "      <td>0</td>\n",
       "      <td>0</td>\n",
       "      <td>1</td>\n",
       "    </tr>\n",
       "    <tr>\n",
       "      <td>66215</td>\n",
       "      <td>107d0ac62e2395bbf21211ce16270f09</td>\n",
       "      <td>2018-12-17 21:42:00</td>\n",
       "      <td>60142</td>\n",
       "      <td>8939661645</td>\n",
       "      <td>0</td>\n",
       "      <td>0</td>\n",
       "      <td>0</td>\n",
       "      <td>1</td>\n",
       "    </tr>\n",
       "    <tr>\n",
       "      <td>68018</td>\n",
       "      <td>47c53bd0377aeff178f9e334a842186f</td>\n",
       "      <td>2018-12-16 17:41:00</td>\n",
       "      <td>15215</td>\n",
       "      <td>8939661645</td>\n",
       "      <td>0</td>\n",
       "      <td>0</td>\n",
       "      <td>1</td>\n",
       "      <td>0</td>\n",
       "    </tr>\n",
       "    <tr>\n",
       "      <td>71653</td>\n",
       "      <td>c07c3b09dcaad54b86349bb8d1f22cdf</td>\n",
       "      <td>2018-12-17 17:28:00</td>\n",
       "      <td>31372</td>\n",
       "      <td>8939661645</td>\n",
       "      <td>0</td>\n",
       "      <td>1</td>\n",
       "      <td>0</td>\n",
       "      <td>0</td>\n",
       "    </tr>\n",
       "    <tr>\n",
       "      <td>72963</td>\n",
       "      <td>92f425043c7169a8135c0fb7ddbfe584</td>\n",
       "      <td>2018-12-17 19:45:00</td>\n",
       "      <td>86779</td>\n",
       "      <td>8939661645</td>\n",
       "      <td>1</td>\n",
       "      <td>0</td>\n",
       "      <td>0</td>\n",
       "      <td>1</td>\n",
       "    </tr>\n",
       "    <tr>\n",
       "      <td>73064</td>\n",
       "      <td>1d328d8e2f53f7938d75c2fef7ff4b64</td>\n",
       "      <td>2018-12-17 20:05:00</td>\n",
       "      <td>46662</td>\n",
       "      <td>8939661645</td>\n",
       "      <td>0</td>\n",
       "      <td>0</td>\n",
       "      <td>1</td>\n",
       "      <td>0</td>\n",
       "    </tr>\n",
       "    <tr>\n",
       "      <td>75082</td>\n",
       "      <td>f60ac3be9e592ba57cb86b80cbbdd5d6</td>\n",
       "      <td>2018-12-17 14:18:00</td>\n",
       "      <td>76621</td>\n",
       "      <td>8939661645</td>\n",
       "      <td>0</td>\n",
       "      <td>0</td>\n",
       "      <td>0</td>\n",
       "      <td>1</td>\n",
       "    </tr>\n",
       "    <tr>\n",
       "      <td>75852</td>\n",
       "      <td>9e4050592e045694bbdfe925c7657f36</td>\n",
       "      <td>2018-12-17 06:18:00</td>\n",
       "      <td>79340</td>\n",
       "      <td>8939661645</td>\n",
       "      <td>0</td>\n",
       "      <td>0</td>\n",
       "      <td>1</td>\n",
       "      <td>0</td>\n",
       "    </tr>\n",
       "    <tr>\n",
       "      <td>77680</td>\n",
       "      <td>f31932aea14ced4d4e14e07263be6393</td>\n",
       "      <td>2018-12-18 12:16:00</td>\n",
       "      <td>25282</td>\n",
       "      <td>8939661645</td>\n",
       "      <td>0</td>\n",
       "      <td>0</td>\n",
       "      <td>0</td>\n",
       "      <td>1</td>\n",
       "    </tr>\n",
       "    <tr>\n",
       "      <td>79278</td>\n",
       "      <td>df7ff0a00b6ec410856e9b0003dcb5dd</td>\n",
       "      <td>2018-12-17 17:15:00</td>\n",
       "      <td>76621</td>\n",
       "      <td>8939661645</td>\n",
       "      <td>0</td>\n",
       "      <td>0</td>\n",
       "      <td>0</td>\n",
       "      <td>1</td>\n",
       "    </tr>\n",
       "    <tr>\n",
       "      <td>80775</td>\n",
       "      <td>3ec6100f79c600c92662468b39e8501a</td>\n",
       "      <td>2018-12-18 22:20:00</td>\n",
       "      <td>56103</td>\n",
       "      <td>8939661645</td>\n",
       "      <td>0</td>\n",
       "      <td>0</td>\n",
       "      <td>1</td>\n",
       "      <td>0</td>\n",
       "    </tr>\n",
       "    <tr>\n",
       "      <td>80789</td>\n",
       "      <td>0d26626daee60b33a9ff69b5e5ccccfe</td>\n",
       "      <td>2018-12-18 22:33:00</td>\n",
       "      <td>56103</td>\n",
       "      <td>8939661645</td>\n",
       "      <td>0</td>\n",
       "      <td>0</td>\n",
       "      <td>1</td>\n",
       "      <td>0</td>\n",
       "    </tr>\n",
       "    <tr>\n",
       "      <td>80807</td>\n",
       "      <td>d2455c01916fc5f714afa7cba12d3315</td>\n",
       "      <td>2018-12-18 22:54:00</td>\n",
       "      <td>48855</td>\n",
       "      <td>8939661645</td>\n",
       "      <td>1</td>\n",
       "      <td>0</td>\n",
       "      <td>0</td>\n",
       "      <td>1</td>\n",
       "    </tr>\n",
       "    <tr>\n",
       "      <td>81821</td>\n",
       "      <td>7ecb702643a579f976b2f9fff8db6503</td>\n",
       "      <td>2018-12-17 21:25:00</td>\n",
       "      <td>41269</td>\n",
       "      <td>8939661645</td>\n",
       "      <td>0</td>\n",
       "      <td>0</td>\n",
       "      <td>0</td>\n",
       "      <td>1</td>\n",
       "    </tr>\n",
       "    <tr>\n",
       "      <td>87477</td>\n",
       "      <td>1cff3972cbb65ce896c7e93b73260b1c</td>\n",
       "      <td>2018-12-18 21:48:00</td>\n",
       "      <td>48855</td>\n",
       "      <td>8939661645</td>\n",
       "      <td>1</td>\n",
       "      <td>0</td>\n",
       "      <td>0</td>\n",
       "      <td>1</td>\n",
       "    </tr>\n",
       "    <tr>\n",
       "      <td>87986</td>\n",
       "      <td>bf4937559217ab5f1f8912bf1eabc5f7</td>\n",
       "      <td>2018-12-18 23:00:00</td>\n",
       "      <td>66348</td>\n",
       "      <td>8939661645</td>\n",
       "      <td>0</td>\n",
       "      <td>0</td>\n",
       "      <td>0</td>\n",
       "      <td>1</td>\n",
       "    </tr>\n",
       "    <tr>\n",
       "      <td>88875</td>\n",
       "      <td>5f34a03a576c5442f4b2295cb921280a</td>\n",
       "      <td>2018-12-18 18:37:00</td>\n",
       "      <td>60587</td>\n",
       "      <td>8939661645</td>\n",
       "      <td>1</td>\n",
       "      <td>0</td>\n",
       "      <td>1</td>\n",
       "      <td>0</td>\n",
       "    </tr>\n",
       "  </tbody>\n",
       "</table>\n",
       "</div>"
      ],
      "text/plain": [
       "                          impression_id      impression_time  user_id  \\\n",
       "480    49cbd6103967e1845ea3876a2875afac  2018-12-12 22:32:00    41269   \n",
       "2040   6a239d26b2040ff72d820b7b9c7c59b8  2018-12-13 00:11:00    41269   \n",
       "3894   5190d12ad48dc406f38cf0986837e7df  2018-12-13 19:58:00    36439   \n",
       "11120  d80140818c83d530a59796c5e798f787  2018-12-14 10:47:00     1832   \n",
       "12021  5daafff48099e44bf561afbf5a2d6f95  2018-12-12 04:32:00    10423   \n",
       "12935  85d41899003777333ef3f3e149e7df0e  2018-12-14 18:11:00    33094   \n",
       "19106  4f957d518d6e8f4af637baf206b4cc42  2018-12-14 16:41:00    41269   \n",
       "20485  9aafd5557986ba63f49b2e29cfacc404  2018-12-15 00:41:00    71199   \n",
       "21261  4840396238031bc3de71438b5d81c925  2018-12-15 06:26:00    77742   \n",
       "23518  089b2daf94346851fc9d72f7e40757b2  2018-12-15 00:29:00    71199   \n",
       "24007  5533bb685acae3f7585640c2527aa9c2  2018-12-15 06:32:00    41269   \n",
       "25197  74fe34a6965597039b1cfbd1b5ebfa4b  2018-12-15 18:58:00    43923   \n",
       "25964  c59ab66119d614e6494c1d784cd86bba  2018-12-15 07:00:00    73518   \n",
       "28174  24394768ceb40940a113743fbb6e022d  2018-12-15 00:44:00    55073   \n",
       "29020  8a22d13d78da9a8c6f691c8c69bc1fab  2018-12-15 15:45:00    46671   \n",
       "30267  fa40e53fa2d670afbbe5d45c84cda7e1  2018-12-13 23:16:00    89816   \n",
       "30851  989e256542a3ad065ff94943397c5531  2018-12-14 00:30:00    10423   \n",
       "31968  2ec813a897bd8b93e29fc24d34b9cd13  2018-12-14 05:36:00    41269   \n",
       "35119  99f222e7271ab2259cfd5a078fab3210  2018-12-15 15:47:00    46671   \n",
       "36035  0d34c56f17569645173227e9ae4e3dc5  2018-12-15 21:22:00      681   \n",
       "36260  7ae3b6e27befaba342db36d838720f6b  2018-12-15 22:47:00    72621   \n",
       "37171  da6542d3569ebb69d52ef3f2fdf19def  2018-12-13 23:08:00    41269   \n",
       "38070  66948b2f13245b4a99e7ce735fbc5ad3  2018-12-14 18:21:00    33094   \n",
       "38336  326725167eaf6c722cb1e2e90ab39fea  2018-12-14 12:37:00    71199   \n",
       "40661  672980473a551ea7a21cef6e933c5a41  2018-12-15 13:53:00    87270   \n",
       "40999  1434d2a935da4399363620e358bea255  2018-12-15 15:42:00    46671   \n",
       "41362  a6f301048b299905aafc593db7f3a0eb  2018-12-15 17:34:00    81533   \n",
       "44127  f1c3e5fb243e759d51413516a9460e2b  2018-12-15 00:34:00    41269   \n",
       "45351  deb08e6de8a11310c057b80cd4c395f3  2018-12-15 12:20:00    76668   \n",
       "45815  7f3c173d6a90d775cc5cbda3138ba41f  2018-12-15 15:45:00    46671   \n",
       "50327  17dcb0b69495c099c71158d3b1883197  2018-12-16 00:35:00    61469   \n",
       "51802  adaafddd2165542e188dd9566b9fb3b0  2018-12-16 10:13:00    67633   \n",
       "54514  21c453d0a0aa1f69542d18c6d2a7495c  2018-12-16 12:22:00    21574   \n",
       "56603  88b29f8183da376763bb9214e7d3dec1  2018-12-16 01:01:00    41269   \n",
       "56956  1d7a78dfe3d3fdd7133f549bb1d88eaa  2018-12-16 10:15:00    67633   \n",
       "61754  e6f4c2ae3c8aa65dbe1d9b337657415a  2018-12-17 05:29:00    41269   \n",
       "63576  85eb4025619c145eb1a3b99f10afd676  2018-12-17 00:30:00      681   \n",
       "64189  983b6929d5259b28395cb74339837db5  2018-12-17 01:32:00      681   \n",
       "65312  1052b650b0b24780760c6f1bc62b4c3a  2018-12-17 19:01:00    25966   \n",
       "66215  107d0ac62e2395bbf21211ce16270f09  2018-12-17 21:42:00    60142   \n",
       "68018  47c53bd0377aeff178f9e334a842186f  2018-12-16 17:41:00    15215   \n",
       "71653  c07c3b09dcaad54b86349bb8d1f22cdf  2018-12-17 17:28:00    31372   \n",
       "72963  92f425043c7169a8135c0fb7ddbfe584  2018-12-17 19:45:00    86779   \n",
       "73064  1d328d8e2f53f7938d75c2fef7ff4b64  2018-12-17 20:05:00    46662   \n",
       "75082  f60ac3be9e592ba57cb86b80cbbdd5d6  2018-12-17 14:18:00    76621   \n",
       "75852  9e4050592e045694bbdfe925c7657f36  2018-12-17 06:18:00    79340   \n",
       "77680  f31932aea14ced4d4e14e07263be6393  2018-12-18 12:16:00    25282   \n",
       "79278  df7ff0a00b6ec410856e9b0003dcb5dd  2018-12-17 17:15:00    76621   \n",
       "80775  3ec6100f79c600c92662468b39e8501a  2018-12-18 22:20:00    56103   \n",
       "80789  0d26626daee60b33a9ff69b5e5ccccfe  2018-12-18 22:33:00    56103   \n",
       "80807  d2455c01916fc5f714afa7cba12d3315  2018-12-18 22:54:00    48855   \n",
       "81821  7ecb702643a579f976b2f9fff8db6503  2018-12-17 21:25:00    41269   \n",
       "87477  1cff3972cbb65ce896c7e93b73260b1c  2018-12-18 21:48:00    48855   \n",
       "87986  bf4937559217ab5f1f8912bf1eabc5f7  2018-12-18 23:00:00    66348   \n",
       "88875  5f34a03a576c5442f4b2295cb921280a  2018-12-18 18:37:00    60587   \n",
       "\n",
       "         app_code  is_4G  OS_Version_intermediate  OS_Version_latest  \\\n",
       "480    8939661645      0                        0                  0   \n",
       "2040   8939661645      0                        0                  0   \n",
       "3894   8939661645      1                        1                  0   \n",
       "11120  8939661645      0                        0                  1   \n",
       "12021  8939661645      0                        0                  1   \n",
       "12935  8939661645      1                        0                  1   \n",
       "19106  8939661645      0                        0                  0   \n",
       "20485  8939661645      1                        0                  1   \n",
       "21261  8939661645      1                        0                  1   \n",
       "23518  8939661645      1                        0                  1   \n",
       "24007  8939661645      0                        0                  0   \n",
       "25197  8939661645      1                        0                  0   \n",
       "25964  8939661645      1                        1                  0   \n",
       "28174  8939661645      0                        0                  0   \n",
       "29020  8939661645      0                        0                  1   \n",
       "30267  8939661645      0                        0                  1   \n",
       "30851  8939661645      0                        0                  1   \n",
       "31968  8939661645      0                        0                  0   \n",
       "35119  8939661645      0                        0                  1   \n",
       "36035  8939661645      0                        0                  1   \n",
       "36260  8939661645      0                        0                  0   \n",
       "37171  8939661645      0                        0                  0   \n",
       "38070  8939661645      1                        0                  1   \n",
       "38336  8939661645      1                        0                  1   \n",
       "40661  8939661645      1                        0                  0   \n",
       "40999  8939661645      0                        0                  1   \n",
       "41362  8939661645      0                        1                  0   \n",
       "44127  8939661645      0                        0                  0   \n",
       "45351  8939661645      1                        0                  0   \n",
       "45815  8939661645      0                        0                  1   \n",
       "50327  8939661645      0                        0                  1   \n",
       "51802  8939661645      0                        0                  1   \n",
       "54514  8939661645      0                        0                  1   \n",
       "56603  8939661645      0                        0                  0   \n",
       "56956  8939661645      0                        0                  1   \n",
       "61754  8939661645      0                        0                  0   \n",
       "63576  8939661645      0                        0                  1   \n",
       "64189  8939661645      0                        0                  1   \n",
       "65312  8939661645      0                        0                  0   \n",
       "66215  8939661645      0                        0                  0   \n",
       "68018  8939661645      0                        0                  1   \n",
       "71653  8939661645      0                        1                  0   \n",
       "72963  8939661645      1                        0                  0   \n",
       "73064  8939661645      0                        0                  1   \n",
       "75082  8939661645      0                        0                  0   \n",
       "75852  8939661645      0                        0                  1   \n",
       "77680  8939661645      0                        0                  0   \n",
       "79278  8939661645      0                        0                  0   \n",
       "80775  8939661645      0                        0                  1   \n",
       "80789  8939661645      0                        0                  1   \n",
       "80807  8939661645      1                        0                  0   \n",
       "81821  8939661645      0                        0                  0   \n",
       "87477  8939661645      1                        0                  0   \n",
       "87986  8939661645      0                        0                  0   \n",
       "88875  8939661645      1                        0                  1   \n",
       "\n",
       "       OS_Version_old  \n",
       "480                 1  \n",
       "2040                1  \n",
       "3894                0  \n",
       "11120               0  \n",
       "12021               0  \n",
       "12935               0  \n",
       "19106               1  \n",
       "20485               0  \n",
       "21261               0  \n",
       "23518               0  \n",
       "24007               1  \n",
       "25197               1  \n",
       "25964               0  \n",
       "28174               1  \n",
       "29020               0  \n",
       "30267               0  \n",
       "30851               0  \n",
       "31968               1  \n",
       "35119               0  \n",
       "36035               0  \n",
       "36260               1  \n",
       "37171               1  \n",
       "38070               0  \n",
       "38336               0  \n",
       "40661               1  \n",
       "40999               0  \n",
       "41362               0  \n",
       "44127               1  \n",
       "45351               1  \n",
       "45815               0  \n",
       "50327               0  \n",
       "51802               0  \n",
       "54514               0  \n",
       "56603               1  \n",
       "56956               0  \n",
       "61754               1  \n",
       "63576               0  \n",
       "64189               0  \n",
       "65312               1  \n",
       "66215               1  \n",
       "68018               0  \n",
       "71653               0  \n",
       "72963               1  \n",
       "73064               0  \n",
       "75082               1  \n",
       "75852               0  \n",
       "77680               1  \n",
       "79278               1  \n",
       "80775               0  \n",
       "80789               0  \n",
       "80807               1  \n",
       "81821               1  \n",
       "87477               1  \n",
       "87986               1  \n",
       "88875               0  "
      ]
     },
     "execution_count": 186,
     "metadata": {},
     "output_type": "execute_result"
    }
   ],
   "source": [
    "test_orig[test_orig.app_code == 8939661645]"
   ]
  },
  {
   "cell_type": "code",
   "execution_count": 187,
   "metadata": {},
   "outputs": [
    {
     "name": "stdout",
     "output_type": "stream",
     "text": [
      "<class 'pandas.core.frame.DataFrame'>\n",
      "Int64Index: 236899 entries, 0 to 237608\n",
      "Columns: 349 entries, impression_id to app_code_522\n",
      "dtypes: int64(3), object(2), uint8(344)\n",
      "memory usage: 88.6+ MB\n"
     ]
    }
   ],
   "source": [
    "#Train Data - Generating dummies for ('app_code') column\n",
    "app_code_dummies = pd.get_dummies(train_orig['app_code'], prefix='app_code')\n",
    "train_orig = pd.concat([train_orig, app_code_dummies], axis = 1)\n",
    "train_orig.drop('app_code',inplace=True, axis=1)\n",
    "train_orig.info()"
   ]
  },
  {
   "cell_type": "code",
   "execution_count": 188,
   "metadata": {},
   "outputs": [
    {
     "name": "stdout",
     "output_type": "stream",
     "text": [
      "<class 'pandas.core.frame.DataFrame'>\n",
      "RangeIndex: 90675 entries, 0 to 90674\n",
      "Columns: 349 entries, impression_id to app_code_8939661645\n",
      "dtypes: int64(2), object(2), uint8(345)\n",
      "memory usage: 32.6+ MB\n"
     ]
    }
   ],
   "source": [
    "#Test Data - Generating dummies for ('os_version')\n",
    "app_code_dummies = pd.get_dummies(test_orig['app_code'], prefix='app_code')\n",
    "test_orig = pd.concat([test_orig, app_code_dummies], axis = 1)\n",
    "test_orig.drop('app_code',inplace=True, axis=1)\n",
    "test_orig.info()"
   ]
  },
  {
   "cell_type": "code",
   "execution_count": 189,
   "metadata": {},
   "outputs": [],
   "source": [
    "#Remove the column replaced as 8939661645 from test data\n",
    "test_orig.drop('app_code_8939661645', inplace=True, axis=1)"
   ]
  },
  {
   "cell_type": "code",
   "execution_count": 190,
   "metadata": {},
   "outputs": [
    {
     "data": {
      "text/plain": [
       "<matplotlib.axes._subplots.AxesSubplot at 0x1d9013ccf60>"
      ]
     },
     "execution_count": 190,
     "metadata": {},
     "output_type": "execute_result"
    },
    {
     "data": {
      "image/png": "[encoded data removed]",
      "text/plain": [
       "<Figure size 432x288 with 1 Axes>"
      ]
     },
     "metadata": {
      "needs_background": "light"
     },
     "output_type": "display_data"
    }
   ],
   "source": [
    "sns.countplot(x=train_orig.is_4G, hue=train_orig.is_click)"
   ]
  },
  {
   "cell_type": "code",
   "execution_count": 191,
   "metadata": {},
   "outputs": [
    {
     "data": {
      "text/plain": [
       "0    151284\n",
       "1     85615\n",
       "Name: is_4G, dtype: int64"
      ]
     },
     "execution_count": 191,
     "metadata": {},
     "output_type": "execute_result"
    }
   ],
   "source": [
    "train_orig.is_4G.value_counts()"
   ]
  },
  {
   "cell_type": "code",
   "execution_count": 192,
   "metadata": {},
   "outputs": [],
   "source": [
    "is_4G_dummies = pd.get_dummies(train_orig['is_4G'], prefix='is_4G')\n",
    "train_orig = pd.concat([train_orig, is_4G_dummies], axis = 1)\n",
    "train_orig.drop('is_4G',inplace=True, axis=1)"
   ]
  },
  {
   "cell_type": "code",
   "execution_count": 193,
   "metadata": {},
   "outputs": [],
   "source": [
    "#Drop impression_id column as it is of no use\n",
    "train_orig.drop('impression_id',inplace=True, axis=1)"
   ]
  },
  {
   "cell_type": "code",
   "execution_count": 194,
   "metadata": {},
   "outputs": [
    {
     "data": {
      "text/plain": [
       "0    226079\n",
       "1     10820\n",
       "Name: is_click, dtype: int64"
      ]
     },
     "execution_count": 194,
     "metadata": {},
     "output_type": "execute_result"
    }
   ],
   "source": [
    "train_orig.is_click.value_counts()\n",
    "#Data is biased towards is_click as 0"
   ]
  },
  {
   "cell_type": "code",
   "execution_count": 195,
   "metadata": {},
   "outputs": [
    {
     "data": {
      "text/plain": [
       "0         2018-11-15 00:00:00\n",
       "1         2018-11-15 00:01:00\n",
       "2         2018-11-15 00:02:00\n",
       "3         2018-11-15 00:02:00\n",
       "4         2018-11-15 00:02:00\n",
       "                 ...         \n",
       "237604    2018-12-13 07:40:00\n",
       "237605    2018-12-13 07:41:00\n",
       "237606    2018-12-13 07:42:00\n",
       "237607    2018-12-13 07:43:00\n",
       "237608    2018-12-13 07:43:00\n",
       "Name: impression_time, Length: 236899, dtype: object"
      ]
     },
     "execution_count": 195,
     "metadata": {},
     "output_type": "execute_result"
    }
   ],
   "source": [
    "train_orig['impression_time']"
   ]
  },
  {
   "cell_type": "code",
   "execution_count": 196,
   "metadata": {},
   "outputs": [],
   "source": [
    "#Convert the 'impression_time' column to datetime to perform operations\n",
    "train_orig['impression_time'] = pd.to_datetime(train_orig['impression_time'])"
   ]
  },
  {
   "cell_type": "code",
   "execution_count": 197,
   "metadata": {},
   "outputs": [],
   "source": [
    "#Convert the 'impression_time' column to datetime to perform operations\n",
    "test_orig['impression_time'] = pd.to_datetime(test_orig['impression_time'])"
   ]
  },
  {
   "cell_type": "code",
   "execution_count": 198,
   "metadata": {},
   "outputs": [],
   "source": [
    "#Extracting the hour(0-23), weekday number(0-6) and weekday name() in text from \n",
    "train_orig['hour_in_day'] = train_orig['impression_time'].apply(lambda val : val.hour)\n",
    "train_orig['weekday'] = train_orig['impression_time'].apply(lambda val: val.dayofweek)\n",
    "train_orig['day_name'] = train_orig['impression_time'].apply(lambda x: x.strftime('%A'))\n",
    "train_orig.drop('impression_time', axis=1, inplace=True)"
   ]
  },
  {
   "cell_type": "code",
   "execution_count": 199,
   "metadata": {},
   "outputs": [],
   "source": [
    "#Extracting the hour(0-23), weekday number(0-6) and weekday name() in text from impression_time\n",
    "test_orig['hour_in_day'] = test_orig['impression_time'].apply(lambda val : val.hour)\n",
    "test_orig['weekday'] = test_orig['impression_time'].apply(lambda val: val.dayofweek)\n",
    "test_orig.drop('impression_time', axis=1, inplace=True)"
   ]
  },
  {
   "cell_type": "code",
   "execution_count": 200,
   "metadata": {},
   "outputs": [
    {
     "data": {
      "text/plain": [
       "1    43818\n",
       "0    34870\n",
       "3    33863\n",
       "6    31609\n",
       "5    31196\n",
       "4    30836\n",
       "2    30707\n",
       "Name: weekday, dtype: int64"
      ]
     },
     "execution_count": 200,
     "metadata": {},
     "output_type": "execute_result"
    }
   ],
   "source": [
    "train_orig['weekday'].value_counts()"
   ]
  },
  {
   "cell_type": "code",
   "execution_count": 201,
   "metadata": {},
   "outputs": [
    {
     "data": {
      "text/plain": [
       "Tuesday      43818\n",
       "Monday       34870\n",
       "Thursday     33863\n",
       "Sunday       31609\n",
       "Saturday     31196\n",
       "Friday       30836\n",
       "Wednesday    30707\n",
       "Name: day_name, dtype: int64"
      ]
     },
     "execution_count": 201,
     "metadata": {},
     "output_type": "execute_result"
    }
   ],
   "source": [
    "train_orig['day_name'].value_counts()"
   ]
  },
  {
   "cell_type": "code",
   "execution_count": 202,
   "metadata": {},
   "outputs": [
    {
     "data": {
      "text/plain": [
       "0     21142\n",
       "20    15331\n",
       "21    15260\n",
       "22    14471\n",
       "19    13954\n",
       "17    13752\n",
       "18    13699\n",
       "23    12919\n",
       "16    12895\n",
       "15    11920\n",
       "14    11060\n",
       "1     10734\n",
       "13    10236\n",
       "12     9751\n",
       "11     9517\n",
       "10     8959\n",
       "9      8302\n",
       "8      6071\n",
       "7      5057\n",
       "2      4694\n",
       "6      3091\n",
       "5      1587\n",
       "3      1343\n",
       "4      1154\n",
       "Name: hour_in_day, dtype: int64"
      ]
     },
     "execution_count": 202,
     "metadata": {},
     "output_type": "execute_result"
    }
   ],
   "source": [
    "train_orig['hour_in_day'].value_counts()"
   ]
  },
  {
   "cell_type": "code",
   "execution_count": 203,
   "metadata": {},
   "outputs": [
    {
     "data": {
      "text/plain": [
       "<matplotlib.axes._subplots.AxesSubplot at 0x1d955612b00>"
      ]
     },
     "execution_count": 203,
     "metadata": {},
     "output_type": "execute_result"
    },
    {
     "data": {
      "image/png": "[encoded data removed]",
      "text/plain": [
       "<Figure size 432x288 with 1 Axes>"
      ]
     },
     "metadata": {
      "needs_background": "light"
     },
     "output_type": "display_data"
    }
   ],
   "source": [
    "train_orig.groupby(['hour_in_day', 'is_click']).size().unstack().plot(kind='bar', stacked=True, title=\"Hour in Day\")"
   ]
  },
  {
   "cell_type": "code",
   "execution_count": 204,
   "metadata": {},
   "outputs": [],
   "source": [
    "#creating a temporary dataframe to understand the possible relationship between hour of the day, day of the week relationship with the clicks\n",
    "day_df = pd.DataFrame()"
   ]
  },
  {
   "cell_type": "code",
   "execution_count": 205,
   "metadata": {},
   "outputs": [],
   "source": [
    "day_df['day'] = train_orig[['day_name','is_click']].groupby(['day_name']).count().reset_index().sort_values('is_click',ascending=False)['day_name']"
   ]
  },
  {
   "cell_type": "code",
   "execution_count": 206,
   "metadata": {},
   "outputs": [
    {
     "data": {
      "text/html": [
       "<div>\n",
       "<style scoped>\n",
       "    .dataframe tbody tr th:only-of-type {\n",
       "        vertical-align: middle;\n",
       "    }\n",
       "\n",
       "    .dataframe tbody tr th {\n",
       "        vertical-align: top;\n",
       "    }\n",
       "\n",
       "    .dataframe thead th {\n",
       "        text-align: right;\n",
       "    }\n",
       "</style>\n",
       "<table border=\"1\" class=\"dataframe\">\n",
       "  <thead>\n",
       "    <tr style=\"text-align: right;\">\n",
       "      <th></th>\n",
       "      <th>day</th>\n",
       "    </tr>\n",
       "  </thead>\n",
       "  <tbody>\n",
       "    <tr>\n",
       "      <td>5</td>\n",
       "      <td>Tuesday</td>\n",
       "    </tr>\n",
       "    <tr>\n",
       "      <td>1</td>\n",
       "      <td>Monday</td>\n",
       "    </tr>\n",
       "    <tr>\n",
       "      <td>4</td>\n",
       "      <td>Thursday</td>\n",
       "    </tr>\n",
       "    <tr>\n",
       "      <td>3</td>\n",
       "      <td>Sunday</td>\n",
       "    </tr>\n",
       "    <tr>\n",
       "      <td>2</td>\n",
       "      <td>Saturday</td>\n",
       "    </tr>\n",
       "    <tr>\n",
       "      <td>0</td>\n",
       "      <td>Friday</td>\n",
       "    </tr>\n",
       "    <tr>\n",
       "      <td>6</td>\n",
       "      <td>Wednesday</td>\n",
       "    </tr>\n",
       "  </tbody>\n",
       "</table>\n",
       "</div>"
      ],
      "text/plain": [
       "         day\n",
       "5    Tuesday\n",
       "1     Monday\n",
       "4   Thursday\n",
       "3     Sunday\n",
       "2   Saturday\n",
       "0     Friday\n",
       "6  Wednesday"
      ]
     },
     "execution_count": 206,
     "metadata": {},
     "output_type": "execute_result"
    }
   ],
   "source": [
    "day_df"
   ]
  },
  {
   "cell_type": "code",
   "execution_count": 207,
   "metadata": {},
   "outputs": [
    {
     "data": {
      "text/html": [
       "<div>\n",
       "<style scoped>\n",
       "    .dataframe tbody tr th:only-of-type {\n",
       "        vertical-align: middle;\n",
       "    }\n",
       "\n",
       "    .dataframe tbody tr th {\n",
       "        vertical-align: top;\n",
       "    }\n",
       "\n",
       "    .dataframe thead th {\n",
       "        text-align: right;\n",
       "    }\n",
       "</style>\n",
       "<table border=\"1\" class=\"dataframe\">\n",
       "  <thead>\n",
       "    <tr style=\"text-align: right;\">\n",
       "      <th></th>\n",
       "      <th>day</th>\n",
       "      <th>total_impressions</th>\n",
       "    </tr>\n",
       "  </thead>\n",
       "  <tbody>\n",
       "    <tr>\n",
       "      <td>5</td>\n",
       "      <td>Tuesday</td>\n",
       "      <td>43818</td>\n",
       "    </tr>\n",
       "    <tr>\n",
       "      <td>1</td>\n",
       "      <td>Monday</td>\n",
       "      <td>34870</td>\n",
       "    </tr>\n",
       "    <tr>\n",
       "      <td>4</td>\n",
       "      <td>Thursday</td>\n",
       "      <td>33863</td>\n",
       "    </tr>\n",
       "    <tr>\n",
       "      <td>3</td>\n",
       "      <td>Sunday</td>\n",
       "      <td>31609</td>\n",
       "    </tr>\n",
       "    <tr>\n",
       "      <td>2</td>\n",
       "      <td>Saturday</td>\n",
       "      <td>31196</td>\n",
       "    </tr>\n",
       "    <tr>\n",
       "      <td>0</td>\n",
       "      <td>Friday</td>\n",
       "      <td>30836</td>\n",
       "    </tr>\n",
       "    <tr>\n",
       "      <td>6</td>\n",
       "      <td>Wednesday</td>\n",
       "      <td>30707</td>\n",
       "    </tr>\n",
       "  </tbody>\n",
       "</table>\n",
       "</div>"
      ],
      "text/plain": [
       "         day  total_impressions\n",
       "5    Tuesday              43818\n",
       "1     Monday              34870\n",
       "4   Thursday              33863\n",
       "3     Sunday              31609\n",
       "2   Saturday              31196\n",
       "0     Friday              30836\n",
       "6  Wednesday              30707"
      ]
     },
     "execution_count": 207,
     "metadata": {},
     "output_type": "execute_result"
    }
   ],
   "source": [
    "day_df['total_impressions'] = train_orig[['day_name','is_click']].groupby(['day_name']).count().reset_index().sort_values('is_click',ascending=False)['is_click']\n",
    "day_df"
   ]
  },
  {
   "cell_type": "code",
   "execution_count": 208,
   "metadata": {},
   "outputs": [
    {
     "data": {
      "text/html": [
       "<div>\n",
       "<style scoped>\n",
       "    .dataframe tbody tr th:only-of-type {\n",
       "        vertical-align: middle;\n",
       "    }\n",
       "\n",
       "    .dataframe tbody tr th {\n",
       "        vertical-align: top;\n",
       "    }\n",
       "\n",
       "    .dataframe thead th {\n",
       "        text-align: right;\n",
       "    }\n",
       "</style>\n",
       "<table border=\"1\" class=\"dataframe\">\n",
       "  <thead>\n",
       "    <tr style=\"text-align: right;\">\n",
       "      <th></th>\n",
       "      <th>day</th>\n",
       "      <th>total_impressions</th>\n",
       "      <th>pos_clicks</th>\n",
       "    </tr>\n",
       "  </thead>\n",
       "  <tbody>\n",
       "    <tr>\n",
       "      <td>5</td>\n",
       "      <td>Tuesday</td>\n",
       "      <td>43818</td>\n",
       "      <td>1883</td>\n",
       "    </tr>\n",
       "    <tr>\n",
       "      <td>1</td>\n",
       "      <td>Monday</td>\n",
       "      <td>34870</td>\n",
       "      <td>1627</td>\n",
       "    </tr>\n",
       "    <tr>\n",
       "      <td>4</td>\n",
       "      <td>Thursday</td>\n",
       "      <td>33863</td>\n",
       "      <td>1551</td>\n",
       "    </tr>\n",
       "    <tr>\n",
       "      <td>3</td>\n",
       "      <td>Sunday</td>\n",
       "      <td>31609</td>\n",
       "      <td>1515</td>\n",
       "    </tr>\n",
       "    <tr>\n",
       "      <td>2</td>\n",
       "      <td>Saturday</td>\n",
       "      <td>31196</td>\n",
       "      <td>1498</td>\n",
       "    </tr>\n",
       "    <tr>\n",
       "      <td>0</td>\n",
       "      <td>Friday</td>\n",
       "      <td>30836</td>\n",
       "      <td>1376</td>\n",
       "    </tr>\n",
       "    <tr>\n",
       "      <td>6</td>\n",
       "      <td>Wednesday</td>\n",
       "      <td>30707</td>\n",
       "      <td>1370</td>\n",
       "    </tr>\n",
       "  </tbody>\n",
       "</table>\n",
       "</div>"
      ],
      "text/plain": [
       "         day  total_impressions  pos_clicks\n",
       "5    Tuesday              43818        1883\n",
       "1     Monday              34870        1627\n",
       "4   Thursday              33863        1551\n",
       "3     Sunday              31609        1515\n",
       "2   Saturday              31196        1498\n",
       "0     Friday              30836        1376\n",
       "6  Wednesday              30707        1370"
      ]
     },
     "execution_count": 208,
     "metadata": {},
     "output_type": "execute_result"
    }
   ],
   "source": [
    "#day_df['pos_clicks'] = train_orig[['day_name','is_click']].groupby(['day_name']).count().reset_index().sort_values('is_click',ascending=False)['is_click']\n",
    "day_df['pos_clicks'] = train_orig[['day_name','is_click']][train_orig.is_click == 1].groupby(['day_name']).count().reset_index().sort_values('is_click',ascending=False)['is_click']\n",
    "#train_orig[['day_name','is_click']].groupby(['day_name']).count().reset_index().sort_values('is_click',ascending=False)['is_click']\n",
    "day_df"
   ]
  },
  {
   "cell_type": "code",
   "execution_count": 209,
   "metadata": {},
   "outputs": [
    {
     "data": {
      "text/html": [
       "<div>\n",
       "<style scoped>\n",
       "    .dataframe tbody tr th:only-of-type {\n",
       "        vertical-align: middle;\n",
       "    }\n",
       "\n",
       "    .dataframe tbody tr th {\n",
       "        vertical-align: top;\n",
       "    }\n",
       "\n",
       "    .dataframe thead th {\n",
       "        text-align: right;\n",
       "    }\n",
       "</style>\n",
       "<table border=\"1\" class=\"dataframe\">\n",
       "  <thead>\n",
       "    <tr style=\"text-align: right;\">\n",
       "      <th></th>\n",
       "      <th>day</th>\n",
       "      <th>total_impressions</th>\n",
       "      <th>pos_clicks</th>\n",
       "      <th>click_pct</th>\n",
       "    </tr>\n",
       "  </thead>\n",
       "  <tbody>\n",
       "    <tr>\n",
       "      <td>2</td>\n",
       "      <td>Saturday</td>\n",
       "      <td>31196</td>\n",
       "      <td>1498</td>\n",
       "      <td>4.801898</td>\n",
       "    </tr>\n",
       "    <tr>\n",
       "      <td>3</td>\n",
       "      <td>Sunday</td>\n",
       "      <td>31609</td>\n",
       "      <td>1515</td>\n",
       "      <td>4.792939</td>\n",
       "    </tr>\n",
       "    <tr>\n",
       "      <td>1</td>\n",
       "      <td>Monday</td>\n",
       "      <td>34870</td>\n",
       "      <td>1627</td>\n",
       "      <td>4.665902</td>\n",
       "    </tr>\n",
       "    <tr>\n",
       "      <td>4</td>\n",
       "      <td>Thursday</td>\n",
       "      <td>33863</td>\n",
       "      <td>1551</td>\n",
       "      <td>4.580220</td>\n",
       "    </tr>\n",
       "    <tr>\n",
       "      <td>0</td>\n",
       "      <td>Friday</td>\n",
       "      <td>30836</td>\n",
       "      <td>1376</td>\n",
       "      <td>4.462317</td>\n",
       "    </tr>\n",
       "    <tr>\n",
       "      <td>6</td>\n",
       "      <td>Wednesday</td>\n",
       "      <td>30707</td>\n",
       "      <td>1370</td>\n",
       "      <td>4.461523</td>\n",
       "    </tr>\n",
       "    <tr>\n",
       "      <td>5</td>\n",
       "      <td>Tuesday</td>\n",
       "      <td>43818</td>\n",
       "      <td>1883</td>\n",
       "      <td>4.297321</td>\n",
       "    </tr>\n",
       "  </tbody>\n",
       "</table>\n",
       "</div>"
      ],
      "text/plain": [
       "         day  total_impressions  pos_clicks  click_pct\n",
       "2   Saturday              31196        1498   4.801898\n",
       "3     Sunday              31609        1515   4.792939\n",
       "1     Monday              34870        1627   4.665902\n",
       "4   Thursday              33863        1551   4.580220\n",
       "0     Friday              30836        1376   4.462317\n",
       "6  Wednesday              30707        1370   4.461523\n",
       "5    Tuesday              43818        1883   4.297321"
      ]
     },
     "execution_count": 209,
     "metadata": {},
     "output_type": "execute_result"
    }
   ],
   "source": [
    "#Calulating the actual click through percentage\n",
    "day_df['click_pct'] = 100*day_df['pos_clicks']/day_df['total_impressions']\n",
    "day_df.sort_values(ascending = False, by = 'click_pct')\n",
    "#Saturday and Sunday offers the highest click rate for ads respectively"
   ]
  },
  {
   "cell_type": "code",
   "execution_count": 210,
   "metadata": {},
   "outputs": [
    {
     "data": {
      "text/plain": [
       "user_id                    0\n",
       "is_click                   0\n",
       "OS_Version_intermediate    0\n",
       "OS_Version_latest          0\n",
       "OS_Version_old             0\n",
       "                          ..\n",
       "is_4G_0                    0\n",
       "is_4G_1                    0\n",
       "hour_in_day                0\n",
       "weekday                    0\n",
       "day_name                   0\n",
       "Length: 351, dtype: int64"
      ]
     },
     "execution_count": 210,
     "metadata": {},
     "output_type": "execute_result"
    }
   ],
   "source": [
    "train_orig.isna().sum()"
   ]
  },
  {
   "cell_type": "code",
   "execution_count": 211,
   "metadata": {},
   "outputs": [],
   "source": [
    "#Drop day_name as it was used just for labelling purpose\n",
    "train_orig.drop('day_name', inplace=True, axis=1)"
   ]
  },
  {
   "cell_type": "code",
   "execution_count": 212,
   "metadata": {},
   "outputs": [],
   "source": [
    "weekday_dummies = pd.get_dummies(train_orig['weekday'], prefix='weekday')\n",
    "train_orig = pd.concat([train_orig, weekday_dummies], axis = 1)\n",
    "train_orig.drop('weekday',inplace=True, axis=1)"
   ]
  },
  {
   "cell_type": "code",
   "execution_count": 213,
   "metadata": {},
   "outputs": [],
   "source": [
    "hour_in_day_dummies = pd.get_dummies(train_orig['hour_in_day'], prefix='hour_in_day')\n",
    "train_orig = pd.concat([train_orig, hour_in_day_dummies], axis = 1)\n",
    "train_orig.drop('hour_in_day',inplace=True, axis=1)"
   ]
  },
  {
   "cell_type": "code",
   "execution_count": 214,
   "metadata": {},
   "outputs": [],
   "source": [
    "train_orig.drop('user_id',inplace=True, axis=1)"
   ]
  },
  {
   "cell_type": "code",
   "execution_count": 215,
   "metadata": {},
   "outputs": [
    {
     "name": "stdout",
     "output_type": "stream",
     "text": [
      "<class 'pandas.core.frame.DataFrame'>\n",
      "Int64Index: 236899 entries, 0 to 237608\n",
      "Columns: 378 entries, is_click to hour_in_day_23\n",
      "dtypes: int64(1), uint8(377)\n",
      "memory usage: 98.8 MB\n"
     ]
    }
   ],
   "source": [
    "train_orig.info()"
   ]
  },
  {
   "cell_type": "markdown",
   "metadata": {},
   "source": [
    "### Feature correlation"
   ]
  },
  {
   "cell_type": "code",
   "execution_count": 216,
   "metadata": {},
   "outputs": [
    {
     "data": {
      "text/plain": [
       "377"
      ]
     },
     "execution_count": 216,
     "metadata": {},
     "output_type": "execute_result"
    }
   ],
   "source": [
    "# compare the correlation between features and remove one of two features that have a correlation higher than 0.9\n",
    "import numpy as np\n",
    "corr = train_orig.corr().abs()\n",
    "columns = np.full((corr.shape[0],), True, dtype=bool)\n",
    "for i in range(corr.shape[0]):\n",
    "    for j in range(i+1, corr.shape[0]):\n",
    "        if corr.iloc[i,j] >= 0.9:\n",
    "            if columns[j]:\n",
    "                columns[j] = False\n",
    "selected_columns = train_orig.columns[columns]\n",
    "len(selected_columns)\n",
    "#No significant correlation within the features"
   ]
  },
  {
   "cell_type": "code",
   "execution_count": 217,
   "metadata": {},
   "outputs": [
    {
     "data": {
      "text/plain": [
       "Index(['is_click'], dtype='object')"
      ]
     },
     "execution_count": 217,
     "metadata": {},
     "output_type": "execute_result"
    }
   ],
   "source": [
    "#Correlation with output variable\n",
    "cor_target = abs(corr[\"is_click\"])\n",
    "#Selecting highly correlated features\n",
    "relevant_features = cor_target[cor_target>0.1]\n",
    "relevant_features.index\n",
    "#No significant correlation with the target variable as well"
   ]
  },
  {
   "cell_type": "code",
   "execution_count": 218,
   "metadata": {},
   "outputs": [],
   "source": [
    "#train_orig[['app_code']] = scalar.fit_transform(train_orig[['app_code']])"
   ]
  },
  {
   "cell_type": "code",
   "execution_count": 219,
   "metadata": {},
   "outputs": [],
   "source": [
    "# sns_plot = sns.pairplot(train_orig,hue='is_click',diag_kind='kde')\n",
    "# sns_plot.savefig(\"pairPlot_Train.png\")"
   ]
  },
  {
   "cell_type": "code",
   "execution_count": 220,
   "metadata": {},
   "outputs": [],
   "source": [
    "y = train_orig['is_click']\n",
    "X = train_orig.drop(columns = ['is_click'], axis=1)"
   ]
  },
  {
   "cell_type": "code",
   "execution_count": 221,
   "metadata": {},
   "outputs": [],
   "source": [
    "X_train,X_val,y_train,y_val = train_test_split(X, y, test_size=0.20, random_state=1,stratify=y)"
   ]
  },
  {
   "cell_type": "code",
   "execution_count": 222,
   "metadata": {},
   "outputs": [],
   "source": [
    "#converting Series to frame as sklearn standardscalar accepts only frames\n",
    "y_train = y_train.to_frame()\n",
    "y_val = y_val.to_frame()"
   ]
  },
  {
   "cell_type": "code",
   "execution_count": 223,
   "metadata": {},
   "outputs": [
    {
     "name": "stderr",
     "output_type": "stream",
     "text": [
      "C:\\Program Files (x86)\\Microsoft Visual Studio\\Shared\\Anaconda3_64\\lib\\site-packages\\sklearn\\utils\\validation.py:724: DataConversionWarning: A column-vector y was passed when a 1d array was expected. Please change the shape of y to (n_samples, ), for example using ravel().\n",
      "  y = column_or_1d(y, warn=True)\n"
     ]
    },
    {
     "name": "stdout",
     "output_type": "stream",
     "text": [
      "[180863 180863]\n"
     ]
    }
   ],
   "source": [
    "smt = SMOTE()\n",
    "X_train, y_train = smt.fit_sample(X_train, y_train)\n",
    "print(np.bincount(y_train))"
   ]
  },
  {
   "cell_type": "code",
   "execution_count": 224,
   "metadata": {},
   "outputs": [
    {
     "name": "stdout",
     "output_type": "stream",
     "text": [
      "(361726, 377)\n",
      "(47380, 377)\n",
      "(361726,)\n",
      "(47380, 1)\n"
     ]
    }
   ],
   "source": [
    "print(X_train.shape)\n",
    "print(X_val.shape)\n",
    "print(y_train.shape)\n",
    "print(y_val.shape)"
   ]
  },
  {
   "cell_type": "code",
   "execution_count": 225,
   "metadata": {},
   "outputs": [],
   "source": [
    "# X_train = scalar.fit_transform(X_train)\n",
    "# X_val = scalar.transform(X_val)"
   ]
  },
  {
   "cell_type": "code",
   "execution_count": 226,
   "metadata": {},
   "outputs": [],
   "source": [
    "impression_id  = test_orig['impression_id']\n",
    "test_orig.drop('impression_id',inplace=True,axis=1)"
   ]
  },
  {
   "cell_type": "code",
   "execution_count": null,
   "metadata": {},
   "outputs": [],
   "source": []
  },
  {
   "cell_type": "code",
   "execution_count": 227,
   "metadata": {},
   "outputs": [],
   "source": [
    "test_orig.drop('user_id',inplace=True, axis=1)"
   ]
  },
  {
   "cell_type": "code",
   "execution_count": 228,
   "metadata": {},
   "outputs": [],
   "source": [
    "is_4G_dummies = pd.get_dummies(test_orig['is_4G'], prefix='is_4G')\n",
    "test_orig = pd.concat([test_orig, is_4G_dummies], axis = 1)\n",
    "test_orig.drop('is_4G',inplace=True, axis=1)"
   ]
  },
  {
   "cell_type": "code",
   "execution_count": 229,
   "metadata": {},
   "outputs": [],
   "source": [
    "weekday_dummies = pd.get_dummies(test_orig['weekday'], prefix='weekday')\n",
    "test_orig = pd.concat([test_orig, weekday_dummies], axis = 1)\n",
    "test_orig.drop('weekday',inplace=True, axis=1)"
   ]
  },
  {
   "cell_type": "code",
   "execution_count": 230,
   "metadata": {},
   "outputs": [],
   "source": [
    "hour_in_day_dummies = pd.get_dummies(test_orig['hour_in_day'], prefix='hour_in_day')\n",
    "test_orig = pd.concat([test_orig, hour_in_day_dummies], axis = 1)\n",
    "test_orig.drop('hour_in_day',inplace=True, axis=1)"
   ]
  },
  {
   "cell_type": "code",
   "execution_count": 231,
   "metadata": {},
   "outputs": [
    {
     "name": "stdout",
     "output_type": "stream",
     "text": [
      "<class 'pandas.core.frame.DataFrame'>\n",
      "RangeIndex: 90675 entries, 0 to 90674\n",
      "Columns: 377 entries, OS_Version_intermediate to hour_in_day_23\n",
      "dtypes: uint8(377)\n",
      "memory usage: 32.6 MB\n"
     ]
    }
   ],
   "source": [
    "test_orig.info()"
   ]
  },
  {
   "cell_type": "markdown",
   "metadata": {},
   "source": [
    "#### Scale the test Data"
   ]
  },
  {
   "cell_type": "code",
   "execution_count": 232,
   "metadata": {},
   "outputs": [],
   "source": [
    "#test_orig[['app_code']] = scalar.transform(test_orig[['app_code']])"
   ]
  },
  {
   "cell_type": "markdown",
   "metadata": {},
   "source": [
    "### Gradient Boost Classifier Model"
   ]
  },
  {
   "cell_type": "code",
   "execution_count": 233,
   "metadata": {},
   "outputs": [
    {
     "name": "stdout",
     "output_type": "stream",
     "text": [
      "0.8155758778744132\n"
     ]
    }
   ],
   "source": [
    "from sklearn.ensemble import GradientBoostingClassifier\n",
    "from sklearn.model_selection import GridSearchCV\n",
    "gbcl = GradientBoostingClassifier(n_estimators = 50, random_state=1, learning_rate=0.1)\n",
    "gbcl = gbcl.fit(X_train, y_train)\n",
    "\n",
    "\n",
    "# parameters = {\n",
    "#     \"loss\":[\"deviance\"],\n",
    "#     \"learning_rate\": [0.01, 0.025, 0.05, 0.075, 0.1, 0.15, 0.2],\n",
    "#     \"max_depth\":[3,5,8],\n",
    "#     \"n_estimators\":[50]\n",
    "#     }\n",
    "\n",
    "# gbcl = GridSearchCV(GradientBoostingClassifier(), parameters, cv=10, n_jobs=-1)\n",
    "\n",
    "# gbcl.fit(X_train, y_train)\n",
    "print(gbcl.score(X_train, y_train))\n",
    "# print(gbcl.best_params_)\n"
   ]
  },
  {
   "cell_type": "code",
   "execution_count": 234,
   "metadata": {},
   "outputs": [
    {
     "data": {
      "text/plain": [
       "0.9413887716336007"
      ]
     },
     "execution_count": 234,
     "metadata": {},
     "output_type": "execute_result"
    }
   ],
   "source": [
    "gbcl.score(X_val,y_val)"
   ]
  },
  {
   "cell_type": "code",
   "execution_count": 72,
   "metadata": {},
   "outputs": [
    {
     "data": {
      "text/html": [
       "<div>\n",
       "<style scoped>\n",
       "    .dataframe tbody tr th:only-of-type {\n",
       "        vertical-align: middle;\n",
       "    }\n",
       "\n",
       "    .dataframe tbody tr th {\n",
       "        vertical-align: top;\n",
       "    }\n",
       "\n",
       "    .dataframe thead th {\n",
       "        text-align: right;\n",
       "    }\n",
       "</style>\n",
       "<table border=\"1\" class=\"dataframe\">\n",
       "  <thead>\n",
       "    <tr style=\"text-align: right;\">\n",
       "      <th></th>\n",
       "      <th>app_code</th>\n",
       "      <th>OS_Version_intermediate</th>\n",
       "      <th>OS_Version_latest</th>\n",
       "      <th>OS_Version_old</th>\n",
       "      <th>is_4G_0</th>\n",
       "      <th>is_4G_1</th>\n",
       "      <th>weekday_0</th>\n",
       "      <th>weekday_1</th>\n",
       "      <th>weekday_2</th>\n",
       "      <th>weekday_3</th>\n",
       "      <th>...</th>\n",
       "      <th>hour_in_day_14</th>\n",
       "      <th>hour_in_day_15</th>\n",
       "      <th>hour_in_day_16</th>\n",
       "      <th>hour_in_day_17</th>\n",
       "      <th>hour_in_day_18</th>\n",
       "      <th>hour_in_day_19</th>\n",
       "      <th>hour_in_day_20</th>\n",
       "      <th>hour_in_day_21</th>\n",
       "      <th>hour_in_day_22</th>\n",
       "      <th>hour_in_day_23</th>\n",
       "    </tr>\n",
       "  </thead>\n",
       "  <tbody>\n",
       "    <tr>\n",
       "      <td>0</td>\n",
       "      <td>-0.903017</td>\n",
       "      <td>0</td>\n",
       "      <td>1</td>\n",
       "      <td>0</td>\n",
       "      <td>0</td>\n",
       "      <td>1</td>\n",
       "      <td>0</td>\n",
       "      <td>0</td>\n",
       "      <td>0</td>\n",
       "      <td>1</td>\n",
       "      <td>...</td>\n",
       "      <td>0</td>\n",
       "      <td>0</td>\n",
       "      <td>0</td>\n",
       "      <td>0</td>\n",
       "      <td>0</td>\n",
       "      <td>0</td>\n",
       "      <td>0</td>\n",
       "      <td>0</td>\n",
       "      <td>0</td>\n",
       "      <td>0</td>\n",
       "    </tr>\n",
       "    <tr>\n",
       "      <td>1</td>\n",
       "      <td>-1.516862</td>\n",
       "      <td>0</td>\n",
       "      <td>1</td>\n",
       "      <td>0</td>\n",
       "      <td>1</td>\n",
       "      <td>0</td>\n",
       "      <td>0</td>\n",
       "      <td>0</td>\n",
       "      <td>0</td>\n",
       "      <td>1</td>\n",
       "      <td>...</td>\n",
       "      <td>0</td>\n",
       "      <td>0</td>\n",
       "      <td>0</td>\n",
       "      <td>0</td>\n",
       "      <td>0</td>\n",
       "      <td>0</td>\n",
       "      <td>0</td>\n",
       "      <td>0</td>\n",
       "      <td>0</td>\n",
       "      <td>0</td>\n",
       "    </tr>\n",
       "    <tr>\n",
       "      <td>2</td>\n",
       "      <td>0.346860</td>\n",
       "      <td>0</td>\n",
       "      <td>1</td>\n",
       "      <td>0</td>\n",
       "      <td>0</td>\n",
       "      <td>1</td>\n",
       "      <td>0</td>\n",
       "      <td>0</td>\n",
       "      <td>0</td>\n",
       "      <td>1</td>\n",
       "      <td>...</td>\n",
       "      <td>0</td>\n",
       "      <td>0</td>\n",
       "      <td>0</td>\n",
       "      <td>0</td>\n",
       "      <td>0</td>\n",
       "      <td>0</td>\n",
       "      <td>0</td>\n",
       "      <td>0</td>\n",
       "      <td>0</td>\n",
       "      <td>0</td>\n",
       "    </tr>\n",
       "    <tr>\n",
       "      <td>3</td>\n",
       "      <td>-0.311360</td>\n",
       "      <td>0</td>\n",
       "      <td>1</td>\n",
       "      <td>0</td>\n",
       "      <td>0</td>\n",
       "      <td>1</td>\n",
       "      <td>0</td>\n",
       "      <td>0</td>\n",
       "      <td>0</td>\n",
       "      <td>1</td>\n",
       "      <td>...</td>\n",
       "      <td>0</td>\n",
       "      <td>0</td>\n",
       "      <td>0</td>\n",
       "      <td>0</td>\n",
       "      <td>0</td>\n",
       "      <td>0</td>\n",
       "      <td>0</td>\n",
       "      <td>0</td>\n",
       "      <td>0</td>\n",
       "      <td>0</td>\n",
       "    </tr>\n",
       "    <tr>\n",
       "      <td>4</td>\n",
       "      <td>-0.052509</td>\n",
       "      <td>0</td>\n",
       "      <td>1</td>\n",
       "      <td>0</td>\n",
       "      <td>0</td>\n",
       "      <td>1</td>\n",
       "      <td>0</td>\n",
       "      <td>0</td>\n",
       "      <td>0</td>\n",
       "      <td>1</td>\n",
       "      <td>...</td>\n",
       "      <td>0</td>\n",
       "      <td>0</td>\n",
       "      <td>0</td>\n",
       "      <td>0</td>\n",
       "      <td>0</td>\n",
       "      <td>0</td>\n",
       "      <td>0</td>\n",
       "      <td>0</td>\n",
       "      <td>0</td>\n",
       "      <td>0</td>\n",
       "    </tr>\n",
       "  </tbody>\n",
       "</table>\n",
       "<p>5 rows × 37 columns</p>\n",
       "</div>"
      ],
      "text/plain": [
       "   app_code  OS_Version_intermediate  OS_Version_latest  OS_Version_old  \\\n",
       "0 -0.903017                        0                  1               0   \n",
       "1 -1.516862                        0                  1               0   \n",
       "2  0.346860                        0                  1               0   \n",
       "3 -0.311360                        0                  1               0   \n",
       "4 -0.052509                        0                  1               0   \n",
       "\n",
       "   is_4G_0  is_4G_1  weekday_0  weekday_1  weekday_2  weekday_3  ...  \\\n",
       "0        0        1          0          0          0          1  ...   \n",
       "1        1        0          0          0          0          1  ...   \n",
       "2        0        1          0          0          0          1  ...   \n",
       "3        0        1          0          0          0          1  ...   \n",
       "4        0        1          0          0          0          1  ...   \n",
       "\n",
       "   hour_in_day_14  hour_in_day_15  hour_in_day_16  hour_in_day_17  \\\n",
       "0               0               0               0               0   \n",
       "1               0               0               0               0   \n",
       "2               0               0               0               0   \n",
       "3               0               0               0               0   \n",
       "4               0               0               0               0   \n",
       "\n",
       "   hour_in_day_18  hour_in_day_19  hour_in_day_20  hour_in_day_21  \\\n",
       "0               0               0               0               0   \n",
       "1               0               0               0               0   \n",
       "2               0               0               0               0   \n",
       "3               0               0               0               0   \n",
       "4               0               0               0               0   \n",
       "\n",
       "   hour_in_day_22  hour_in_day_23  \n",
       "0               0               0  \n",
       "1               0               0  \n",
       "2               0               0  \n",
       "3               0               0  \n",
       "4               0               0  \n",
       "\n",
       "[5 rows x 37 columns]"
      ]
     },
     "execution_count": 72,
     "metadata": {},
     "output_type": "execute_result"
    }
   ],
   "source": [
    "test_orig.head()"
   ]
  },
  {
   "cell_type": "code",
   "execution_count": 235,
   "metadata": {},
   "outputs": [],
   "source": [
    "#Exporting into CSV for test data\n",
    "y_pred_gbcl = gbcl.predict(test_orig)\n",
    "data = pd.DataFrame(columns=['impression_id','is_click'])\n",
    "data['impression_id'] = impression_id\n",
    "data['is_click'] = y_pred_gbcl\n",
    "data.to_csv(\"GradientBoostingClassifier-2.csv\", index = False )"
   ]
  },
  {
   "cell_type": "code",
   "execution_count": 70,
   "metadata": {},
   "outputs": [],
   "source": [
    "import itertools\n",
    "\n",
    "def plot_confusion_matrix(cm, classes,\n",
    "                          normalize=False,\n",
    "                          title='Confusion matrix',\n",
    "                          cmap=plt.cm.Blues):\n",
    "    \"\"\"\n",
    "    This function prints and plots the confusion matrix.\n",
    "    Normalization can be applied by setting `normalize=True`.\n",
    "    \"\"\"\n",
    "    plt.imshow(cm, interpolation='nearest', cmap=cmap)\n",
    "    plt.title(title)\n",
    "    plt.colorbar()\n",
    "    tick_marks = np.arange(len(classes))\n",
    "    plt.xticks(tick_marks, classes, rotation=0)\n",
    "    plt.yticks(tick_marks, classes)\n",
    "\n",
    "    if normalize:\n",
    "        cm = cm.astype('float') / cm.sum(axis=1)[:, np.newaxis]\n",
    "        #print(\"Normalized confusion matrix\")\n",
    "    else:\n",
    "        1#print('Confusion matrix, without normalization')\n",
    "\n",
    "    #print(cm)\n",
    "\n",
    "    thresh = cm.max() / 2.\n",
    "    for i, j in itertools.product(range(cm.shape[0]), range(cm.shape[1])):\n",
    "        plt.text(j, i, cm[i, j],\n",
    "                 horizontalalignment=\"center\",\n",
    "                 color=\"white\" if cm[i, j] > thresh else \"black\")\n",
    "\n",
    "    plt.tight_layout()\n",
    "    plt.ylabel('True label')\n",
    "    plt.xlabel('Predicted label')"
   ]
  },
  {
   "cell_type": "code",
   "execution_count": 244,
   "metadata": {},
   "outputs": [
    {
     "name": "stdout",
     "output_type": "stream",
     "text": [
      "Recall metric in the testing dataset: 5.036968576709796%\n",
      "Precision metric in the testing dataset: 95.5852972136888%\n"
     ]
    },
    {
     "ename": "NameError",
     "evalue": "name 'plot_confusion_matrix' is not defined",
     "output_type": "error",
     "traceback": [
      "\u001b[1;31m---------------------------------------------------------------------------\u001b[0m",
      "\u001b[1;31mNameError\u001b[0m                                 Traceback (most recent call last)",
      "\u001b[1;32m<ipython-input-244-dfd074595983>\u001b[0m in \u001b[0;36m<module>\u001b[1;34m\u001b[0m\n\u001b[0;32m      7\u001b[0m \u001b[0mclass_names\u001b[0m \u001b[1;33m=\u001b[0m \u001b[1;33m[\u001b[0m\u001b[1;36m0\u001b[0m\u001b[1;33m,\u001b[0m\u001b[1;36m1\u001b[0m\u001b[1;33m]\u001b[0m\u001b[1;33m\u001b[0m\u001b[0m\n\u001b[0;32m      8\u001b[0m \u001b[0mplt\u001b[0m\u001b[1;33m.\u001b[0m\u001b[0mfigure\u001b[0m\u001b[1;33m(\u001b[0m\u001b[1;33m)\u001b[0m\u001b[1;33m\u001b[0m\u001b[0m\n\u001b[1;32m----> 9\u001b[1;33m \u001b[0mplot_confusion_matrix\u001b[0m\u001b[1;33m(\u001b[0m\u001b[0mcnf_matrix\u001b[0m \u001b[1;33m,\u001b[0m \u001b[0mclasses\u001b[0m\u001b[1;33m=\u001b[0m\u001b[0mclass_names\u001b[0m\u001b[1;33m,\u001b[0m \u001b[0mtitle\u001b[0m\u001b[1;33m=\u001b[0m\u001b[1;34m'Confusion matrix'\u001b[0m\u001b[1;33m)\u001b[0m\u001b[1;33m\u001b[0m\u001b[0m\n\u001b[0m\u001b[0;32m     10\u001b[0m \u001b[0mplt\u001b[0m\u001b[1;33m.\u001b[0m\u001b[0mshow\u001b[0m\u001b[1;33m(\u001b[0m\u001b[1;33m)\u001b[0m\u001b[1;33m\u001b[0m\u001b[0m\n",
      "\u001b[1;31mNameError\u001b[0m: name 'plot_confusion_matrix' is not defined"
     ]
    },
    {
     "data": {
      "text/plain": [
       "<Figure size 432x288 with 0 Axes>"
      ]
     },
     "metadata": {},
     "output_type": "display_data"
    }
   ],
   "source": [
    "y_pred_val_score = gbcl.predict(X_val)\n",
    "cnf_matrix = confusion_matrix(y_val, y_pred_val_score)\n",
    "\n",
    "print(\"Recall metric in the testing dataset: {}%\".format(100*cnf_matrix[1,1]/(cnf_matrix[1,0]+cnf_matrix[1,1])))\n",
    "print(\"Precision metric in the testing dataset: {}%\".format(100*cnf_matrix[0,0]/(cnf_matrix[0,0]+cnf_matrix[1,0])))\n",
    "# Plot non-normalized confusion matrix\n",
    "class_names = [0,1]\n",
    "plt.figure()\n",
    "plot_confusion_matrix(cnf_matrix , classes=class_names, title='Confusion matrix')\n",
    "plt.show()"
   ]
  },
  {
   "cell_type": "code",
   "execution_count": 72,
   "metadata": {},
   "outputs": [
    {
     "data": {
      "image/png": "[encoded data removed]",
      "text/plain": [
       "<Figure size 432x288 with 1 Axes>"
      ]
     },
     "metadata": {
      "needs_background": "light"
     },
     "output_type": "display_data"
    }
   ],
   "source": [
    "fpr, tpr, thresholds = roc_curve(y_val, y_pred_val_score)\n",
    "\n",
    "roc_auc = auc(fpr,tpr)\n",
    "\n",
    "# Plot ROC\n",
    "plt.title('Receiver Operating Characteristic')\n",
    "plt.plot(fpr, tpr, 'b',label='AUC = %0.3f'% roc_auc)\n",
    "plt.legend(loc='lower right')\n",
    "plt.plot([0,1],[0,1],'r--')\n",
    "plt.xlim([-0.1,1.0])\n",
    "plt.ylim([-0.1,1.01])\n",
    "plt.ylabel('True Positive Rate')\n",
    "plt.xlabel('False Positive Rate')\n",
    "plt.show()"
   ]
  },
  {
   "cell_type": "code",
   "execution_count": 73,
   "metadata": {},
   "outputs": [
    {
     "data": {
      "text/plain": [
       "0.5908195211786372"
      ]
     },
     "execution_count": 73,
     "metadata": {},
     "output_type": "execute_result"
    }
   ],
   "source": [
    "roc_auc"
   ]
  },
  {
   "cell_type": "code",
   "execution_count": 91,
   "metadata": {},
   "outputs": [
    {
     "data": {
      "text/plain": [
       "array([2, 1, 0], dtype=int64)"
      ]
     },
     "execution_count": 91,
     "metadata": {},
     "output_type": "execute_result"
    }
   ],
   "source": [
    "thresholds"
   ]
  },
  {
   "cell_type": "markdown",
   "metadata": {},
   "source": [
    "### Random Forest Classifier"
   ]
  },
  {
   "cell_type": "code",
   "execution_count": 74,
   "metadata": {},
   "outputs": [],
   "source": [
    "from sklearn.ensemble import RandomForestClassifier\n",
    "rf = RandomForestClassifier(n_estimators=100, random_state=0)\n",
    "rf.fit(X_train, y_train) \n",
    "y_pred = rf.predict(X_val)"
   ]
  },
  {
   "cell_type": "code",
   "execution_count": 75,
   "metadata": {},
   "outputs": [
    {
     "data": {
      "text/plain": [
       "0.874857960523547"
      ]
     },
     "execution_count": 75,
     "metadata": {},
     "output_type": "execute_result"
    }
   ],
   "source": [
    "rf.score(X_val,y_val)"
   ]
  },
  {
   "cell_type": "code",
   "execution_count": 77,
   "metadata": {},
   "outputs": [],
   "source": [
    "y_pred_rf = rf.predict(test_orig)\n",
    "data = pd.DataFrame(columns=['impression_id','is_click'])\n",
    "data['impression_id'] = impression_id\n",
    "data['is_click'] = y_pred_gbcl\n",
    "data.to_csv(\"RFC-1.csv\", index = False )\n",
    "#print(test_orig['loan_id'])"
   ]
  },
  {
   "cell_type": "code",
   "execution_count": 78,
   "metadata": {},
   "outputs": [
    {
     "name": "stdout",
     "output_type": "stream",
     "text": [
      "Recall metric in the testing dataset: 13.950276243093922%\n",
      "Precision metric in the testing dataset: 95.66769430472172%\n"
     ]
    },
    {
     "data": {
      "image/png": "[encoded data removed]",
      "text/plain": [
       "<Figure size 432x288 with 2 Axes>"
      ]
     },
     "metadata": {
      "needs_background": "light"
     },
     "output_type": "display_data"
    }
   ],
   "source": [
    "y_pred_val_score = rf.predict(X_val)\n",
    "cnf_matrix = confusion_matrix(y_val, y_pred_val_score)\n",
    "\n",
    "print(\"Recall metric in the testing dataset: {}%\".format(100*cnf_matrix[1,1]/(cnf_matrix[1,0]+cnf_matrix[1,1])))\n",
    "print(\"Precision metric in the testing dataset: {}%\".format(100*cnf_matrix[0,0]/(cnf_matrix[0,0]+cnf_matrix[1,0])))\n",
    "# Plot non-normalized confusion matrix\n",
    "class_names = [0,1]\n",
    "plt.figure()\n",
    "plot_confusion_matrix(cnf_matrix , classes=class_names, title='Confusion matrix')\n",
    "plt.show()"
   ]
  },
  {
   "cell_type": "code",
   "execution_count": 79,
   "metadata": {},
   "outputs": [
    {
     "data": {
      "image/png": "[encoded data removed]",
      "text/plain": [
       "<Figure size 432x288 with 1 Axes>"
      ]
     },
     "metadata": {
      "needs_background": "light"
     },
     "output_type": "display_data"
    }
   ],
   "source": [
    "fpr, tpr, thresholds = roc_curve(y_val, y_pred_val_score)\n",
    "\n",
    "roc_auc = auc(fpr,tpr)\n",
    "\n",
    "# Plot ROC\n",
    "plt.title('Receiver Operating Characteristic')\n",
    "plt.plot(fpr, tpr, 'b',label='AUC = %0.3f'% roc_auc)\n",
    "plt.legend(loc='lower right')\n",
    "plt.plot([0,1],[0,1],'r--')\n",
    "plt.xlim([-0.1,1.0])\n",
    "plt.ylim([-0.1,1.01])\n",
    "plt.ylabel('True Positive Rate')\n",
    "plt.xlabel('False Positive Rate')\n",
    "plt.show()"
   ]
  },
  {
   "cell_type": "markdown",
   "metadata": {},
   "source": [
    "### Logistsic  Regression Model"
   ]
  },
  {
   "cell_type": "code",
   "execution_count": 80,
   "metadata": {},
   "outputs": [],
   "source": [
    "from sklearn.linear_model import LogisticRegression"
   ]
  },
  {
   "cell_type": "code",
   "execution_count": 81,
   "metadata": {},
   "outputs": [
    {
     "name": "stderr",
     "output_type": "stream",
     "text": [
      "C:\\Program Files (x86)\\Microsoft Visual Studio\\Shared\\Anaconda3_64\\lib\\site-packages\\sklearn\\linear_model\\logistic.py:432: FutureWarning: Default solver will be changed to 'lbfgs' in 0.22. Specify a solver to silence this warning.\n",
      "  FutureWarning)\n"
     ]
    },
    {
     "data": {
      "text/plain": [
       "0.5197803122764193"
      ]
     },
     "execution_count": 81,
     "metadata": {},
     "output_type": "execute_result"
    }
   ],
   "source": [
    "# Fit the model on original data i.e. before upsampling\n",
    "model = LogisticRegression()\n",
    "model.fit(X_train, y_train)\n",
    "model.score(X_val, y_val)"
   ]
  },
  {
   "cell_type": "code",
   "execution_count": 73,
   "metadata": {},
   "outputs": [],
   "source": [
    "y_pred_rf = rf.predict(test_scaled)\n",
    "data = pd.DataFrame(columns=['impression_id','is_click'])\n",
    "data['impression_id'] = impression_id\n",
    "data['is_click'] = y_pred_gbcl\n",
    "data.to_csv(\"LR.csv\", index = False )"
   ]
  },
  {
   "cell_type": "markdown",
   "metadata": {},
   "source": [
    "### Deep Neural Network"
   ]
  },
  {
   "cell_type": "code",
   "execution_count": 3,
   "metadata": {},
   "outputs": [
    {
     "name": "stdout",
     "output_type": "stream",
     "text": [
      "Requirement already satisfied: keras in c:\\program files (x86)\\microsoft visual studio\\shared\\anaconda3_64\\lib\\site-packages (2.2.5)\n",
      "Requirement already satisfied: six>=1.9.0 in c:\\program files (x86)\\microsoft visual studio\\shared\\anaconda3_64\\lib\\site-packages (from keras) (1.11.0)\n",
      "Requirement already satisfied: h5py in c:\\program files (x86)\\microsoft visual studio\\shared\\anaconda3_64\\lib\\site-packages (from keras) (2.7.1)\n",
      "Requirement already satisfied: keras-preprocessing>=1.1.0 in c:\\program files (x86)\\microsoft visual studio\\shared\\anaconda3_64\\lib\\site-packages (from keras) (1.1.0)\n",
      "Requirement already satisfied: keras-applications>=1.0.8 in c:\\program files (x86)\\microsoft visual studio\\shared\\anaconda3_64\\lib\\site-packages (from keras) (1.0.8)\n",
      "Requirement already satisfied: scipy>=0.14 in c:\\program files (x86)\\microsoft visual studio\\shared\\anaconda3_64\\lib\\site-packages (from keras) (1.1.0)\n",
      "Requirement already satisfied: numpy>=1.9.1 in c:\\program files (x86)\\microsoft visual studio\\shared\\anaconda3_64\\lib\\site-packages (from keras) (1.14.3)\n",
      "Requirement already satisfied: pyyaml in c:\\program files (x86)\\microsoft visual studio\\shared\\anaconda3_64\\lib\\site-packages (from keras) (3.12)\n"
     ]
    }
   ],
   "source": [
    "!pip install keras"
   ]
  },
  {
   "cell_type": "code",
   "execution_count": 2,
   "metadata": {},
   "outputs": [
    {
     "name": "stdout",
     "output_type": "stream",
     "text": [
      "Collecting pip\n",
      "  Downloading https://files.pythonhosted.org/packages/30/db/9e38760b32e3e7f40cce46dd5fb107b8c73840df38f0046d8e6514e675a1/pip-19.2.3-py2.py3-none-any.whl (1.4MB)\n",
      "Installing collected packages: pip\n",
      "  Found existing installation: pip 19.1.1\n",
      "    Uninstalling pip-19.1.1:\n",
      "      Successfully uninstalled pip-19.1.1\n",
      "Successfully installed pip-19.2.3\n"
     ]
    }
   ],
   "source": [
    "!python -m pip install --upgrade pip"
   ]
  },
  {
   "cell_type": "code",
   "execution_count": 1,
   "metadata": {},
   "outputs": [
    {
     "name": "stdout",
     "output_type": "stream",
     "text": [
      "Collecting tensorflow\n",
      "  Downloading https://files.pythonhosted.org/packages/bf/4a/5c86ed8b245aa48f9f819b13a0a9039e9126ba19fdd0c7e0b8026c12315a/tensorflow-1.14.0-cp36-cp36m-win_amd64.whl (68.3MB)\n",
      "Requirement already satisfied, skipping upgrade: grpcio>=1.8.6 in c:\\program files (x86)\\microsoft visual studio\\shared\\anaconda3_64\\lib\\site-packages (from tensorflow) (1.19.0)\n",
      "Requirement already satisfied, skipping upgrade: wheel>=0.26 in c:\\program files (x86)\\microsoft visual studio\\shared\\anaconda3_64\\lib\\site-packages (from tensorflow) (0.31.1)\n",
      "Requirement already satisfied, skipping upgrade: termcolor>=1.1.0 in c:\\program files (x86)\\microsoft visual studio\\shared\\anaconda3_64\\lib\\site-packages (from tensorflow) (1.1.0)\n",
      "Requirement already satisfied, skipping upgrade: keras-applications>=1.0.6 in c:\\program files (x86)\\microsoft visual studio\\shared\\anaconda3_64\\lib\\site-packages (from tensorflow) (1.0.8)\n",
      "Collecting numpy<2.0,>=1.14.5 (from tensorflow)\n",
      "  Downloading https://files.pythonhosted.org/packages/87/f4/682e88f2b5c1d49a8011fadee57eb3c13f55f156536597a625109261314d/numpy-1.17.1-cp36-cp36m-win_amd64.whl (12.8MB)\n",
      "Collecting wrapt>=1.11.1 (from tensorflow)\n",
      "  Downloading https://files.pythonhosted.org/packages/23/84/323c2415280bc4fc880ac5050dddfb3c8062c2552b34c2e512eb4aa68f79/wrapt-1.11.2.tar.gz\n",
      "Collecting google-pasta>=0.1.6 (from tensorflow)\n",
      "  Downloading https://files.pythonhosted.org/packages/d0/33/376510eb8d6246f3c30545f416b2263eee461e40940c2a4413c711bdf62d/google_pasta-0.1.7-py3-none-any.whl (52kB)\n",
      "Requirement already satisfied, skipping upgrade: protobuf>=3.6.1 in c:\\program files (x86)\\microsoft visual studio\\shared\\anaconda3_64\\lib\\site-packages (from tensorflow) (3.7.0)\n",
      "Requirement already satisfied, skipping upgrade: keras-preprocessing>=1.0.5 in c:\\program files (x86)\\microsoft visual studio\\shared\\anaconda3_64\\lib\\site-packages (from tensorflow) (1.1.0)\n",
      "Requirement already satisfied, skipping upgrade: six>=1.10.0 in c:\\program files (x86)\\microsoft visual studio\\shared\\anaconda3_64\\lib\\site-packages (from tensorflow) (1.11.0)\n",
      "Collecting tensorflow-estimator<1.15.0rc0,>=1.14.0rc0 (from tensorflow)\n",
      "  Downloading https://files.pythonhosted.org/packages/3c/d5/21860a5b11caf0678fbc8319341b0ae21a07156911132e0e71bffed0510d/tensorflow_estimator-1.14.0-py2.py3-none-any.whl (488kB)\n",
      "Requirement already satisfied, skipping upgrade: absl-py>=0.7.0 in c:\\program files (x86)\\microsoft visual studio\\shared\\anaconda3_64\\lib\\site-packages (from tensorflow) (0.7.0)\n",
      "Requirement already satisfied, skipping upgrade: astor>=0.6.0 in c:\\program files (x86)\\microsoft visual studio\\shared\\anaconda3_64\\lib\\site-packages (from tensorflow) (0.7.1)\n",
      "Collecting tensorboard<1.15.0,>=1.14.0 (from tensorflow)\n",
      "  Downloading https://files.pythonhosted.org/packages/91/2d/2ed263449a078cd9c8a9ba50ebd50123adf1f8cfbea1492f9084169b89d9/tensorboard-1.14.0-py3-none-any.whl (3.1MB)\n",
      "Requirement already satisfied, skipping upgrade: gast>=0.2.0 in c:\\program files (x86)\\microsoft visual studio\\shared\\anaconda3_64\\lib\\site-packages (from tensorflow) (0.2.2)\n",
      "Requirement already satisfied, skipping upgrade: h5py in c:\\program files (x86)\\microsoft visual studio\\shared\\anaconda3_64\\lib\\site-packages (from keras-applications>=1.0.6->tensorflow) (2.7.1)\n",
      "Requirement already satisfied, skipping upgrade: setuptools in c:\\program files (x86)\\microsoft visual studio\\shared\\anaconda3_64\\lib\\site-packages (from protobuf>=3.6.1->tensorflow) (39.1.0)\n",
      "Requirement already satisfied, skipping upgrade: werkzeug>=0.11.15 in c:\\program files (x86)\\microsoft visual studio\\shared\\anaconda3_64\\lib\\site-packages (from tensorboard<1.15.0,>=1.14.0->tensorflow) (0.14.1)\n",
      "Requirement already satisfied, skipping upgrade: markdown>=2.6.8 in c:\\program files (x86)\\microsoft visual studio\\shared\\anaconda3_64\\lib\\site-packages (from tensorboard<1.15.0,>=1.14.0->tensorflow) (3.0.1)\n",
      "Building wheels for collected packages: wrapt\n",
      "  Building wheel for wrapt (setup.py): started\n",
      "  Building wheel for wrapt (setup.py): finished with status 'done'\n",
      "  Created wheel for wrapt: filename=wrapt-1.11.2-cp36-none-any.whl size=18733 sha256=d92c0ca3363fa848211206cddeba292c9bf34f7bf14c26c42a0ea4726c591a88\n",
      "  Stored in directory: C:\\Users\\abhishekbhardwaj01\\AppData\\Local\\pip\\Cache\\wheels\\d7\\de\\2e\\efa132238792efb6459a96e85916ef8597fcb3d2ae51590dfd\n",
      "Successfully built wrapt\n",
      "Installing collected packages: numpy, wrapt, google-pasta, tensorflow-estimator, tensorboard, tensorflow\n",
      "  Found existing installation: numpy 1.14.3\n",
      "    Uninstalling numpy-1.14.3:\n",
      "      Successfully uninstalled numpy-1.14.3\n",
      "  Found existing installation: wrapt 1.10.11\n"
     ]
    },
    {
     "name": "stderr",
     "output_type": "stream",
     "text": [
      "ERROR: tensorboard 1.14.0 has requirement setuptools>=41.0.0, but you'll have setuptools 39.1.0 which is incompatible.\n",
      "ERROR: Cannot uninstall 'wrapt'. It is a distutils installed project and thus we cannot accurately determine which files belong to it which would lead to only a partial uninstall.\n"
     ]
    }
   ],
   "source": [
    "!pip3 install --upgrade tensorflow"
   ]
  },
  {
   "cell_type": "code",
   "execution_count": 2,
   "metadata": {},
   "outputs": [
    {
     "name": "stderr",
     "output_type": "stream",
     "text": [
      "C:\\Program Files (x86)\\Microsoft Visual Studio\\Shared\\Anaconda3_64\\lib\\site-packages\\h5py\\__init__.py:36: FutureWarning: Conversion of the second argument of issubdtype from `float` to `np.floating` is deprecated. In future, it will be treated as `np.float64 == np.dtype(float).type`.\n",
      "  from ._conv import register_converters as _register_converters\n",
      "Using TensorFlow backend.\n",
      "C:\\Program Files (x86)\\Microsoft Visual Studio\\Shared\\Anaconda3_64\\lib\\site-packages\\tensorflow\\python\\framework\\dtypes.py:526: FutureWarning: Passing (type, 1) or '1type' as a synonym of type is deprecated; in a future version of numpy, it will be understood as (type, (1,)) / '(1,)type'.\n",
      "  _np_qint8 = np.dtype([(\"qint8\", np.int8, 1)])\n",
      "C:\\Program Files (x86)\\Microsoft Visual Studio\\Shared\\Anaconda3_64\\lib\\site-packages\\tensorflow\\python\\framework\\dtypes.py:527: FutureWarning: Passing (type, 1) or '1type' as a synonym of type is deprecated; in a future version of numpy, it will be understood as (type, (1,)) / '(1,)type'.\n",
      "  _np_quint8 = np.dtype([(\"quint8\", np.uint8, 1)])\n",
      "C:\\Program Files (x86)\\Microsoft Visual Studio\\Shared\\Anaconda3_64\\lib\\site-packages\\tensorflow\\python\\framework\\dtypes.py:528: FutureWarning: Passing (type, 1) or '1type' as a synonym of type is deprecated; in a future version of numpy, it will be understood as (type, (1,)) / '(1,)type'.\n",
      "  _np_qint16 = np.dtype([(\"qint16\", np.int16, 1)])\n",
      "C:\\Program Files (x86)\\Microsoft Visual Studio\\Shared\\Anaconda3_64\\lib\\site-packages\\tensorflow\\python\\framework\\dtypes.py:529: FutureWarning: Passing (type, 1) or '1type' as a synonym of type is deprecated; in a future version of numpy, it will be understood as (type, (1,)) / '(1,)type'.\n",
      "  _np_quint16 = np.dtype([(\"quint16\", np.uint16, 1)])\n",
      "C:\\Program Files (x86)\\Microsoft Visual Studio\\Shared\\Anaconda3_64\\lib\\site-packages\\tensorflow\\python\\framework\\dtypes.py:530: FutureWarning: Passing (type, 1) or '1type' as a synonym of type is deprecated; in a future version of numpy, it will be understood as (type, (1,)) / '(1,)type'.\n",
      "  _np_qint32 = np.dtype([(\"qint32\", np.int32, 1)])\n",
      "C:\\Program Files (x86)\\Microsoft Visual Studio\\Shared\\Anaconda3_64\\lib\\site-packages\\tensorflow\\python\\framework\\dtypes.py:535: FutureWarning: Passing (type, 1) or '1type' as a synonym of type is deprecated; in a future version of numpy, it will be understood as (type, (1,)) / '(1,)type'.\n",
      "  np_resource = np.dtype([(\"resource\", np.ubyte, 1)])\n"
     ]
    }
   ],
   "source": [
    "import keras"
   ]
  },
  {
   "cell_type": "code",
   "execution_count": 237,
   "metadata": {},
   "outputs": [
    {
     "name": "stderr",
     "output_type": "stream",
     "text": [
      "Using TensorFlow backend.\n"
     ]
    }
   ],
   "source": [
    "from keras import Sequential\n",
    "from keras.layers import Dense\n",
    "from keras.layers import Dropout\n",
    "from keras.layers import BatchNormalization"
   ]
  },
  {
   "cell_type": "code",
   "execution_count": 238,
   "metadata": {},
   "outputs": [
    {
     "name": "stderr",
     "output_type": "stream",
     "text": [
      "WARNING: Logging before flag parsing goes to stderr.\n",
      "W0901 21:08:55.948051 109008 deprecation_wrapper.py:119] From C:\\Program Files (x86)\\Microsoft Visual Studio\\Shared\\Anaconda3_64\\lib\\site-packages\\keras\\backend\\tensorflow_backend.py:66: The name tf.get_default_graph is deprecated. Please use tf.compat.v1.get_default_graph instead.\n",
      "\n"
     ]
    }
   ],
   "source": [
    "classifier = Sequential()\n",
    "#First Hidden Layer\n",
    "classifier.add(BatchNormalization())\n",
    "classifier.add(Dense(256, activation='relu', kernel_initializer='random_normal', input_dim=37))\n",
    "classifier.add(Dropout(rate=0.25))\n",
    "#Second  Hidden Layer\n",
    "classifier.add(BatchNormalization())\n",
    "classifier.add(Dense(128, activation='relu', kernel_initializer='random_normal'))\n",
    "classifier.add(Dropout(rate=0.25))\n",
    "#Second  Hidden Layer\n",
    "classifier.add(BatchNormalization())\n",
    "classifier.add(Dense(64, activation='relu', kernel_initializer='random_normal'))\n",
    "classifier.add(Dropout(rate=0.25))\n",
    "#Second  Hidden Layer\n",
    "classifier.add(BatchNormalization())\n",
    "classifier.add(Dense(32, activation='relu', kernel_initializer='random_normal'))\n",
    "classifier.add(Dropout(rate=0.25))\n",
    "#Second  Hidden Layer\n",
    "classifier.add(BatchNormalization())\n",
    "classifier.add(Dense(16, activation='relu', kernel_initializer='random_normal'))\n",
    "classifier.add(Dropout(rate=0.25))\n",
    "#Output Layer\n",
    "classifier.add(Dense(1, activation='sigmoid', kernel_initializer='random_normal'))"
   ]
  },
  {
   "cell_type": "code",
   "execution_count": 239,
   "metadata": {},
   "outputs": [
    {
     "name": "stderr",
     "output_type": "stream",
     "text": [
      "W0901 21:08:55.971989 109008 deprecation_wrapper.py:119] From C:\\Program Files (x86)\\Microsoft Visual Studio\\Shared\\Anaconda3_64\\lib\\site-packages\\keras\\optimizers.py:793: The name tf.train.Optimizer is deprecated. Please use tf.compat.v1.train.Optimizer instead.\n",
      "\n"
     ]
    }
   ],
   "source": [
    "#Compiling the neural network\n",
    "classifier.compile(optimizer ='adam',loss='binary_crossentropy', metrics =['accuracy'])"
   ]
  },
  {
   "cell_type": "code",
   "execution_count": 240,
   "metadata": {},
   "outputs": [
    {
     "name": "stderr",
     "output_type": "stream",
     "text": [
      "W0901 21:08:57.213153 109008 deprecation_wrapper.py:119] From C:\\Program Files (x86)\\Microsoft Visual Studio\\Shared\\Anaconda3_64\\lib\\site-packages\\keras\\backend\\tensorflow_backend.py:541: The name tf.placeholder is deprecated. Please use tf.compat.v1.placeholder instead.\n",
      "\n",
      "W0901 21:08:57.282967 109008 deprecation_wrapper.py:119] From C:\\Program Files (x86)\\Microsoft Visual Studio\\Shared\\Anaconda3_64\\lib\\site-packages\\keras\\backend\\tensorflow_backend.py:148: The name tf.placeholder_with_default is deprecated. Please use tf.compat.v1.placeholder_with_default instead.\n",
      "\n",
      "W0901 21:08:57.301917 109008 deprecation_wrapper.py:119] From C:\\Program Files (x86)\\Microsoft Visual Studio\\Shared\\Anaconda3_64\\lib\\site-packages\\keras\\backend\\tensorflow_backend.py:4409: The name tf.random_normal is deprecated. Please use tf.random.normal instead.\n",
      "\n",
      "W0901 21:08:57.329843 109008 deprecation.py:506] From C:\\Program Files (x86)\\Microsoft Visual Studio\\Shared\\Anaconda3_64\\lib\\site-packages\\keras\\backend\\tensorflow_backend.py:3733: calling dropout (from tensorflow.python.ops.nn_ops) with keep_prob is deprecated and will be removed in a future version.\n",
      "Instructions for updating:\n",
      "Please use `rate` instead of `keep_prob`. Rate should be set to `rate = 1 - keep_prob`.\n",
      "W0901 21:08:57.721834 109008 deprecation_wrapper.py:119] From C:\\Program Files (x86)\\Microsoft Visual Studio\\Shared\\Anaconda3_64\\lib\\site-packages\\keras\\backend\\tensorflow_backend.py:3657: The name tf.log is deprecated. Please use tf.math.log instead.\n",
      "\n",
      "W0901 21:08:57.726784 109008 deprecation.py:323] From C:\\Program Files (x86)\\Microsoft Visual Studio\\Shared\\Anaconda3_64\\lib\\site-packages\\tensorflow\\python\\ops\\nn_impl.py:180: add_dispatch_support.<locals>.wrapper (from tensorflow.python.ops.array_ops) is deprecated and will be removed in a future version.\n",
      "Instructions for updating:\n",
      "Use tf.where in 2.0, which has the same broadcast rule as np.where\n"
     ]
    },
    {
     "name": "stdout",
     "output_type": "stream",
     "text": [
      "Epoch 1/10\n",
      "361726/361726 [==============================] - 38s 106us/step - loss: 0.5320 - acc: 0.7381\n",
      "Epoch 2/10\n",
      "361726/361726 [==============================] - 40s 111us/step - loss: 0.5041 - acc: 0.7555\n",
      "Epoch 3/10\n",
      "361726/361726 [==============================] - 41s 112us/step - loss: 0.4927 - acc: 0.7636\n",
      "Epoch 4/10\n",
      "361726/361726 [==============================] - 39s 108us/step - loss: 0.4874 - acc: 0.7661\n",
      "Epoch 5/10\n",
      "361726/361726 [==============================] - 40s 111us/step - loss: 0.4830 - acc: 0.7693\n",
      "Epoch 6/10\n",
      "361726/361726 [==============================] - 41s 113us/step - loss: 0.4801 - acc: 0.7715\n",
      "Epoch 7/10\n",
      "361726/361726 [==============================] - 62s 172us/step - loss: 0.4772 - acc: 0.7740\n",
      "Epoch 8/10\n",
      "361726/361726 [==============================] - 59s 163us/step - loss: 0.4732 - acc: 0.7766\n",
      "Epoch 9/10\n",
      "361726/361726 [==============================] - 60s 165us/step - loss: 0.4732 - acc: 0.7773\n",
      "Epoch 10/10\n",
      "361726/361726 [==============================] - 59s 164us/step - loss: 0.4699 - acc: 0.7792\n"
     ]
    },
    {
     "data": {
      "text/plain": [
       "<keras.callbacks.History at 0x1d90ac95c88>"
      ]
     },
     "execution_count": 240,
     "metadata": {},
     "output_type": "execute_result"
    }
   ],
   "source": [
    "#Fitting the data to the training dataset\n",
    "classifier.fit(X_train,y_train, batch_size=50, epochs=10)"
   ]
  },
  {
   "cell_type": "code",
   "execution_count": 241,
   "metadata": {},
   "outputs": [
    {
     "name": "stdout",
     "output_type": "stream",
     "text": [
      "47380/47380 [==============================] - 5s 97us/step\n"
     ]
    },
    {
     "data": {
      "text/plain": [
       "[0.37107808865314296, 0.9422118968478533]"
      ]
     },
     "execution_count": 241,
     "metadata": {},
     "output_type": "execute_result"
    }
   ],
   "source": [
    "classifier.evaluate(X_val,y_val,batch_size= 20,verbose=1)"
   ]
  },
  {
   "cell_type": "code",
   "execution_count": 242,
   "metadata": {},
   "outputs": [],
   "source": [
    "y_pred_dnn = classifier.predict(test_orig)\n",
    "labels = (y_pred_dnn > 0.5).astype(np.int)"
   ]
  },
  {
   "cell_type": "code",
   "execution_count": 89,
   "metadata": {},
   "outputs": [],
   "source": [
    "#For multiclass classification\n",
    "#probas = np.array([[0.4, 0.1, 0.5],[0.7, 0.2, 0.1],[0.3, 0.4, 0.3]])\n",
    "# labels = np.argmax(probas, axis=-1)    \n",
    "# print(labels)"
   ]
  },
  {
   "cell_type": "code",
   "execution_count": 243,
   "metadata": {},
   "outputs": [],
   "source": [
    "data = pd.DataFrame(columns=['impression_id','is_click'])\n",
    "data['impression_id'] = impression_id\n",
    "data['is_click'] = labels\n",
    "data.to_csv(\"DNNClassifier-2.csv\", index = False )\n",
    "#print(test_orig['loan_id'])"
   ]
  },
  {
   "cell_type": "code",
   "execution_count": 314,
   "metadata": {},
   "outputs": [
    {
     "data": {
      "text/plain": [
       "array([[1],\n",
       "       [0],\n",
       "       [1],\n",
       "       ...,\n",
       "       [1],\n",
       "       [1],\n",
       "       [1]])"
      ]
     },
     "execution_count": 314,
     "metadata": {},
     "output_type": "execute_result"
    }
   ],
   "source": [
    "labels"
   ]
  },
  {
   "cell_type": "code",
   "execution_count": null,
   "metadata": {},
   "outputs": [],
   "source": []
  }
 ],
 "metadata": {
  "kernelspec": {
   "display_name": "Python 3",
   "language": "python",
   "name": "python3"
  },
  "language_info": {
   "codemirror_mode": {
    "name": "ipython",
    "version": 3
   },
   "file_extension": ".py",
   "mimetype": "text/x-python",
   "name": "python",
   "nbconvert_exporter": "python",
   "pygments_lexer": "ipython3",
   "version": "3.6.5"
  }
 },
 "nbformat": 4,
 "nbformat_minor": 2
}
